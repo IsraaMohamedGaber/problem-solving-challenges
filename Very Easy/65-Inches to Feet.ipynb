{
 "cells": [
  {
   "cell_type": "markdown",
   "id": "63d7b4b2",
   "metadata": {},
   "source": [
    "Inches to Feet\n"
   ]
  },
  {
   "cell_type": "markdown",
   "id": "f83a5b80",
   "metadata": {},
   "source": [
    "Problem Source"
   ]
  },
  {
   "cell_type": "markdown",
   "id": "7bf662e7",
   "metadata": {},
   "source": [
    "http://edabit.com/challenge/LRevQqmaH78mwyYXi"
   ]
  },
  {
   "cell_type": "code",
   "execution_count": 1,
   "id": "16011b5a",
   "metadata": {},
   "outputs": [],
   "source": [
    "def inches_to_feet(inches):\n",
    "    return inches / 12"
   ]
  },
  {
   "cell_type": "code",
   "execution_count": 2,
   "id": "6962585f",
   "metadata": {},
   "outputs": [
    {
     "data": {
      "text/plain": [
       "27.0"
      ]
     },
     "execution_count": 2,
     "metadata": {},
     "output_type": "execute_result"
    }
   ],
   "source": [
    "inches_to_feet(324)"
   ]
  },
  {
   "cell_type": "code",
   "execution_count": 3,
   "id": "98030b41",
   "metadata": {},
   "outputs": [
    {
     "data": {
      "text/plain": [
       "1.0"
      ]
     },
     "execution_count": 3,
     "metadata": {},
     "output_type": "execute_result"
    }
   ],
   "source": [
    "inches_to_feet(12)"
   ]
  },
  {
   "cell_type": "code",
   "execution_count": 4,
   "id": "f3c7fb1f",
   "metadata": {},
   "outputs": [
    {
     "data": {
      "text/plain": [
       "3.0"
      ]
     },
     "execution_count": 4,
     "metadata": {},
     "output_type": "execute_result"
    }
   ],
   "source": [
    "inches_to_feet(36)"
   ]
  },
  {
   "cell_type": "code",
   "execution_count": null,
   "id": "3dc36e02",
   "metadata": {},
   "outputs": [],
   "source": []
  }
 ],
 "metadata": {
  "kernelspec": {
   "display_name": "base",
   "language": "python",
   "name": "python3"
  },
  "language_info": {
   "codemirror_mode": {
    "name": "ipython",
    "version": 3
   },
   "file_extension": ".py",
   "mimetype": "text/x-python",
   "name": "python",
   "nbconvert_exporter": "python",
   "pygments_lexer": "ipython3",
   "version": "3.9.12"
  }
 },
 "nbformat": 4,
 "nbformat_minor": 5
}
