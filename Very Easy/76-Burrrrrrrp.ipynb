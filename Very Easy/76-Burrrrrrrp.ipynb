{
 "cells": [
  {
   "cell_type": "markdown",
   "id": "70a2e4e2",
   "metadata": {},
   "source": [
    "Burrrrrrrp\n"
   ]
  },
  {
   "cell_type": "markdown",
   "id": "3ecaa2e5",
   "metadata": {},
   "source": [
    "Problem Source"
   ]
  },
  {
   "cell_type": "markdown",
   "id": "ecfb64bc",
   "metadata": {},
   "source": [
    "https://edabit.com/challenge/irb783PpFTDqnumhN"
   ]
  },
  {
   "cell_type": "code",
   "execution_count": 1,
   "id": "621984dd",
   "metadata": {},
   "outputs": [],
   "source": [
    "def long_burp(num):\n",
    "    return \"Bu\" + \"r\" * num + \"p\""
   ]
  },
  {
   "cell_type": "code",
   "execution_count": 2,
   "id": "d9320b5e",
   "metadata": {},
   "outputs": [
    {
     "data": {
      "text/plain": [
       "'Burrrp'"
      ]
     },
     "execution_count": 2,
     "metadata": {},
     "output_type": "execute_result"
    }
   ],
   "source": [
    "long_burp(3)"
   ]
  },
  {
   "cell_type": "code",
   "execution_count": 3,
   "id": "ca350773",
   "metadata": {},
   "outputs": [
    {
     "data": {
      "text/plain": [
       "'Burrrrrp'"
      ]
     },
     "execution_count": 3,
     "metadata": {},
     "output_type": "execute_result"
    }
   ],
   "source": [
    "long_burp(5)"
   ]
  },
  {
   "cell_type": "code",
   "execution_count": 4,
   "id": "462ce4ca",
   "metadata": {},
   "outputs": [
    {
     "data": {
      "text/plain": [
       "'Burrrrrrrrrp'"
      ]
     },
     "execution_count": 4,
     "metadata": {},
     "output_type": "execute_result"
    }
   ],
   "source": [
    "long_burp(9)"
   ]
  },
  {
   "cell_type": "code",
   "execution_count": null,
   "id": "e42f29f5",
   "metadata": {},
   "outputs": [],
   "source": []
  }
 ],
 "metadata": {
  "kernelspec": {
   "display_name": "base",
   "language": "python",
   "name": "python3"
  },
  "language_info": {
   "codemirror_mode": {
    "name": "ipython",
    "version": 3
   },
   "file_extension": ".py",
   "mimetype": "text/x-python",
   "name": "python",
   "nbconvert_exporter": "python",
   "pygments_lexer": "ipython3",
   "version": "3.9.12"
  }
 },
 "nbformat": 4,
 "nbformat_minor": 5
}
