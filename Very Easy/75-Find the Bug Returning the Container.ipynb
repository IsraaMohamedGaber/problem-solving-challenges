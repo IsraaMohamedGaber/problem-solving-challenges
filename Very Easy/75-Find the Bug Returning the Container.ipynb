{
 "cells": [
  {
   "cell_type": "markdown",
   "id": "ff2ab781",
   "metadata": {},
   "source": [
    "Find the Bug: Returning the Container\n"
   ]
  },
  {
   "cell_type": "markdown",
   "id": "f436e5d9",
   "metadata": {},
   "source": [
    "Problem Source"
   ]
  },
  {
   "cell_type": "markdown",
   "id": "96bf4451",
   "metadata": {},
   "source": [
    "https://edabit.com/challenge/Ne2LgRan7bZWs7BS7"
   ]
  },
  {
   "cell_type": "code",
   "execution_count": 1,
   "id": "0e96b3fb",
   "metadata": {},
   "outputs": [],
   "source": [
    "# #Fix this code:\n",
    "# def get_container(product):\n",
    "# \tmatches = {\n",
    "# \t\"Bread\" : \"bottle\",\n",
    "# \t\"Milk\" : \"bottle\",\n",
    "# \t\"Beer\" : \"bottle\",\n",
    "# \t\"Eggs\" : \"carton\",\n",
    "# \t\"Cerials\" : \"box\",\n",
    "# \t\"Candy\" : None,\n",
    "# \t\"Cheese\" : None\n",
    "# \t}\n",
    "# \treturn matches[product]"
   ]
  },
  {
   "cell_type": "code",
   "execution_count": 2,
   "id": "9c9a4630",
   "metadata": {},
   "outputs": [],
   "source": [
    "#Fix this code:\n",
    "def get_container(product):\n",
    "\tmatches = {\n",
    "\t    \"Bread\" : \"bag\",\n",
    "        \"Milk\" : \"bottle\",\n",
    "        \"Beer\" : \"bottle\",\n",
    "        \"Eggs\" : \"carton\",\n",
    "        \"Cereals\" : \"box\",\n",
    "        \"Candy\" : \"plastic\",\n",
    "        \"Cheese\" : None\n",
    "\t}\n",
    "\treturn matches[product]"
   ]
  },
  {
   "cell_type": "code",
   "execution_count": 3,
   "id": "046335a8",
   "metadata": {},
   "outputs": [
    {
     "data": {
      "text/plain": [
       "'bag'"
      ]
     },
     "execution_count": 3,
     "metadata": {},
     "output_type": "execute_result"
    }
   ],
   "source": [
    "get_container(\"Bread\")"
   ]
  },
  {
   "cell_type": "code",
   "execution_count": 4,
   "id": "9c898fcd",
   "metadata": {},
   "outputs": [
    {
     "data": {
      "text/plain": [
       "'bottle'"
      ]
     },
     "execution_count": 4,
     "metadata": {},
     "output_type": "execute_result"
    }
   ],
   "source": [
    "get_container(\"Beer\") "
   ]
  },
  {
   "cell_type": "code",
   "execution_count": 5,
   "id": "c839e5c0",
   "metadata": {},
   "outputs": [
    {
     "data": {
      "text/plain": [
       "'plastic'"
      ]
     },
     "execution_count": 5,
     "metadata": {},
     "output_type": "execute_result"
    }
   ],
   "source": [
    "get_container(\"Candy\") "
   ]
  },
  {
   "cell_type": "code",
   "execution_count": 7,
   "id": "0b61389d",
   "metadata": {},
   "outputs": [],
   "source": [
    "get_container(\"Cheese\")"
   ]
  },
  {
   "cell_type": "code",
   "execution_count": null,
   "id": "82d79598",
   "metadata": {},
   "outputs": [],
   "source": []
  }
 ],
 "metadata": {
  "kernelspec": {
   "display_name": "base",
   "language": "python",
   "name": "python3"
  },
  "language_info": {
   "codemirror_mode": {
    "name": "ipython",
    "version": 3
   },
   "file_extension": ".py",
   "mimetype": "text/x-python",
   "name": "python",
   "nbconvert_exporter": "python",
   "pygments_lexer": "ipython3",
   "version": "3.9.12"
  }
 },
 "nbformat": 4,
 "nbformat_minor": 5
}
