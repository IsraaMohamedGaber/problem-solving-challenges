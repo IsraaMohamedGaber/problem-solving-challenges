{
 "cells": [
  {
   "cell_type": "markdown",
   "id": "e7ee2bd5",
   "metadata": {},
   "source": [
    "On/Off Switches\n"
   ]
  },
  {
   "cell_type": "markdown",
   "id": "bb242c41",
   "metadata": {},
   "source": [
    "Problem Source"
   ]
  },
  {
   "cell_type": "markdown",
   "id": "bf22714a",
   "metadata": {},
   "source": [
    "https://edabit.com/challenge/HQXRKxQXECFTCFTtn"
   ]
  },
  {
   "cell_type": "code",
   "execution_count": 1,
   "id": "9ca9f7c8",
   "metadata": {},
   "outputs": [],
   "source": [
    "def pos_com(num):\n",
    "    return 2 ** num "
   ]
  },
  {
   "cell_type": "code",
   "execution_count": 2,
   "id": "c116abb4",
   "metadata": {},
   "outputs": [
    {
     "data": {
      "text/plain": [
       "2"
      ]
     },
     "execution_count": 2,
     "metadata": {},
     "output_type": "execute_result"
    }
   ],
   "source": [
    "pos_com(1)"
   ]
  },
  {
   "cell_type": "code",
   "execution_count": 3,
   "id": "e3e310ef",
   "metadata": {},
   "outputs": [
    {
     "data": {
      "text/plain": [
       "8"
      ]
     },
     "execution_count": 3,
     "metadata": {},
     "output_type": "execute_result"
    }
   ],
   "source": [
    "pos_com(3)"
   ]
  },
  {
   "cell_type": "code",
   "execution_count": 4,
   "id": "c87fb8d8",
   "metadata": {},
   "outputs": [
    {
     "data": {
      "text/plain": [
       "1024"
      ]
     },
     "execution_count": 4,
     "metadata": {},
     "output_type": "execute_result"
    }
   ],
   "source": [
    "pos_com(10)"
   ]
  },
  {
   "cell_type": "code",
   "execution_count": null,
   "id": "11e28325",
   "metadata": {},
   "outputs": [],
   "source": []
  }
 ],
 "metadata": {
  "kernelspec": {
   "display_name": "base",
   "language": "python",
   "name": "python3"
  },
  "language_info": {
   "codemirror_mode": {
    "name": "ipython",
    "version": 3
   },
   "file_extension": ".py",
   "mimetype": "text/x-python",
   "name": "python",
   "nbconvert_exporter": "python",
   "pygments_lexer": "ipython3",
   "version": "3.9.12"
  }
 },
 "nbformat": 4,
 "nbformat_minor": 5
}
