{
 "cells": [
  {
   "cell_type": "markdown",
   "id": "f7581eba",
   "metadata": {},
   "source": [
    "Check if a List Contains a Given Number\n"
   ]
  },
  {
   "cell_type": "markdown",
   "id": "05853173",
   "metadata": {},
   "source": [
    "Problem Source"
   ]
  },
  {
   "cell_type": "markdown",
   "id": "24bfa216",
   "metadata": {},
   "source": [
    "https://edabit.com/challenge/ZGezQDXsturZGpQcS"
   ]
  },
  {
   "cell_type": "code",
   "execution_count": 1,
   "id": "40dcc76b",
   "metadata": {},
   "outputs": [],
   "source": [
    "def check(lst, el):\n",
    "    if el in lst:\n",
    "        return True \n",
    "    else:\n",
    "        return False    "
   ]
  },
  {
   "cell_type": "code",
   "execution_count": 3,
   "id": "548cf823",
   "metadata": {},
   "outputs": [
    {
     "data": {
      "text/plain": [
       "True"
      ]
     },
     "execution_count": 3,
     "metadata": {},
     "output_type": "execute_result"
    }
   ],
   "source": [
    "check([1, 2, 3, 4, 5], 3) "
   ]
  },
  {
   "cell_type": "code",
   "execution_count": 4,
   "id": "91e30c6d",
   "metadata": {},
   "outputs": [
    {
     "data": {
      "text/plain": [
       "False"
      ]
     },
     "execution_count": 4,
     "metadata": {},
     "output_type": "execute_result"
    }
   ],
   "source": [
    "check([1, 1, 2, 1, 1], 3) "
   ]
  },
  {
   "cell_type": "code",
   "execution_count": 5,
   "id": "c00caf1c",
   "metadata": {},
   "outputs": [
    {
     "data": {
      "text/plain": [
       "True"
      ]
     },
     "execution_count": 5,
     "metadata": {},
     "output_type": "execute_result"
    }
   ],
   "source": [
    "check([5, 5, 5, 6], 5) "
   ]
  },
  {
   "cell_type": "code",
   "execution_count": 6,
   "id": "a5849a48",
   "metadata": {},
   "outputs": [
    {
     "data": {
      "text/plain": [
       "False"
      ]
     },
     "execution_count": 6,
     "metadata": {},
     "output_type": "execute_result"
    }
   ],
   "source": [
    "check([], 5)"
   ]
  },
  {
   "cell_type": "code",
   "execution_count": null,
   "id": "3db52cf1",
   "metadata": {},
   "outputs": [],
   "source": []
  }
 ],
 "metadata": {
  "kernelspec": {
   "display_name": "base",
   "language": "python",
   "name": "python3"
  },
  "language_info": {
   "codemirror_mode": {
    "name": "ipython",
    "version": 3
   },
   "file_extension": ".py",
   "mimetype": "text/x-python",
   "name": "python",
   "nbconvert_exporter": "python",
   "pygments_lexer": "ipython3",
   "version": "3.9.12"
  }
 },
 "nbformat": 4,
 "nbformat_minor": 5
}
