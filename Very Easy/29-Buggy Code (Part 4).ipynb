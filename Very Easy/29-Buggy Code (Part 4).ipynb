{
 "cells": [
  {
   "cell_type": "markdown",
   "id": "f570dea6",
   "metadata": {},
   "source": [
    "Buggy Code (Part 4)\n"
   ]
  },
  {
   "cell_type": "markdown",
   "id": "da952f5e",
   "metadata": {},
   "source": [
    "Problem Source"
   ]
  },
  {
   "cell_type": "markdown",
   "id": "96f2bf76",
   "metadata": {},
   "source": [
    "https://edabit.com/challenge/2HhmMdGPSpJ8EFrZe"
   ]
  },
  {
   "cell_type": "code",
   "execution_count": 1,
   "id": "f68013d2",
   "metadata": {},
   "outputs": [],
   "source": [
    "def greeting(name):\n",
    "\treturn \"Hello, \" + name + \"!\"\n",
    "\tif name == \"Mubashir\":\n",
    "\t\treturn \"Hello, my Love!\""
   ]
  },
  {
   "cell_type": "code",
   "execution_count": 2,
   "id": "c6f043af",
   "metadata": {},
   "outputs": [
    {
     "data": {
      "text/plain": [
       "'Hello, Matt!'"
      ]
     },
     "execution_count": 2,
     "metadata": {},
     "output_type": "execute_result"
    }
   ],
   "source": [
    "greeting(\"Matt\")"
   ]
  },
  {
   "cell_type": "code",
   "execution_count": 3,
   "id": "8a5c3f40",
   "metadata": {},
   "outputs": [
    {
     "data": {
      "text/plain": [
       "'Hello, Helen!'"
      ]
     },
     "execution_count": 3,
     "metadata": {},
     "output_type": "execute_result"
    }
   ],
   "source": [
    "greeting(\"Helen\")"
   ]
  },
  {
   "cell_type": "code",
   "execution_count": 4,
   "id": "9f17e57d",
   "metadata": {},
   "outputs": [
    {
     "data": {
      "text/plain": [
       "'Hello, Mubashir!'"
      ]
     },
     "execution_count": 4,
     "metadata": {},
     "output_type": "execute_result"
    }
   ],
   "source": [
    "greeting(\"Mubashir\")"
   ]
  },
  {
   "cell_type": "code",
   "execution_count": null,
   "id": "a9e06540",
   "metadata": {},
   "outputs": [],
   "source": []
  }
 ],
 "metadata": {
  "kernelspec": {
   "display_name": "base",
   "language": "python",
   "name": "python3"
  },
  "language_info": {
   "codemirror_mode": {
    "name": "ipython",
    "version": 3
   },
   "file_extension": ".py",
   "mimetype": "text/x-python",
   "name": "python",
   "nbconvert_exporter": "python",
   "pygments_lexer": "ipython3",
   "version": "3.9.12"
  }
 },
 "nbformat": 4,
 "nbformat_minor": 5
}
