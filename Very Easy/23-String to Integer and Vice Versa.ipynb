{
 "cells": [
  {
   "cell_type": "markdown",
   "id": "c162c8e4",
   "metadata": {},
   "source": [
    "String to Integer and Vice Versa\n"
   ]
  },
  {
   "cell_type": "markdown",
   "id": "88edb8b5",
   "metadata": {},
   "source": [
    "Problem Source"
   ]
  },
  {
   "cell_type": "markdown",
   "id": "7bd4b9c2",
   "metadata": {},
   "source": [
    "https://edabit.com/challenge/WKJwo2xDNjKxwtGoH"
   ]
  },
  {
   "cell_type": "code",
   "execution_count": 1,
   "id": "f1032849",
   "metadata": {},
   "outputs": [],
   "source": [
    "def to_int(txt):\n",
    "    if type(txt) == int:\n",
    "        return str(txt)\n",
    "    else:\n",
    "        return int(txt)"
   ]
  },
  {
   "cell_type": "code",
   "execution_count": 2,
   "id": "ba560fb2",
   "metadata": {},
   "outputs": [],
   "source": [
    "def to_str(num):\n",
    "    if type(num) == str:\n",
    "        return int(num)\n",
    "    else:\n",
    "        return str(num)"
   ]
  },
  {
   "cell_type": "code",
   "execution_count": 3,
   "id": "b58514f2",
   "metadata": {},
   "outputs": [
    {
     "data": {
      "text/plain": [
       "77"
      ]
     },
     "execution_count": 3,
     "metadata": {},
     "output_type": "execute_result"
    }
   ],
   "source": [
    "to_int(\"77\") "
   ]
  },
  {
   "cell_type": "code",
   "execution_count": 4,
   "id": "0fb2b32b",
   "metadata": {},
   "outputs": [
    {
     "data": {
      "text/plain": [
       "532"
      ]
     },
     "execution_count": 4,
     "metadata": {},
     "output_type": "execute_result"
    }
   ],
   "source": [
    "to_int(\"532\") "
   ]
  },
  {
   "cell_type": "code",
   "execution_count": 6,
   "id": "2f2ba938",
   "metadata": {},
   "outputs": [
    {
     "data": {
      "text/plain": [
       "'77'"
      ]
     },
     "execution_count": 6,
     "metadata": {},
     "output_type": "execute_result"
    }
   ],
   "source": [
    "to_str(77)\n"
   ]
  },
  {
   "cell_type": "code",
   "execution_count": 7,
   "id": "72014da0",
   "metadata": {},
   "outputs": [
    {
     "data": {
      "text/plain": [
       "'532'"
      ]
     },
     "execution_count": 7,
     "metadata": {},
     "output_type": "execute_result"
    }
   ],
   "source": [
    "to_str(532) "
   ]
  },
  {
   "cell_type": "code",
   "execution_count": null,
   "id": "e511b710",
   "metadata": {},
   "outputs": [],
   "source": []
  }
 ],
 "metadata": {
  "kernelspec": {
   "display_name": "base",
   "language": "python",
   "name": "python3"
  },
  "language_info": {
   "codemirror_mode": {
    "name": "ipython",
    "version": 3
   },
   "file_extension": ".py",
   "mimetype": "text/x-python",
   "name": "python",
   "nbconvert_exporter": "python",
   "pygments_lexer": "ipython3",
   "version": "3.9.12"
  }
 },
 "nbformat": 4,
 "nbformat_minor": 5
}
