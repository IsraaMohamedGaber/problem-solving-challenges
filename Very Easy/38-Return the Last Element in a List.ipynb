{
 "cells": [
  {
   "cell_type": "markdown",
   "id": "6963f47b",
   "metadata": {},
   "source": [
    "Return the Last Element in a List\n"
   ]
  },
  {
   "cell_type": "markdown",
   "id": "a9b23059",
   "metadata": {},
   "source": [
    "Problem Source"
   ]
  },
  {
   "cell_type": "markdown",
   "id": "c256dd7b",
   "metadata": {},
   "source": [
    "https://edabit.com/challenge/uPtuNNTuASzPZMQrW"
   ]
  },
  {
   "cell_type": "code",
   "execution_count": 1,
   "id": "0ac0e900",
   "metadata": {},
   "outputs": [],
   "source": [
    "def get_last_item(lst):\n",
    "    return lst[-1]"
   ]
  },
  {
   "cell_type": "code",
   "execution_count": 2,
   "id": "a782c551",
   "metadata": {},
   "outputs": [
    {
     "data": {
      "text/plain": [
       "3"
      ]
     },
     "execution_count": 2,
     "metadata": {},
     "output_type": "execute_result"
    }
   ],
   "source": [
    "get_last_item([1, 2, 3]) "
   ]
  },
  {
   "cell_type": "code",
   "execution_count": 3,
   "id": "dfae5dab",
   "metadata": {},
   "outputs": [
    {
     "data": {
      "text/plain": [
       "'duck'"
      ]
     },
     "execution_count": 3,
     "metadata": {},
     "output_type": "execute_result"
    }
   ],
   "source": [
    "get_last_item([\"cat\", \"dog\", \"duck\"])"
   ]
  },
  {
   "cell_type": "code",
   "execution_count": 4,
   "id": "25d099c6",
   "metadata": {},
   "outputs": [
    {
     "data": {
      "text/plain": [
       "True"
      ]
     },
     "execution_count": 4,
     "metadata": {},
     "output_type": "execute_result"
    }
   ],
   "source": [
    "get_last_item([True, False, True]) "
   ]
  },
  {
   "cell_type": "code",
   "execution_count": 5,
   "id": "708fc9d2",
   "metadata": {},
   "outputs": [
    {
     "data": {
      "text/plain": [
       "False"
      ]
     },
     "execution_count": 5,
     "metadata": {},
     "output_type": "execute_result"
    }
   ],
   "source": [
    "get_last_item([7, \"String\", False]) "
   ]
  },
  {
   "cell_type": "code",
   "execution_count": null,
   "id": "807d0976",
   "metadata": {},
   "outputs": [],
   "source": []
  }
 ],
 "metadata": {
  "kernelspec": {
   "display_name": "base",
   "language": "python",
   "name": "python3"
  },
  "language_info": {
   "codemirror_mode": {
    "name": "ipython",
    "version": 3
   },
   "file_extension": ".py",
   "mimetype": "text/x-python",
   "name": "python",
   "nbconvert_exporter": "python",
   "pygments_lexer": "ipython3",
   "version": "3.9.12"
  }
 },
 "nbformat": 4,
 "nbformat_minor": 5
}
