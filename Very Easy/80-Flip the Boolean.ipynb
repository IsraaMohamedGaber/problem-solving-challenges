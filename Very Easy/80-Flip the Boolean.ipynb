{
 "cells": [
  {
   "cell_type": "markdown",
   "id": "a480381a",
   "metadata": {},
   "source": [
    "Flip the Boolean\n"
   ]
  },
  {
   "cell_type": "markdown",
   "id": "76e42571",
   "metadata": {},
   "source": [
    "Problem Source"
   ]
  },
  {
   "cell_type": "markdown",
   "id": "83f85a13",
   "metadata": {},
   "source": [
    "https://edabit.com/challenge/jmn5FDFyLDPA4t6zP"
   ]
  },
  {
   "cell_type": "code",
   "execution_count": 2,
   "id": "63b5121c",
   "metadata": {},
   "outputs": [],
   "source": [
    "def flip_bool(b):\n",
    "    if b == True or b == 1:\n",
    "        return 0    \n",
    "    else:\n",
    "        return 1"
   ]
  },
  {
   "cell_type": "code",
   "execution_count": 3,
   "id": "8a38c362",
   "metadata": {},
   "outputs": [
    {
     "data": {
      "text/plain": [
       "0"
      ]
     },
     "execution_count": 3,
     "metadata": {},
     "output_type": "execute_result"
    }
   ],
   "source": [
    "flip_bool(True)"
   ]
  },
  {
   "cell_type": "code",
   "execution_count": 4,
   "id": "12ddb532",
   "metadata": {},
   "outputs": [
    {
     "data": {
      "text/plain": [
       "1"
      ]
     },
     "execution_count": 4,
     "metadata": {},
     "output_type": "execute_result"
    }
   ],
   "source": [
    "flip_bool(False)"
   ]
  },
  {
   "cell_type": "code",
   "execution_count": 5,
   "id": "28ea516e",
   "metadata": {},
   "outputs": [
    {
     "data": {
      "text/plain": [
       "0"
      ]
     },
     "execution_count": 5,
     "metadata": {},
     "output_type": "execute_result"
    }
   ],
   "source": [
    "flip_bool(1)"
   ]
  },
  {
   "cell_type": "code",
   "execution_count": 6,
   "id": "27ce2e15",
   "metadata": {},
   "outputs": [
    {
     "data": {
      "text/plain": [
       "1"
      ]
     },
     "execution_count": 6,
     "metadata": {},
     "output_type": "execute_result"
    }
   ],
   "source": [
    "flip_bool(0)"
   ]
  },
  {
   "cell_type": "code",
   "execution_count": null,
   "id": "55b48521",
   "metadata": {},
   "outputs": [],
   "source": []
  }
 ],
 "metadata": {
  "kernelspec": {
   "display_name": "base",
   "language": "python",
   "name": "python3"
  },
  "language_info": {
   "codemirror_mode": {
    "name": "ipython",
    "version": 3
   },
   "file_extension": ".py",
   "mimetype": "text/x-python",
   "name": "python",
   "nbconvert_exporter": "python",
   "pygments_lexer": "ipython3",
   "version": "3.9.12"
  }
 },
 "nbformat": 4,
 "nbformat_minor": 5
}
