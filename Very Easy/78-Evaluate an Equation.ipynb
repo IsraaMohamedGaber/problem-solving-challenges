{
 "cells": [
  {
   "cell_type": "markdown",
   "id": "263dc2c5",
   "metadata": {},
   "source": [
    "Evaluate an Equation\n"
   ]
  },
  {
   "cell_type": "markdown",
   "id": "ceef1eaf",
   "metadata": {},
   "source": [
    "Problem Source"
   ]
  },
  {
   "cell_type": "markdown",
   "id": "d9568210",
   "metadata": {},
   "source": [
    "https://edabit.com/challenge/QM6ZgHxvQCDX9Tzoa"
   ]
  },
  {
   "cell_type": "code",
   "execution_count": 1,
   "id": "6ad7a8d2",
   "metadata": {},
   "outputs": [],
   "source": [
    "def eq(evaluate):\n",
    "    return eval(evaluate)"
   ]
  },
  {
   "cell_type": "code",
   "execution_count": 2,
   "id": "8aed8a6d",
   "metadata": {},
   "outputs": [
    {
     "data": {
      "text/plain": [
       "3"
      ]
     },
     "execution_count": 2,
     "metadata": {},
     "output_type": "execute_result"
    }
   ],
   "source": [
    "eq(\"1+2\")"
   ]
  },
  {
   "cell_type": "code",
   "execution_count": 3,
   "id": "f3ec53fa",
   "metadata": {},
   "outputs": [
    {
     "data": {
      "text/plain": [
       "3.0"
      ]
     },
     "execution_count": 3,
     "metadata": {},
     "output_type": "execute_result"
    }
   ],
   "source": [
    "eq(\"6/(9-7)\")"
   ]
  },
  {
   "cell_type": "code",
   "execution_count": 4,
   "id": "e8e1777c",
   "metadata": {},
   "outputs": [
    {
     "data": {
      "text/plain": [
       "1"
      ]
     },
     "execution_count": 4,
     "metadata": {},
     "output_type": "execute_result"
    }
   ],
   "source": [
    "eq(\"3+2-4\")"
   ]
  },
  {
   "cell_type": "code",
   "execution_count": null,
   "id": "0a06bd69",
   "metadata": {},
   "outputs": [],
   "source": []
  }
 ],
 "metadata": {
  "kernelspec": {
   "display_name": "base",
   "language": "python",
   "name": "python3"
  },
  "language_info": {
   "codemirror_mode": {
    "name": "ipython",
    "version": 3
   },
   "file_extension": ".py",
   "mimetype": "text/x-python",
   "name": "python",
   "nbconvert_exporter": "python",
   "pygments_lexer": "ipython3",
   "version": "3.9.12"
  }
 },
 "nbformat": 4,
 "nbformat_minor": 5
}
