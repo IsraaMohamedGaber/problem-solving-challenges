{
 "cells": [
  {
   "cell_type": "markdown",
   "id": "9321a624",
   "metadata": {},
   "source": [
    "To the Power of _____\n"
   ]
  },
  {
   "cell_type": "markdown",
   "id": "f2140393",
   "metadata": {},
   "source": [
    "Problem Source"
   ]
  },
  {
   "cell_type": "markdown",
   "id": "11ef25b4",
   "metadata": {},
   "source": [
    "https://edabit.com/challenge/xWSjvoH7mEkSnqS7H"
   ]
  },
  {
   "cell_type": "code",
   "execution_count": 1,
   "id": "cba8c6e5",
   "metadata": {},
   "outputs": [],
   "source": [
    "def calculate_exponent(num, exp):\n",
    "    return num ** exp"
   ]
  },
  {
   "cell_type": "code",
   "execution_count": 2,
   "id": "978867e7",
   "metadata": {},
   "outputs": [
    {
     "data": {
      "text/plain": [
       "3125"
      ]
     },
     "execution_count": 2,
     "metadata": {},
     "output_type": "execute_result"
    }
   ],
   "source": [
    "calculate_exponent(5, 5)"
   ]
  },
  {
   "cell_type": "code",
   "execution_count": 3,
   "id": "6f6ffa61",
   "metadata": {},
   "outputs": [
    {
     "data": {
      "text/plain": [
       "10000000000"
      ]
     },
     "execution_count": 3,
     "metadata": {},
     "output_type": "execute_result"
    }
   ],
   "source": [
    "calculate_exponent(10, 10)"
   ]
  },
  {
   "cell_type": "code",
   "execution_count": 4,
   "id": "218d2a18",
   "metadata": {},
   "outputs": [
    {
     "data": {
      "text/plain": [
       "27"
      ]
     },
     "execution_count": 4,
     "metadata": {},
     "output_type": "execute_result"
    }
   ],
   "source": [
    "calculate_exponent(3, 3)"
   ]
  },
  {
   "cell_type": "code",
   "execution_count": null,
   "id": "dd9ea265",
   "metadata": {},
   "outputs": [],
   "source": []
  }
 ],
 "metadata": {
  "kernelspec": {
   "display_name": "base",
   "language": "python",
   "name": "python3"
  },
  "language_info": {
   "codemirror_mode": {
    "name": "ipython",
    "version": 3
   },
   "file_extension": ".py",
   "mimetype": "text/x-python",
   "name": "python",
   "nbconvert_exporter": "python",
   "pygments_lexer": "ipython3",
   "version": "3.9.12"
  }
 },
 "nbformat": 4,
 "nbformat_minor": 5
}
