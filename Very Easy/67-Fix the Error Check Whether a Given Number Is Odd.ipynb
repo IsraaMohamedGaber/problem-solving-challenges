{
 "cells": [
  {
   "cell_type": "markdown",
   "id": "448b1c97",
   "metadata": {},
   "source": [
    "Fix the Error: Check Whether a Given Number Is Odd\n"
   ]
  },
  {
   "cell_type": "markdown",
   "id": "e3ccbcc4",
   "metadata": {},
   "source": [
    "Problem Source"
   ]
  },
  {
   "cell_type": "markdown",
   "id": "eba5c6d6",
   "metadata": {},
   "source": [
    "https://edabit.com/challenge/jcAfvJxEqA2fuE2qZ"
   ]
  },
  {
   "cell_type": "code",
   "execution_count": 1,
   "id": "ee3874b2",
   "metadata": {},
   "outputs": [],
   "source": [
    "# def is_odd(num):\n",
    "#   return num % 1 == 1 or 2"
   ]
  },
  {
   "cell_type": "code",
   "execution_count": 2,
   "id": "ca393562",
   "metadata": {},
   "outputs": [],
   "source": [
    "def is_odd(num):\n",
    "  return num % 2 == 1"
   ]
  },
  {
   "cell_type": "code",
   "execution_count": 3,
   "id": "bcd7f6ba",
   "metadata": {},
   "outputs": [
    {
     "data": {
      "text/plain": [
       "True"
      ]
     },
     "execution_count": 3,
     "metadata": {},
     "output_type": "execute_result"
    }
   ],
   "source": [
    "is_odd(-5)"
   ]
  },
  {
   "cell_type": "code",
   "execution_count": 4,
   "id": "3130268f",
   "metadata": {},
   "outputs": [
    {
     "data": {
      "text/plain": [
       "True"
      ]
     },
     "execution_count": 4,
     "metadata": {},
     "output_type": "execute_result"
    }
   ],
   "source": [
    "is_odd(25)"
   ]
  },
  {
   "cell_type": "code",
   "execution_count": 5,
   "id": "d3d59104",
   "metadata": {},
   "outputs": [
    {
     "data": {
      "text/plain": [
       "False"
      ]
     },
     "execution_count": 5,
     "metadata": {},
     "output_type": "execute_result"
    }
   ],
   "source": [
    "is_odd(0)"
   ]
  },
  {
   "cell_type": "code",
   "execution_count": null,
   "id": "3c0b5cd2",
   "metadata": {},
   "outputs": [],
   "source": []
  }
 ],
 "metadata": {
  "kernelspec": {
   "display_name": "base",
   "language": "python",
   "name": "python3"
  },
  "language_info": {
   "codemirror_mode": {
    "name": "ipython",
    "version": 3
   },
   "file_extension": ".py",
   "mimetype": "text/x-python",
   "name": "python",
   "nbconvert_exporter": "python",
   "pygments_lexer": "ipython3",
   "version": "3.9.12"
  }
 },
 "nbformat": 4,
 "nbformat_minor": 5
}
