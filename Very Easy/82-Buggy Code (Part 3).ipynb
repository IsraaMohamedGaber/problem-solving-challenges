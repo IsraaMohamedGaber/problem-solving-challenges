{
 "cells": [
  {
   "cell_type": "markdown",
   "id": "948d967c",
   "metadata": {},
   "source": [
    "Buggy Code (Part 3)\n"
   ]
  },
  {
   "cell_type": "markdown",
   "id": "cd567d6d",
   "metadata": {},
   "source": [
    "Problem Source"
   ]
  },
  {
   "cell_type": "markdown",
   "id": "4f10c5ad",
   "metadata": {},
   "source": [
    "https://edabit.com/challenge/Qei2FyKLmSCbYDkbm"
   ]
  },
  {
   "cell_type": "code",
   "execution_count": 1,
   "id": "211d5257",
   "metadata": {},
   "outputs": [],
   "source": [
    "# def sum_lst(lst):\n",
    "# \ttotal\n",
    "# \tfor i in range(0,lst):\n",
    "# \t\ttotal += lst[i]\n",
    "#   return total"
   ]
  },
  {
   "cell_type": "code",
   "execution_count": 2,
   "id": "5d348581",
   "metadata": {},
   "outputs": [],
   "source": [
    "def sum_lst(lst):   \n",
    "    total = 0\n",
    "    for i in range(len(lst)):\n",
    "        total += lst[i]\n",
    "    return total\n"
   ]
  },
  {
   "cell_type": "code",
   "execution_count": 3,
   "id": "6ee46ae9",
   "metadata": {},
   "outputs": [
    {
     "data": {
      "text/plain": [
       "15"
      ]
     },
     "execution_count": 3,
     "metadata": {},
     "output_type": "execute_result"
    }
   ],
   "source": [
    "sum_lst([1, 2, 3, 4, 5]) "
   ]
  },
  {
   "cell_type": "code",
   "execution_count": 4,
   "id": "a8936b68",
   "metadata": {},
   "outputs": [
    {
     "data": {
      "text/plain": [
       "0"
      ]
     },
     "execution_count": 4,
     "metadata": {},
     "output_type": "execute_result"
    }
   ],
   "source": [
    "sum_lst([-1, 0, 1])"
   ]
  },
  {
   "cell_type": "code",
   "execution_count": 5,
   "id": "055efbaf",
   "metadata": {},
   "outputs": [
    {
     "data": {
      "text/plain": [
       "24"
      ]
     },
     "execution_count": 5,
     "metadata": {},
     "output_type": "execute_result"
    }
   ],
   "source": [
    "sum_lst([0, 4, 8, 12]) "
   ]
  },
  {
   "cell_type": "code",
   "execution_count": null,
   "id": "0a2c2b52",
   "metadata": {},
   "outputs": [],
   "source": []
  }
 ],
 "metadata": {
  "kernelspec": {
   "display_name": "base",
   "language": "python",
   "name": "python3"
  },
  "language_info": {
   "codemirror_mode": {
    "name": "ipython",
    "version": 3
   },
   "file_extension": ".py",
   "mimetype": "text/x-python",
   "name": "python",
   "nbconvert_exporter": "python",
   "pygments_lexer": "ipython3",
   "version": "3.9.12"
  }
 },
 "nbformat": 4,
 "nbformat_minor": 5
}
