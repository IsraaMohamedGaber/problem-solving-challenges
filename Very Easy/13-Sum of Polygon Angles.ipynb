{
 "cells": [
  {
   "cell_type": "markdown",
   "id": "bbff4091",
   "metadata": {},
   "source": [
    "Sum of Polygon Angles"
   ]
  },
  {
   "cell_type": "markdown",
   "id": "a7b4b803",
   "metadata": {},
   "source": [
    "Problem Source"
   ]
  },
  {
   "cell_type": "markdown",
   "id": "759db90d",
   "metadata": {},
   "source": [
    "https://edabit.com/challenge/mDzheHpwtqyXePEBE"
   ]
  },
  {
   "cell_type": "code",
   "execution_count": 1,
   "id": "867ce98f",
   "metadata": {},
   "outputs": [],
   "source": [
    "def sum_polygon(n): \n",
    "    return (n - 2) * 180"
   ]
  },
  {
   "cell_type": "code",
   "execution_count": 2,
   "id": "284928ba",
   "metadata": {},
   "outputs": [
    {
     "data": {
      "text/plain": [
       "180"
      ]
     },
     "execution_count": 2,
     "metadata": {},
     "output_type": "execute_result"
    }
   ],
   "source": [
    "sum_polygon(3)"
   ]
  },
  {
   "cell_type": "code",
   "execution_count": 3,
   "id": "4363fd88",
   "metadata": {},
   "outputs": [
    {
     "data": {
      "text/plain": [
       "360"
      ]
     },
     "execution_count": 3,
     "metadata": {},
     "output_type": "execute_result"
    }
   ],
   "source": [
    "sum_polygon(4)"
   ]
  },
  {
   "cell_type": "code",
   "execution_count": 4,
   "id": "f7d5c38f",
   "metadata": {},
   "outputs": [
    {
     "data": {
      "text/plain": [
       "720"
      ]
     },
     "execution_count": 4,
     "metadata": {},
     "output_type": "execute_result"
    }
   ],
   "source": [
    "sum_polygon(6)"
   ]
  },
  {
   "cell_type": "code",
   "execution_count": null,
   "id": "805647e9",
   "metadata": {},
   "outputs": [],
   "source": []
  }
 ],
 "metadata": {
  "kernelspec": {
   "display_name": "base",
   "language": "python",
   "name": "python3"
  },
  "language_info": {
   "codemirror_mode": {
    "name": "ipython",
    "version": 3
   },
   "file_extension": ".py",
   "mimetype": "text/x-python",
   "name": "python",
   "nbconvert_exporter": "python",
   "pygments_lexer": "ipython3",
   "version": "3.9.12"
  }
 },
 "nbformat": 4,
 "nbformat_minor": 5
}
