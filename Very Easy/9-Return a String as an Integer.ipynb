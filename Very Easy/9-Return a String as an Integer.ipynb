{
 "cells": [
  {
   "cell_type": "markdown",
   "id": "f5740383",
   "metadata": {},
   "source": [
    "Return a String as an Integer\n"
   ]
  },
  {
   "cell_type": "markdown",
   "id": "6984d6af",
   "metadata": {},
   "source": [
    "Problem Source"
   ]
  },
  {
   "cell_type": "markdown",
   "id": "3339d0ee",
   "metadata": {},
   "source": [
    "https://edabit.com/challenge/GPmoRCZKkyNtoJMcN"
   ]
  },
  {
   "cell_type": "code",
   "execution_count": 1,
   "id": "5aad7793",
   "metadata": {},
   "outputs": [],
   "source": [
    "def string_int(txt):\n",
    "    return int(txt)"
   ]
  },
  {
   "cell_type": "code",
   "execution_count": 2,
   "id": "6ff38a80",
   "metadata": {},
   "outputs": [
    {
     "data": {
      "text/plain": [
       "6"
      ]
     },
     "execution_count": 2,
     "metadata": {},
     "output_type": "execute_result"
    }
   ],
   "source": [
    "string_int(\"6\")"
   ]
  },
  {
   "cell_type": "code",
   "execution_count": 3,
   "id": "d6338487",
   "metadata": {},
   "outputs": [
    {
     "data": {
      "text/plain": [
       "1000"
      ]
     },
     "execution_count": 3,
     "metadata": {},
     "output_type": "execute_result"
    }
   ],
   "source": [
    "string_int(\"1000\")"
   ]
  },
  {
   "cell_type": "code",
   "execution_count": 4,
   "id": "14682835",
   "metadata": {},
   "outputs": [
    {
     "data": {
      "text/plain": [
       "12"
      ]
     },
     "execution_count": 4,
     "metadata": {},
     "output_type": "execute_result"
    }
   ],
   "source": [
    "string_int(\"12\")"
   ]
  },
  {
   "cell_type": "code",
   "execution_count": null,
   "id": "95b575ea",
   "metadata": {},
   "outputs": [],
   "source": []
  }
 ],
 "metadata": {
  "kernelspec": {
   "display_name": "base",
   "language": "python",
   "name": "python3"
  },
  "language_info": {
   "codemirror_mode": {
    "name": "ipython",
    "version": 3
   },
   "file_extension": ".py",
   "mimetype": "text/x-python",
   "name": "python",
   "nbconvert_exporter": "python",
   "pygments_lexer": "ipython3",
   "version": "3.9.12"
  }
 },
 "nbformat": 4,
 "nbformat_minor": 5
}
