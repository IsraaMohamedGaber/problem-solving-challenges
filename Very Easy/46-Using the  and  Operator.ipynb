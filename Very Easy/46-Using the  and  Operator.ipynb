{
 "cells": [
  {
   "cell_type": "markdown",
   "id": "21c5a109",
   "metadata": {},
   "source": [
    "Using the \"and\" Operator\n"
   ]
  },
  {
   "cell_type": "markdown",
   "id": "ebfb2725",
   "metadata": {},
   "source": [
    "Problem Source"
   ]
  },
  {
   "cell_type": "markdown",
   "id": "94c23a51",
   "metadata": {},
   "source": [
    "https://edabit.com/challenge/gbWDtMHtZARm7sdNA"
   ]
  },
  {
   "cell_type": "code",
   "execution_count": 1,
   "id": "3c11410c",
   "metadata": {},
   "outputs": [],
   "source": [
    "def And(a,b):   \n",
    "    if a and b == True:\n",
    "        return True\n",
    "    else:\n",
    "        return False"
   ]
  },
  {
   "cell_type": "code",
   "execution_count": 2,
   "id": "dde06786",
   "metadata": {},
   "outputs": [
    {
     "data": {
      "text/plain": [
       "False"
      ]
     },
     "execution_count": 2,
     "metadata": {},
     "output_type": "execute_result"
    }
   ],
   "source": [
    "And(True, False)"
   ]
  },
  {
   "cell_type": "code",
   "execution_count": 3,
   "id": "0dbaf49d",
   "metadata": {},
   "outputs": [
    {
     "data": {
      "text/plain": [
       "True"
      ]
     },
     "execution_count": 3,
     "metadata": {},
     "output_type": "execute_result"
    }
   ],
   "source": [
    "And(True, True)"
   ]
  },
  {
   "cell_type": "code",
   "execution_count": 4,
   "id": "98a5964c",
   "metadata": {},
   "outputs": [
    {
     "data": {
      "text/plain": [
       "False"
      ]
     },
     "execution_count": 4,
     "metadata": {},
     "output_type": "execute_result"
    }
   ],
   "source": [
    "And(False, True)"
   ]
  },
  {
   "cell_type": "code",
   "execution_count": 5,
   "id": "33c637c9",
   "metadata": {},
   "outputs": [
    {
     "data": {
      "text/plain": [
       "False"
      ]
     },
     "execution_count": 5,
     "metadata": {},
     "output_type": "execute_result"
    }
   ],
   "source": [
    "And(False, False)"
   ]
  },
  {
   "cell_type": "code",
   "execution_count": null,
   "id": "0c0a7356",
   "metadata": {},
   "outputs": [],
   "source": []
  }
 ],
 "metadata": {
  "kernelspec": {
   "display_name": "base",
   "language": "python",
   "name": "python3"
  },
  "language_info": {
   "codemirror_mode": {
    "name": "ipython",
    "version": 3
   },
   "file_extension": ".py",
   "mimetype": "text/x-python",
   "name": "python",
   "nbconvert_exporter": "python",
   "pygments_lexer": "ipython3",
   "version": "3.9.12"
  }
 },
 "nbformat": 4,
 "nbformat_minor": 5
}
