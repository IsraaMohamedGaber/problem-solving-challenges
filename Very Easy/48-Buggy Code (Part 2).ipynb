{
 "cells": [
  {
   "cell_type": "markdown",
   "id": "76662fd7",
   "metadata": {},
   "source": [
    "Buggy Code (Part 2)\n"
   ]
  },
  {
   "cell_type": "markdown",
   "id": "d419a649",
   "metadata": {},
   "source": [
    "Problem Source"
   ]
  },
  {
   "cell_type": "markdown",
   "id": "0461e6b4",
   "metadata": {},
   "source": [
    "https://edabit.com/challenge/F5ycABGyZtghMpYjr"
   ]
  },
  {
   "cell_type": "code",
   "execution_count": 5,
   "id": "50feac6e",
   "metadata": {},
   "outputs": [],
   "source": [
    "def max_num(n1, n2):\n",
    "\tif n1 < n2:\n",
    "\t\treturn n2\n",
    "\telse:\n",
    "\t\treturn n1"
   ]
  },
  {
   "cell_type": "code",
   "execution_count": 6,
   "id": "9572f751",
   "metadata": {},
   "outputs": [
    {
     "data": {
      "text/plain": [
       "7"
      ]
     },
     "execution_count": 6,
     "metadata": {},
     "output_type": "execute_result"
    }
   ],
   "source": [
    "max_num(3, 7)"
   ]
  },
  {
   "cell_type": "code",
   "execution_count": 7,
   "id": "012e7738",
   "metadata": {},
   "outputs": [
    {
     "data": {
      "text/plain": [
       "0"
      ]
     },
     "execution_count": 7,
     "metadata": {},
     "output_type": "execute_result"
    }
   ],
   "source": [
    "max_num(-1, 0) "
   ]
  },
  {
   "cell_type": "code",
   "execution_count": 8,
   "id": "aa4fcc4d",
   "metadata": {},
   "outputs": [
    {
     "data": {
      "text/plain": [
       "1000"
      ]
     },
     "execution_count": 8,
     "metadata": {},
     "output_type": "execute_result"
    }
   ],
   "source": [
    "max_num(1000, 400) "
   ]
  },
  {
   "cell_type": "code",
   "execution_count": null,
   "id": "378be719",
   "metadata": {},
   "outputs": [],
   "source": []
  }
 ],
 "metadata": {
  "kernelspec": {
   "display_name": "base",
   "language": "python",
   "name": "python3"
  },
  "language_info": {
   "codemirror_mode": {
    "name": "ipython",
    "version": 3
   },
   "file_extension": ".py",
   "mimetype": "text/x-python",
   "name": "python",
   "nbconvert_exporter": "python",
   "pygments_lexer": "ipython3",
   "version": "3.9.12"
  }
 },
 "nbformat": 4,
 "nbformat_minor": 5
}
