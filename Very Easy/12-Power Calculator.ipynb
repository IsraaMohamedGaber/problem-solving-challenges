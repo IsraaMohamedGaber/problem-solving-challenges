{
 "cells": [
  {
   "cell_type": "markdown",
   "id": "c015c980",
   "metadata": {},
   "source": [
    "Power Calculator\n"
   ]
  },
  {
   "cell_type": "markdown",
   "id": "fcd73fbf",
   "metadata": {},
   "source": [
    "Problem Source"
   ]
  },
  {
   "cell_type": "markdown",
   "id": "d586423e",
   "metadata": {},
   "source": [
    "https://edabit.com/challenge/v5gc8FQkDEepkqpfp"
   ]
  },
  {
   "cell_type": "code",
   "execution_count": 1,
   "id": "3f32065f",
   "metadata": {},
   "outputs": [],
   "source": [
    "def circuit_power(voltage, current):\n",
    "    return voltage * current"
   ]
  },
  {
   "cell_type": "code",
   "execution_count": 2,
   "id": "ab2d0ce0",
   "metadata": {},
   "outputs": [
    {
     "data": {
      "text/plain": [
       "2300"
      ]
     },
     "execution_count": 2,
     "metadata": {},
     "output_type": "execute_result"
    }
   ],
   "source": [
    "circuit_power(230, 10)"
   ]
  },
  {
   "cell_type": "code",
   "execution_count": 3,
   "id": "0affa846",
   "metadata": {},
   "outputs": [
    {
     "data": {
      "text/plain": [
       "330"
      ]
     },
     "execution_count": 3,
     "metadata": {},
     "output_type": "execute_result"
    }
   ],
   "source": [
    "circuit_power(110, 3)"
   ]
  },
  {
   "cell_type": "code",
   "execution_count": 4,
   "id": "cccfed9d",
   "metadata": {},
   "outputs": [
    {
     "data": {
      "text/plain": [
       "9600"
      ]
     },
     "execution_count": 4,
     "metadata": {},
     "output_type": "execute_result"
    }
   ],
   "source": [
    "circuit_power(480, 20)"
   ]
  },
  {
   "cell_type": "code",
   "execution_count": null,
   "id": "e7dc44de",
   "metadata": {},
   "outputs": [],
   "source": []
  }
 ],
 "metadata": {
  "kernelspec": {
   "display_name": "base",
   "language": "python",
   "name": "python3"
  },
  "language_info": {
   "codemirror_mode": {
    "name": "ipython",
    "version": 3
   },
   "file_extension": ".py",
   "mimetype": "text/x-python",
   "name": "python",
   "nbconvert_exporter": "python",
   "pygments_lexer": "ipython3",
   "version": "3.9.12"
  }
 },
 "nbformat": 4,
 "nbformat_minor": 5
}
