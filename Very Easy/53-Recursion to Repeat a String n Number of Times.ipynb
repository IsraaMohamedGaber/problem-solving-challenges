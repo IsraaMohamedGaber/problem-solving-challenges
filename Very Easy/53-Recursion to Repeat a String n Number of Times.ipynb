{
 "cells": [
  {
   "cell_type": "markdown",
   "id": "0d084f6a",
   "metadata": {},
   "source": [
    "Recursion to Repeat a String n Number of Times\n"
   ]
  },
  {
   "cell_type": "markdown",
   "id": "6410b624",
   "metadata": {},
   "source": [
    "Problem Source"
   ]
  },
  {
   "cell_type": "markdown",
   "id": "c5bf33de",
   "metadata": {},
   "source": [
    "https://edabit.com/challenge/QKmETue6fMTdcB8Rq"
   ]
  },
  {
   "cell_type": "code",
   "execution_count": 1,
   "id": "50a60b61",
   "metadata": {},
   "outputs": [],
   "source": [
    "def repetition(txt, n):\n",
    "    return txt * n"
   ]
  },
  {
   "cell_type": "code",
   "execution_count": 2,
   "id": "baddb98c",
   "metadata": {},
   "outputs": [
    {
     "data": {
      "text/plain": [
       "'ababab'"
      ]
     },
     "execution_count": 2,
     "metadata": {},
     "output_type": "execute_result"
    }
   ],
   "source": [
    "repetition(\"ab\", 3)"
   ]
  },
  {
   "cell_type": "code",
   "execution_count": 3,
   "id": "6c22fc81",
   "metadata": {},
   "outputs": [
    {
     "data": {
      "text/plain": [
       "'kiwi'"
      ]
     },
     "execution_count": 3,
     "metadata": {},
     "output_type": "execute_result"
    }
   ],
   "source": [
    "repetition(\"kiwi\", 1)"
   ]
  },
  {
   "cell_type": "code",
   "execution_count": 4,
   "id": "0dfa3339",
   "metadata": {},
   "outputs": [
    {
     "data": {
      "text/plain": [
       "'cherrycherry'"
      ]
     },
     "execution_count": 4,
     "metadata": {},
     "output_type": "execute_result"
    }
   ],
   "source": [
    "repetition(\"cherry\", 2)"
   ]
  },
  {
   "cell_type": "code",
   "execution_count": null,
   "id": "7e16e09c",
   "metadata": {},
   "outputs": [],
   "source": []
  }
 ],
 "metadata": {
  "kernelspec": {
   "display_name": "base",
   "language": "python",
   "name": "python3"
  },
  "language_info": {
   "codemirror_mode": {
    "name": "ipython",
    "version": 3
   },
   "file_extension": ".py",
   "mimetype": "text/x-python",
   "name": "python",
   "nbconvert_exporter": "python",
   "pygments_lexer": "ipython3",
   "version": "3.9.12"
  }
 },
 "nbformat": 4,
 "nbformat_minor": 5
}
