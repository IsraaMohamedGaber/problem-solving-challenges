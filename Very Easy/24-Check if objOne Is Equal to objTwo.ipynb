{
 "cells": [
  {
   "cell_type": "markdown",
   "id": "fafa4e08",
   "metadata": {},
   "source": [
    "Check if objOne Is Equal to objTwo\n"
   ]
  },
  {
   "cell_type": "markdown",
   "id": "18fe967e",
   "metadata": {},
   "source": [
    "Problem Source"
   ]
  },
  {
   "cell_type": "markdown",
   "id": "b71de155",
   "metadata": {},
   "source": [
    "https://edabit.com/challenge/QJiqdu9QGMmAgK5Fi"
   ]
  },
  {
   "cell_type": "code",
   "execution_count": 1,
   "id": "e243131a",
   "metadata": {},
   "outputs": [],
   "source": [
    "def is_equal(obj_one, obj_two):\n",
    "    return obj_one == obj_two   \n"
   ]
  },
  {
   "cell_type": "code",
   "execution_count": 5,
   "id": "c101d381",
   "metadata": {},
   "outputs": [
    {
     "data": {
      "text/plain": [
       "False"
      ]
     },
     "execution_count": 5,
     "metadata": {},
     "output_type": "execute_result"
    }
   ],
   "source": [
    "# The first object parameter.\n",
    "\n",
    "obj_one = {\n",
    "  \"name\": \"Benny\",\n",
    "  \"phone\": \"3325558745\",\n",
    "  \"email\": \"benny@edabit.com\"\n",
    "}\n",
    "\n",
    "# The second object parameter.\n",
    "\n",
    "obj_two = {\n",
    "  \"name\": \"Jason\",\n",
    "  \"phone\": \"9853759720\",\n",
    "  \"email\": \"jason@edabit.com\"\n",
    "}\n",
    "is_equal(obj_one, obj_two)\n"
   ]
  },
  {
   "cell_type": "code",
   "execution_count": 8,
   "id": "802f2b0c",
   "metadata": {},
   "outputs": [
    {
     "data": {
      "text/plain": [
       "True"
      ]
     },
     "execution_count": 8,
     "metadata": {},
     "output_type": "execute_result"
    }
   ],
   "source": [
    "# The first object parameter.\n",
    "\n",
    "obj_one = {\n",
    "  \"name\": \"Jason\",\n",
    "  \"phone\": \"9853759720\",\n",
    "  \"email\": \"jason@edabit.com\"\n",
    "}\n",
    "\n",
    "# The second object parameter.\n",
    "\n",
    "obj_two = {\n",
    "  \"name\": \"Jason\",\n",
    "  \"phone\": \"9853759720\",\n",
    "  \"email\": \"jason@edabit.com\"\n",
    "}\n",
    "\n",
    "\n",
    "is_equal(obj_one, obj_two)"
   ]
  },
  {
   "cell_type": "code",
   "execution_count": null,
   "id": "625a16f6",
   "metadata": {},
   "outputs": [],
   "source": []
  }
 ],
 "metadata": {
  "kernelspec": {
   "display_name": "base",
   "language": "python",
   "name": "python3"
  },
  "language_info": {
   "codemirror_mode": {
    "name": "ipython",
    "version": 3
   },
   "file_extension": ".py",
   "mimetype": "text/x-python",
   "name": "python",
   "nbconvert_exporter": "python",
   "pygments_lexer": "ipython3",
   "version": "3.9.12"
  }
 },
 "nbformat": 4,
 "nbformat_minor": 5
}
