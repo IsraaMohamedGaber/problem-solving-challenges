{
 "cells": [
  {
   "cell_type": "markdown",
   "id": "e00f5a0c",
   "metadata": {},
   "source": [
    "WordCharWord\n"
   ]
  },
  {
   "cell_type": "markdown",
   "id": "95a5710d",
   "metadata": {},
   "source": [
    "Problem Source"
   ]
  },
  {
   "cell_type": "markdown",
   "id": "bf9fd1f9",
   "metadata": {},
   "source": [
    "https://edabit.com/challenge/fBzF8TuQQxx6C7dWm"
   ]
  },
  {
   "cell_type": "code",
   "execution_count": 1,
   "id": "6e183cef",
   "metadata": {},
   "outputs": [],
   "source": [
    "def add(char, txt):\n",
    "    return txt.replace(\" \", char)   "
   ]
  },
  {
   "cell_type": "code",
   "execution_count": 2,
   "id": "f9420f10",
   "metadata": {},
   "outputs": [
    {
     "data": {
      "text/plain": [
       "'pythonRisRfun'"
      ]
     },
     "execution_count": 2,
     "metadata": {},
     "output_type": "execute_result"
    }
   ],
   "source": [
    "add(\"R\", \"python is fun\")"
   ]
  },
  {
   "cell_type": "code",
   "execution_count": 3,
   "id": "b3931858",
   "metadata": {},
   "outputs": [
    {
     "data": {
      "text/plain": [
       "'hello#world!'"
      ]
     },
     "execution_count": 3,
     "metadata": {},
     "output_type": "execute_result"
    }
   ],
   "source": [
    "add(\"#\", \"hello world!\")"
   ]
  },
  {
   "cell_type": "code",
   "execution_count": 4,
   "id": "074cb50b",
   "metadata": {},
   "outputs": [
    {
     "data": {
      "text/plain": [
       "'#'"
      ]
     },
     "execution_count": 4,
     "metadata": {},
     "output_type": "execute_result"
    }
   ],
   "source": [
    "add(\"#\", \" \")"
   ]
  },
  {
   "cell_type": "code",
   "execution_count": null,
   "id": "531ee568",
   "metadata": {},
   "outputs": [],
   "source": []
  }
 ],
 "metadata": {
  "kernelspec": {
   "display_name": "base",
   "language": "python",
   "name": "python3"
  },
  "language_info": {
   "codemirror_mode": {
    "name": "ipython",
    "version": 3
   },
   "file_extension": ".py",
   "mimetype": "text/x-python",
   "name": "python",
   "nbconvert_exporter": "python",
   "pygments_lexer": "ipython3",
   "version": "3.9.12"
  }
 },
 "nbformat": 4,
 "nbformat_minor": 5
}
