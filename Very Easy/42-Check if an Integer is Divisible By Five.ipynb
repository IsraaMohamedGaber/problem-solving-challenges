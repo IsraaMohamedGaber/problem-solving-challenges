{
 "cells": [
  {
   "cell_type": "markdown",
   "id": "1757657d",
   "metadata": {},
   "source": [
    "Check if an Integer is Divisible By Five\n"
   ]
  },
  {
   "cell_type": "markdown",
   "id": "ebffb6a3",
   "metadata": {},
   "source": [
    "Problem Source"
   ]
  },
  {
   "cell_type": "markdown",
   "id": "c6499680",
   "metadata": {},
   "source": [
    "https://edabit.com/challenge/49pyDP8dE3pJ2dYMW"
   ]
  },
  {
   "cell_type": "code",
   "execution_count": 1,
   "id": "b24cfabe",
   "metadata": {},
   "outputs": [],
   "source": [
    "def divisible_by_five(n):\n",
    "    if n % 5 == 0 :\n",
    "        return True\n",
    "    else:    \n",
    "        return False"
   ]
  },
  {
   "cell_type": "code",
   "execution_count": 2,
   "id": "e11f2ddd",
   "metadata": {},
   "outputs": [
    {
     "data": {
      "text/plain": [
       "True"
      ]
     },
     "execution_count": 2,
     "metadata": {},
     "output_type": "execute_result"
    }
   ],
   "source": [
    "divisible_by_five(5)"
   ]
  },
  {
   "cell_type": "code",
   "execution_count": 3,
   "id": "43a125fa",
   "metadata": {},
   "outputs": [
    {
     "data": {
      "text/plain": [
       "True"
      ]
     },
     "execution_count": 3,
     "metadata": {},
     "output_type": "execute_result"
    }
   ],
   "source": [
    "divisible_by_five(-55)"
   ]
  },
  {
   "cell_type": "code",
   "execution_count": 4,
   "id": "6cc55e1a",
   "metadata": {},
   "outputs": [
    {
     "data": {
      "text/plain": [
       "False"
      ]
     },
     "execution_count": 4,
     "metadata": {},
     "output_type": "execute_result"
    }
   ],
   "source": [
    "divisible_by_five(37)"
   ]
  },
  {
   "cell_type": "code",
   "execution_count": null,
   "id": "b38837df",
   "metadata": {},
   "outputs": [],
   "source": []
  }
 ],
 "metadata": {
  "kernelspec": {
   "display_name": "base",
   "language": "python",
   "name": "python3"
  },
  "language_info": {
   "codemirror_mode": {
    "name": "ipython",
    "version": 3
   },
   "file_extension": ".py",
   "mimetype": "text/x-python",
   "name": "python",
   "nbconvert_exporter": "python",
   "pygments_lexer": "ipython3",
   "version": "3.9.12"
  }
 },
 "nbformat": 4,
 "nbformat_minor": 5
}
