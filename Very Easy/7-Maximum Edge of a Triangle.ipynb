{
 "cells": [
  {
   "cell_type": "markdown",
   "id": "d6b9638e",
   "metadata": {},
   "source": [
    "Maximum Edge of a Triangle\n"
   ]
  },
  {
   "cell_type": "markdown",
   "id": "72635d42",
   "metadata": {},
   "source": [
    "Problem Source"
   ]
  },
  {
   "cell_type": "markdown",
   "id": "ef9ee3bf",
   "metadata": {},
   "source": [
    "https://edabit.com/challenge/Zerwo2AENbvRZTe83"
   ]
  },
  {
   "cell_type": "code",
   "execution_count": 3,
   "id": "c3a7525b",
   "metadata": {},
   "outputs": [],
   "source": [
    "def next_edge(side1, side2):\n",
    "    return (side1 + side2) - 1"
   ]
  },
  {
   "cell_type": "code",
   "execution_count": 4,
   "id": "1255bcec",
   "metadata": {},
   "outputs": [
    {
     "data": {
      "text/plain": [
       "17"
      ]
     },
     "execution_count": 4,
     "metadata": {},
     "output_type": "execute_result"
    }
   ],
   "source": [
    "next_edge(8, 10) \n"
   ]
  },
  {
   "cell_type": "code",
   "execution_count": 5,
   "id": "5591ccda",
   "metadata": {},
   "outputs": [
    {
     "data": {
      "text/plain": [
       "11"
      ]
     },
     "execution_count": 5,
     "metadata": {},
     "output_type": "execute_result"
    }
   ],
   "source": [
    "next_edge(5, 7) "
   ]
  },
  {
   "cell_type": "code",
   "execution_count": 6,
   "id": "94577e59",
   "metadata": {},
   "outputs": [
    {
     "data": {
      "text/plain": [
       "10"
      ]
     },
     "execution_count": 6,
     "metadata": {},
     "output_type": "execute_result"
    }
   ],
   "source": [
    "next_edge(9, 2) "
   ]
  },
  {
   "cell_type": "code",
   "execution_count": null,
   "id": "41c77385",
   "metadata": {},
   "outputs": [],
   "source": []
  }
 ],
 "metadata": {
  "kernelspec": {
   "display_name": "base",
   "language": "python",
   "name": "python3"
  },
  "language_info": {
   "codemirror_mode": {
    "name": "ipython",
    "version": 3
   },
   "file_extension": ".py",
   "mimetype": "text/x-python",
   "name": "python",
   "nbconvert_exporter": "python",
   "pygments_lexer": "ipython3",
   "version": "3.9.12"
  }
 },
 "nbformat": 4,
 "nbformat_minor": 5
}
