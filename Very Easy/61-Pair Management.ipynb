{
 "cells": [
  {
   "cell_type": "markdown",
   "id": "526ac0c2",
   "metadata": {},
   "source": [
    "Pair Management\n"
   ]
  },
  {
   "cell_type": "markdown",
   "id": "e9afd1ad",
   "metadata": {},
   "source": [
    "Problem source"
   ]
  },
  {
   "cell_type": "markdown",
   "id": "68b3085f",
   "metadata": {},
   "source": [
    "https://edabit.com/challenge/JCZqhijycsNizczsR"
   ]
  },
  {
   "cell_type": "code",
   "execution_count": 5,
   "id": "5c3b88f7",
   "metadata": {},
   "outputs": [],
   "source": [
    "def make_pair(num1, num2):\n",
    "    return [num1, num2]"
   ]
  },
  {
   "cell_type": "code",
   "execution_count": 6,
   "id": "40b9a39f",
   "metadata": {},
   "outputs": [
    {
     "data": {
      "text/plain": [
       "[1, 2]"
      ]
     },
     "execution_count": 6,
     "metadata": {},
     "output_type": "execute_result"
    }
   ],
   "source": [
    "make_pair(1, 2)"
   ]
  },
  {
   "cell_type": "code",
   "execution_count": 7,
   "id": "5f58c26d",
   "metadata": {},
   "outputs": [
    {
     "data": {
      "text/plain": [
       "[51, 21]"
      ]
     },
     "execution_count": 7,
     "metadata": {},
     "output_type": "execute_result"
    }
   ],
   "source": [
    "\n",
    "make_pair(51, 21)"
   ]
  },
  {
   "cell_type": "code",
   "execution_count": 8,
   "id": "d25880ed",
   "metadata": {},
   "outputs": [
    {
     "data": {
      "text/plain": [
       "[512124, 215]"
      ]
     },
     "execution_count": 8,
     "metadata": {},
     "output_type": "execute_result"
    }
   ],
   "source": [
    "make_pair(512124, 215)"
   ]
  },
  {
   "cell_type": "code",
   "execution_count": null,
   "id": "9a5c5822",
   "metadata": {},
   "outputs": [],
   "source": []
  }
 ],
 "metadata": {
  "kernelspec": {
   "display_name": "base",
   "language": "python",
   "name": "python3"
  },
  "language_info": {
   "codemirror_mode": {
    "name": "ipython",
    "version": 3
   },
   "file_extension": ".py",
   "mimetype": "text/x-python",
   "name": "python",
   "nbconvert_exporter": "python",
   "pygments_lexer": "ipython3",
   "version": "3.9.12"
  }
 },
 "nbformat": 4,
 "nbformat_minor": 5
}
