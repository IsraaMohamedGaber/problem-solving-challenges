{
 "cells": [
  {
   "cell_type": "markdown",
   "id": "ad503d61",
   "metadata": {},
   "source": [
    "Fix the Expression\n"
   ]
  },
  {
   "cell_type": "markdown",
   "id": "de853f63",
   "metadata": {},
   "source": [
    "Problem Source"
   ]
  },
  {
   "cell_type": "markdown",
   "id": "dc37722e",
   "metadata": {},
   "source": [
    "https://edabit.com/challenge/iBL3eDRWzpxgfQyHx"
   ]
  },
  {
   "cell_type": "code",
   "execution_count": 4,
   "id": "35e96c0e",
   "metadata": {},
   "outputs": [],
   "source": [
    "def is_seven(x):\n",
    "\treturn True if x==7 else False"
   ]
  },
  {
   "cell_type": "code",
   "execution_count": 5,
   "id": "2a842ea9",
   "metadata": {},
   "outputs": [
    {
     "data": {
      "text/plain": [
       "False"
      ]
     },
     "execution_count": 5,
     "metadata": {},
     "output_type": "execute_result"
    }
   ],
   "source": [
    "is_seven(4) "
   ]
  },
  {
   "cell_type": "code",
   "execution_count": 6,
   "id": "be5b2312",
   "metadata": {},
   "outputs": [
    {
     "data": {
      "text/plain": [
       "False"
      ]
     },
     "execution_count": 6,
     "metadata": {},
     "output_type": "execute_result"
    }
   ],
   "source": [
    "is_seven(9) "
   ]
  },
  {
   "cell_type": "code",
   "execution_count": 7,
   "id": "89b34535",
   "metadata": {},
   "outputs": [
    {
     "data": {
      "text/plain": [
       "True"
      ]
     },
     "execution_count": 7,
     "metadata": {},
     "output_type": "execute_result"
    }
   ],
   "source": [
    "is_seven(7) "
   ]
  },
  {
   "cell_type": "code",
   "execution_count": null,
   "id": "4bfdb5db",
   "metadata": {},
   "outputs": [],
   "source": []
  }
 ],
 "metadata": {
  "kernelspec": {
   "display_name": "base",
   "language": "python",
   "name": "python3"
  },
  "language_info": {
   "codemirror_mode": {
    "name": "ipython",
    "version": 3
   },
   "file_extension": ".py",
   "mimetype": "text/x-python",
   "name": "python",
   "nbconvert_exporter": "python",
   "pygments_lexer": "ipython3",
   "version": "3.9.12"
  }
 },
 "nbformat": 4,
 "nbformat_minor": 5
}
