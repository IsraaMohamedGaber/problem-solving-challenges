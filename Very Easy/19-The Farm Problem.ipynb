{
 "cells": [
  {
   "cell_type": "markdown",
   "id": "a7ee96f7",
   "metadata": {},
   "source": [
    "The Farm Problem\n"
   ]
  },
  {
   "cell_type": "markdown",
   "id": "6311ab6d",
   "metadata": {},
   "source": [
    "Problem Source"
   ]
  },
  {
   "cell_type": "markdown",
   "id": "131e5a8e",
   "metadata": {},
   "source": [
    "https://edabit.com/challenge/QzXtDnSZL6y4ZcEvT"
   ]
  },
  {
   "cell_type": "code",
   "execution_count": 1,
   "id": "8adeb9ad",
   "metadata": {},
   "outputs": [],
   "source": [
    "def animals(chickens, cows, pigs):\n",
    "    return (chickens * 2) + (cows * 4) + (pigs * 4)"
   ]
  },
  {
   "cell_type": "code",
   "execution_count": 2,
   "id": "65da65d9",
   "metadata": {},
   "outputs": [
    {
     "data": {
      "text/plain": [
       "36"
      ]
     },
     "execution_count": 2,
     "metadata": {},
     "output_type": "execute_result"
    }
   ],
   "source": [
    "animals(2, 3, 5) "
   ]
  },
  {
   "cell_type": "code",
   "execution_count": 3,
   "id": "711c8fa4",
   "metadata": {},
   "outputs": [
    {
     "data": {
      "text/plain": [
       "22"
      ]
     },
     "execution_count": 3,
     "metadata": {},
     "output_type": "execute_result"
    }
   ],
   "source": [
    "animals(1, 2, 3) "
   ]
  },
  {
   "cell_type": "code",
   "execution_count": 4,
   "id": "a1d69e63",
   "metadata": {},
   "outputs": [
    {
     "data": {
      "text/plain": [
       "50"
      ]
     },
     "execution_count": 4,
     "metadata": {},
     "output_type": "execute_result"
    }
   ],
   "source": [
    "animals(5, 2, 8)"
   ]
  },
  {
   "cell_type": "code",
   "execution_count": null,
   "id": "6e8d3755",
   "metadata": {},
   "outputs": [],
   "source": []
  }
 ],
 "metadata": {
  "kernelspec": {
   "display_name": "base",
   "language": "python",
   "name": "python3"
  },
  "language_info": {
   "codemirror_mode": {
    "name": "ipython",
    "version": 3
   },
   "file_extension": ".py",
   "mimetype": "text/x-python",
   "name": "python",
   "nbconvert_exporter": "python",
   "pygments_lexer": "ipython3",
   "version": "3.9.12"
  }
 },
 "nbformat": 4,
 "nbformat_minor": 5
}
