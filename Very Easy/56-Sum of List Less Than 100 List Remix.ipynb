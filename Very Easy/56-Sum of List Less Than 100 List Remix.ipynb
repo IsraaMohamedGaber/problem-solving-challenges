{
 "cells": [
  {
   "cell_type": "markdown",
   "id": "c9dd0130",
   "metadata": {},
   "source": [
    "Sum of List Less Than 100 List Remix\n"
   ]
  },
  {
   "cell_type": "markdown",
   "id": "52738cff",
   "metadata": {},
   "source": [
    "Problem Source"
   ]
  },
  {
   "cell_type": "markdown",
   "id": "fdd525a0",
   "metadata": {},
   "source": [
    "https://edabit.com/challenge/HRu9WggWxdSpYjxNf"
   ]
  },
  {
   "cell_type": "code",
   "execution_count": 1,
   "id": "9450e932",
   "metadata": {},
   "outputs": [],
   "source": [
    "def list_less_than_100(lst):\n",
    "    if sum(lst) < 100:\n",
    "        return True \n",
    "    else:\n",
    "        return False"
   ]
  },
  {
   "cell_type": "code",
   "execution_count": 2,
   "id": "fcd32928",
   "metadata": {},
   "outputs": [
    {
     "data": {
      "text/plain": [
       "True"
      ]
     },
     "execution_count": 2,
     "metadata": {},
     "output_type": "execute_result"
    }
   ],
   "source": [
    "list_less_than_100([5, 57])\n"
   ]
  },
  {
   "cell_type": "code",
   "execution_count": 4,
   "id": "13a85f5a",
   "metadata": {},
   "outputs": [
    {
     "data": {
      "text/plain": [
       "False"
      ]
     },
     "execution_count": 4,
     "metadata": {},
     "output_type": "execute_result"
    }
   ],
   "source": [
    "list_less_than_100([77, 30])"
   ]
  },
  {
   "cell_type": "code",
   "execution_count": 5,
   "id": "e3ad9fae",
   "metadata": {},
   "outputs": [
    {
     "data": {
      "text/plain": [
       "True"
      ]
     },
     "execution_count": 5,
     "metadata": {},
     "output_type": "execute_result"
    }
   ],
   "source": [
    "list_less_than_100([0])"
   ]
  },
  {
   "cell_type": "code",
   "execution_count": null,
   "id": "c30f0b05",
   "metadata": {},
   "outputs": [],
   "source": []
  }
 ],
 "metadata": {
  "kernelspec": {
   "display_name": "base",
   "language": "python",
   "name": "python3"
  },
  "language_info": {
   "codemirror_mode": {
    "name": "ipython",
    "version": 3
   },
   "file_extension": ".py",
   "mimetype": "text/x-python",
   "name": "python",
   "nbconvert_exporter": "python",
   "pygments_lexer": "ipython3",
   "version": "3.9.12"
  }
 },
 "nbformat": 4,
 "nbformat_minor": 5
}
