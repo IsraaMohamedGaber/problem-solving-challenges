{
 "cells": [
  {
   "cell_type": "markdown",
   "id": "d3a24be8",
   "metadata": {},
   "source": [
    "Find the Largest Number in a List\n"
   ]
  },
  {
   "cell_type": "markdown",
   "id": "166329a4",
   "metadata": {},
   "source": [
    "Problem Source"
   ]
  },
  {
   "cell_type": "markdown",
   "id": "cd3592be",
   "metadata": {},
   "source": [
    "https://edabit.com/challenge/A7hyDnb72prWryeuY"
   ]
  },
  {
   "cell_type": "code",
   "execution_count": 1,
   "id": "c3f63a20",
   "metadata": {},
   "outputs": [],
   "source": [
    "def findLargestNum(nums):\n",
    "    if not nums:\n",
    "        return None\n",
    "    largest = nums[0]\n",
    "    for num in nums:\n",
    "        if num > largest:\n",
    "            largest = num\n",
    "    return largest  "
   ]
  },
  {
   "cell_type": "code",
   "execution_count": 2,
   "id": "e8d9c5a3",
   "metadata": {},
   "outputs": [
    {
     "data": {
      "text/plain": [
       "5"
      ]
     },
     "execution_count": 2,
     "metadata": {},
     "output_type": "execute_result"
    }
   ],
   "source": [
    "findLargestNum([4, 5, 1, 3]) "
   ]
  },
  {
   "cell_type": "code",
   "execution_count": 3,
   "id": "d9b72ef4",
   "metadata": {},
   "outputs": [
    {
     "data": {
      "text/plain": [
       "600"
      ]
     },
     "execution_count": 3,
     "metadata": {},
     "output_type": "execute_result"
    }
   ],
   "source": [
    "findLargestNum([300, 200, 600, 150]) "
   ]
  },
  {
   "cell_type": "code",
   "execution_count": 4,
   "id": "902362f3",
   "metadata": {},
   "outputs": [
    {
     "data": {
      "text/plain": [
       "1001"
      ]
     },
     "execution_count": 4,
     "metadata": {},
     "output_type": "execute_result"
    }
   ],
   "source": [
    "findLargestNum([1000, 1001, 857, 1]) "
   ]
  },
  {
   "cell_type": "code",
   "execution_count": null,
   "id": "e4902fa7",
   "metadata": {},
   "outputs": [],
   "source": []
  }
 ],
 "metadata": {
  "kernelspec": {
   "display_name": "base",
   "language": "python",
   "name": "python3"
  },
  "language_info": {
   "codemirror_mode": {
    "name": "ipython",
    "version": 3
   },
   "file_extension": ".py",
   "mimetype": "text/x-python",
   "name": "python",
   "nbconvert_exporter": "python",
   "pygments_lexer": "ipython3",
   "version": "3.9.12"
  }
 },
 "nbformat": 4,
 "nbformat_minor": 5
}
