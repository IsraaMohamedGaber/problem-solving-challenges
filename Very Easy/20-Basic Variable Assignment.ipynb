{
 "cells": [
  {
   "cell_type": "markdown",
   "id": "0585faf9",
   "metadata": {},
   "source": [
    "Basic Variable Assignment\n"
   ]
  },
  {
   "cell_type": "markdown",
   "id": "f80c0107",
   "metadata": {},
   "source": [
    "Problem Source"
   ]
  },
  {
   "cell_type": "markdown",
   "id": "ea14ab95",
   "metadata": {},
   "source": [
    "https://edabit.com/challenge/YN9mNNc4mMPDxyhFf"
   ]
  },
  {
   "cell_type": "code",
   "execution_count": 1,
   "id": "c8528009",
   "metadata": {},
   "outputs": [],
   "source": [
    "def name_string(name):\n",
    "\t#  b == \"Edabit\"\n",
    "\t # result == name + b\n",
    "\t  return name + \"Edabit\""
   ]
  },
  {
   "cell_type": "code",
   "execution_count": 2,
   "id": "d8585d56",
   "metadata": {},
   "outputs": [
    {
     "data": {
      "text/plain": [
       "'MubashirEdabit'"
      ]
     },
     "execution_count": 2,
     "metadata": {},
     "output_type": "execute_result"
    }
   ],
   "source": [
    "name_string(\"Mubashir\")"
   ]
  },
  {
   "cell_type": "code",
   "execution_count": 3,
   "id": "8f892f95",
   "metadata": {},
   "outputs": [
    {
     "data": {
      "text/plain": [
       "'MattEdabit'"
      ]
     },
     "execution_count": 3,
     "metadata": {},
     "output_type": "execute_result"
    }
   ],
   "source": [
    "name_string(\"Matt\") "
   ]
  },
  {
   "cell_type": "code",
   "execution_count": 4,
   "id": "05aab39e",
   "metadata": {},
   "outputs": [
    {
     "data": {
      "text/plain": [
       "'pythonEdabit'"
      ]
     },
     "execution_count": 4,
     "metadata": {},
     "output_type": "execute_result"
    }
   ],
   "source": [
    "name_string(\"python\") "
   ]
  },
  {
   "cell_type": "code",
   "execution_count": null,
   "id": "96b9f253",
   "metadata": {},
   "outputs": [],
   "source": []
  }
 ],
 "metadata": {
  "kernelspec": {
   "display_name": "base",
   "language": "python",
   "name": "python3"
  },
  "language_info": {
   "codemirror_mode": {
    "name": "ipython",
    "version": 3
   },
   "file_extension": ".py",
   "mimetype": "text/x-python",
   "name": "python",
   "nbconvert_exporter": "python",
   "pygments_lexer": "ipython3",
   "version": "3.9.12"
  }
 },
 "nbformat": 4,
 "nbformat_minor": 5
}
