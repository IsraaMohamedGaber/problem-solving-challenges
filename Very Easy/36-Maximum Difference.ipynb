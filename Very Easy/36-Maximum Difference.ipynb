{
 "cells": [
  {
   "cell_type": "markdown",
   "id": "7a104d3a",
   "metadata": {},
   "source": [
    "Maximum Difference"
   ]
  },
  {
   "cell_type": "markdown",
   "id": "8cbd4f02",
   "metadata": {},
   "source": [
    "Problem Source"
   ]
  },
  {
   "cell_type": "markdown",
   "id": "443ec722",
   "metadata": {},
   "source": [
    "https://edabit.com/challenge/6fx8iNCHETW8KqAui"
   ]
  },
  {
   "cell_type": "code",
   "execution_count": 1,
   "id": "44fc8262",
   "metadata": {},
   "outputs": [],
   "source": [
    "def difference(nums):\n",
    "    return max(nums) - min(nums)"
   ]
  },
  {
   "cell_type": "code",
   "execution_count": 2,
   "id": "86a2b9e3",
   "metadata": {},
   "outputs": [
    {
     "data": {
      "text/plain": [
       "18"
      ]
     },
     "execution_count": 2,
     "metadata": {},
     "output_type": "execute_result"
    }
   ],
   "source": [
    "difference([10, 15, 20, 2, 10, 6]) "
   ]
  },
  {
   "cell_type": "code",
   "execution_count": 3,
   "id": "d160cc57",
   "metadata": {},
   "outputs": [
    {
     "data": {
      "text/plain": [
       "24"
      ]
     },
     "execution_count": 3,
     "metadata": {},
     "output_type": "execute_result"
    }
   ],
   "source": [
    "difference([-3, 4, -9, -1, -2, 15])"
   ]
  },
  {
   "cell_type": "code",
   "execution_count": 5,
   "id": "07b13597",
   "metadata": {},
   "outputs": [
    {
     "data": {
      "text/plain": [
       "15"
      ]
     },
     "execution_count": 5,
     "metadata": {},
     "output_type": "execute_result"
    }
   ],
   "source": [
    "difference([4, 17, 12, 2, 10, 2]) "
   ]
  },
  {
   "cell_type": "code",
   "execution_count": null,
   "id": "c4ef2990",
   "metadata": {},
   "outputs": [],
   "source": []
  }
 ],
 "metadata": {
  "kernelspec": {
   "display_name": "base",
   "language": "python",
   "name": "python3"
  },
  "language_info": {
   "codemirror_mode": {
    "name": "ipython",
    "version": 3
   },
   "file_extension": ".py",
   "mimetype": "text/x-python",
   "name": "python",
   "nbconvert_exporter": "python",
   "pygments_lexer": "ipython3",
   "version": "3.9.12"
  }
 },
 "nbformat": 4,
 "nbformat_minor": 5
}
