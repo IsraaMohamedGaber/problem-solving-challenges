{
 "cells": [
  {
   "cell_type": "markdown",
   "id": "a33ea216",
   "metadata": {},
   "source": [
    "Let's Fuel Up!\n"
   ]
  },
  {
   "cell_type": "markdown",
   "id": "891ab304",
   "metadata": {},
   "source": [
    "Problem Source"
   ]
  },
  {
   "cell_type": "markdown",
   "id": "d0676549",
   "metadata": {},
   "source": [
    "https://edabit.com/challenge/ZAYqnMhmqT5K3JWu8"
   ]
  },
  {
   "cell_type": "code",
   "execution_count": 6,
   "id": "87e34e23",
   "metadata": {},
   "outputs": [],
   "source": [
    "def calculate_fuel(n):\n",
    "    if n * 10 >= 100:\n",
    "         return n * 10 \n",
    "    else:\n",
    "         return 100\n"
   ]
  },
  {
   "cell_type": "code",
   "execution_count": 7,
   "id": "7775073b",
   "metadata": {},
   "outputs": [
    {
     "data": {
      "text/plain": [
       "150"
      ]
     },
     "execution_count": 7,
     "metadata": {},
     "output_type": "execute_result"
    }
   ],
   "source": [
    "calculate_fuel(15)"
   ]
  },
  {
   "cell_type": "code",
   "execution_count": 8,
   "id": "28d6fb55",
   "metadata": {},
   "outputs": [
    {
     "data": {
      "text/plain": [
       "235.0"
      ]
     },
     "execution_count": 8,
     "metadata": {},
     "output_type": "execute_result"
    }
   ],
   "source": [
    "calculate_fuel(23.5)"
   ]
  },
  {
   "cell_type": "code",
   "execution_count": 9,
   "id": "be6e46c7",
   "metadata": {},
   "outputs": [
    {
     "data": {
      "text/plain": [
       "100"
      ]
     },
     "execution_count": 9,
     "metadata": {},
     "output_type": "execute_result"
    }
   ],
   "source": [
    "calculate_fuel(3)"
   ]
  },
  {
   "cell_type": "code",
   "execution_count": null,
   "id": "2b8127aa",
   "metadata": {},
   "outputs": [],
   "source": []
  },
  {
   "cell_type": "code",
   "execution_count": null,
   "id": "75d8a042",
   "metadata": {},
   "outputs": [],
   "source": []
  }
 ],
 "metadata": {
  "kernelspec": {
   "display_name": "base",
   "language": "python",
   "name": "python3"
  },
  "language_info": {
   "codemirror_mode": {
    "name": "ipython",
    "version": 3
   },
   "file_extension": ".py",
   "mimetype": "text/x-python",
   "name": "python",
   "nbconvert_exporter": "python",
   "pygments_lexer": "ipython3",
   "version": "3.9.12"
  }
 },
 "nbformat": 4,
 "nbformat_minor": 5
}
