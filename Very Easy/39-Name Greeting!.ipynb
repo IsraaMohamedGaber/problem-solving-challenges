{
 "cells": [
  {
   "cell_type": "markdown",
   "id": "285e49c3",
   "metadata": {},
   "source": [
    "Name Greeting!\n"
   ]
  },
  {
   "cell_type": "markdown",
   "id": "acc65ca3",
   "metadata": {},
   "source": [
    "Problem Source"
   ]
  },
  {
   "cell_type": "markdown",
   "id": "aab02718",
   "metadata": {},
   "source": [
    "https://edabit.com/challenge/coRuMC4Ykksti8Z47"
   ]
  },
  {
   "cell_type": "code",
   "execution_count": 1,
   "id": "df444fd4",
   "metadata": {},
   "outputs": [],
   "source": [
    "def hello_name(name):\n",
    "    return \"Hello \" + name + \"!\""
   ]
  },
  {
   "cell_type": "code",
   "execution_count": 2,
   "id": "19e36377",
   "metadata": {},
   "outputs": [
    {
     "data": {
      "text/plain": [
       "'Hello Gerald!'"
      ]
     },
     "execution_count": 2,
     "metadata": {},
     "output_type": "execute_result"
    }
   ],
   "source": [
    "hello_name(\"Gerald\")"
   ]
  },
  {
   "cell_type": "code",
   "execution_count": 3,
   "id": "401391aa",
   "metadata": {},
   "outputs": [
    {
     "data": {
      "text/plain": [
       "'Hello Tiffany!'"
      ]
     },
     "execution_count": 3,
     "metadata": {},
     "output_type": "execute_result"
    }
   ],
   "source": [
    "hello_name(\"Tiffany\")"
   ]
  },
  {
   "cell_type": "code",
   "execution_count": 4,
   "id": "9dd67c56",
   "metadata": {},
   "outputs": [
    {
     "data": {
      "text/plain": [
       "'Hello Ed!'"
      ]
     },
     "execution_count": 4,
     "metadata": {},
     "output_type": "execute_result"
    }
   ],
   "source": [
    "hello_name(\"Ed\")"
   ]
  },
  {
   "cell_type": "code",
   "execution_count": null,
   "id": "bd5aff07",
   "metadata": {},
   "outputs": [],
   "source": []
  }
 ],
 "metadata": {
  "kernelspec": {
   "display_name": "base",
   "language": "python",
   "name": "python3"
  },
  "language_info": {
   "codemirror_mode": {
    "name": "ipython",
    "version": 3
   },
   "file_extension": ".py",
   "mimetype": "text/x-python",
   "name": "python",
   "nbconvert_exporter": "python",
   "pygments_lexer": "ipython3",
   "version": "3.9.12"
  }
 },
 "nbformat": 4,
 "nbformat_minor": 5
}
