{
 "cells": [
  {
   "cell_type": "markdown",
   "id": "ae4aa715",
   "metadata": {},
   "source": [
    "Boolean to String Conversion\n"
   ]
  },
  {
   "cell_type": "markdown",
   "id": "c1dba14d",
   "metadata": {},
   "source": [
    "Problem Source"
   ]
  },
  {
   "cell_type": "markdown",
   "id": "42251b1c",
   "metadata": {},
   "source": [
    "https://edabit.com/challenge/QQp2o22huzBCkHesy"
   ]
  },
  {
   "cell_type": "code",
   "execution_count": 1,
   "id": "8eed7a70",
   "metadata": {},
   "outputs": [],
   "source": [
    "def bool_to_string(flag):\n",
    "    return str(flag)"
   ]
  },
  {
   "cell_type": "code",
   "execution_count": 2,
   "id": "610087c7",
   "metadata": {},
   "outputs": [
    {
     "data": {
      "text/plain": [
       "'True'"
      ]
     },
     "execution_count": 2,
     "metadata": {},
     "output_type": "execute_result"
    }
   ],
   "source": [
    "bool_to_string(True) "
   ]
  },
  {
   "cell_type": "code",
   "execution_count": 3,
   "id": "ba47dfe5",
   "metadata": {},
   "outputs": [
    {
     "data": {
      "text/plain": [
       "'False'"
      ]
     },
     "execution_count": 3,
     "metadata": {},
     "output_type": "execute_result"
    }
   ],
   "source": [
    "bool_to_string(False)"
   ]
  },
  {
   "cell_type": "code",
   "execution_count": null,
   "id": "567dcb75",
   "metadata": {},
   "outputs": [],
   "source": []
  }
 ],
 "metadata": {
  "kernelspec": {
   "display_name": "base",
   "language": "python",
   "name": "python3"
  },
  "language_info": {
   "codemirror_mode": {
    "name": "ipython",
    "version": 3
   },
   "file_extension": ".py",
   "mimetype": "text/x-python",
   "name": "python",
   "nbconvert_exporter": "python",
   "pygments_lexer": "ipython3",
   "version": "3.9.12"
  }
 },
 "nbformat": 4,
 "nbformat_minor": 5
}
