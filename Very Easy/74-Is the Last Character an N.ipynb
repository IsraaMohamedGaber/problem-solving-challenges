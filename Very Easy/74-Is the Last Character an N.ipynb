{
 "cells": [
  {
   "cell_type": "markdown",
   "id": "f9846405",
   "metadata": {},
   "source": [
    "Is the Last Character an \"N\"?\n"
   ]
  },
  {
   "cell_type": "markdown",
   "id": "c303538d",
   "metadata": {},
   "source": [
    "Problem Source"
   ]
  },
  {
   "cell_type": "markdown",
   "id": "fe57dac4",
   "metadata": {},
   "source": [
    "https://edabit.com/challenge/8rXfBzRZbgZP7mzyR"
   ]
  },
  {
   "cell_type": "code",
   "execution_count": 2,
   "id": "20ec437b",
   "metadata": {},
   "outputs": [],
   "source": [
    "def is_last_character_n(word):\n",
    "    if word[-1] == 'n':\n",
    "        return True \n",
    "    else:\n",
    "        return False"
   ]
  },
  {
   "cell_type": "code",
   "execution_count": 3,
   "id": "7c7ce339",
   "metadata": {},
   "outputs": [
    {
     "data": {
      "text/plain": [
       "True"
      ]
     },
     "execution_count": 3,
     "metadata": {},
     "output_type": "execute_result"
    }
   ],
   "source": [
    "is_last_character_n(\"Aiden\")"
   ]
  },
  {
   "cell_type": "code",
   "execution_count": 4,
   "id": "ee9738d7",
   "metadata": {},
   "outputs": [
    {
     "data": {
      "text/plain": [
       "False"
      ]
     },
     "execution_count": 4,
     "metadata": {},
     "output_type": "execute_result"
    }
   ],
   "source": [
    "is_last_character_n(\"Piet\") \n"
   ]
  },
  {
   "cell_type": "code",
   "execution_count": 5,
   "id": "2bfc0f4f",
   "metadata": {},
   "outputs": [
    {
     "data": {
      "text/plain": [
       "False"
      ]
     },
     "execution_count": 5,
     "metadata": {},
     "output_type": "execute_result"
    }
   ],
   "source": [
    "is_last_character_n(\"Bert\") "
   ]
  },
  {
   "cell_type": "code",
   "execution_count": 6,
   "id": "6374edba",
   "metadata": {},
   "outputs": [
    {
     "data": {
      "text/plain": [
       "True"
      ]
     },
     "execution_count": 6,
     "metadata": {},
     "output_type": "execute_result"
    }
   ],
   "source": [
    "is_last_character_n(\"Dean\")"
   ]
  },
  {
   "cell_type": "code",
   "execution_count": null,
   "id": "2020a734",
   "metadata": {},
   "outputs": [],
   "source": []
  }
 ],
 "metadata": {
  "kernelspec": {
   "display_name": "base",
   "language": "python",
   "name": "python3"
  },
  "language_info": {
   "codemirror_mode": {
    "name": "ipython",
    "version": 3
   },
   "file_extension": ".py",
   "mimetype": "text/x-python",
   "name": "python",
   "nbconvert_exporter": "python",
   "pygments_lexer": "ipython3",
   "version": "3.9.12"
  }
 },
 "nbformat": 4,
 "nbformat_minor": 5
}
