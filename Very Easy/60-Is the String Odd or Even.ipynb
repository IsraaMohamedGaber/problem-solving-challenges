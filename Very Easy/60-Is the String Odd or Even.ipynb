{
 "cells": [
  {
   "cell_type": "markdown",
   "id": "312e104a",
   "metadata": {},
   "source": [
    "Is the String Odd or Even?\n"
   ]
  },
  {
   "cell_type": "markdown",
   "id": "edda92d4",
   "metadata": {},
   "source": [
    "Problem Source"
   ]
  },
  {
   "cell_type": "markdown",
   "id": "bc87ea23",
   "metadata": {},
   "source": [
    "https://edabit.com/challenge/YEwPHzQ5XJCafCQmE"
   ]
  },
  {
   "cell_type": "code",
   "execution_count": 7,
   "id": "3b0c35cf",
   "metadata": {},
   "outputs": [],
   "source": [
    "def odd_or_even(word):\n",
    "    \"\"\"Return 'False' if the length of word is odd, otherwise return 'True'.\"\"\"\n",
    "    if len(word) % 2 == 0:\n",
    "        return \"True\"\n",
    "    else:\n",
    "        return \"False\""
   ]
  },
  {
   "cell_type": "code",
   "execution_count": 8,
   "id": "c03b8a0e",
   "metadata": {},
   "outputs": [
    {
     "data": {
      "text/plain": [
       "'True'"
      ]
     },
     "execution_count": 8,
     "metadata": {},
     "output_type": "execute_result"
    }
   ],
   "source": [
    "odd_or_even(\"apples\")"
   ]
  },
  {
   "cell_type": "code",
   "execution_count": 9,
   "id": "16dc31d0",
   "metadata": {},
   "outputs": [
    {
     "data": {
      "text/plain": [
       "'False'"
      ]
     },
     "execution_count": 9,
     "metadata": {},
     "output_type": "execute_result"
    }
   ],
   "source": [
    "\n",
    "odd_or_even(\"pears\") "
   ]
  },
  {
   "cell_type": "code",
   "execution_count": 10,
   "id": "211d9018",
   "metadata": {},
   "outputs": [
    {
     "data": {
      "text/plain": [
       "'True'"
      ]
     },
     "execution_count": 10,
     "metadata": {},
     "output_type": "execute_result"
    }
   ],
   "source": [
    "odd_or_even(\"cherry\")"
   ]
  }
 ],
 "metadata": {
  "kernelspec": {
   "display_name": "base",
   "language": "python",
   "name": "python3"
  },
  "language_info": {
   "codemirror_mode": {
    "name": "ipython",
    "version": 3
   },
   "file_extension": ".py",
   "mimetype": "text/x-python",
   "name": "python",
   "nbconvert_exporter": "python",
   "pygments_lexer": "ipython3",
   "version": "3.9.12"
  }
 },
 "nbformat": 4,
 "nbformat_minor": 5
}
