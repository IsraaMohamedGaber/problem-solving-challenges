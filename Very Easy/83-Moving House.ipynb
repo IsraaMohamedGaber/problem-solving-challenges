{
 "cells": [
  {
   "cell_type": "markdown",
   "id": "2c9b51f2",
   "metadata": {},
   "source": [
    "Moving House\n"
   ]
  },
  {
   "cell_type": "markdown",
   "id": "edb7336e",
   "metadata": {},
   "source": [
    "Problem Source"
   ]
  },
  {
   "cell_type": "markdown",
   "id": "285865ed",
   "metadata": {},
   "source": [
    "https://edabit.com/challenge/vBEm4jimnvxaFhdgs"
   ]
  },
  {
   "cell_type": "code",
   "execution_count": 9,
   "id": "c9f5ee69",
   "metadata": {},
   "outputs": [],
   "source": [
    "def years_in_one_house(age, moves):\n",
    "    return (age /( moves+1))"
   ]
  },
  {
   "cell_type": "code",
   "execution_count": 10,
   "id": "04203e20",
   "metadata": {},
   "outputs": [
    {
     "data": {
      "text/plain": [
       "15.0"
      ]
     },
     "execution_count": 10,
     "metadata": {},
     "output_type": "execute_result"
    }
   ],
   "source": [
    "years_in_one_house(30, 1)"
   ]
  },
  {
   "cell_type": "code",
   "execution_count": 11,
   "id": "7afbf39a",
   "metadata": {},
   "outputs": [
    {
     "data": {
      "text/plain": [
       "5.0"
      ]
     },
     "execution_count": 11,
     "metadata": {},
     "output_type": "execute_result"
    }
   ],
   "source": [
    "years_in_one_house(15, 2)"
   ]
  },
  {
   "cell_type": "code",
   "execution_count": 12,
   "id": "bb1ddfaf",
   "metadata": {},
   "outputs": [
    {
     "data": {
      "text/plain": [
       "80.0"
      ]
     },
     "execution_count": 12,
     "metadata": {},
     "output_type": "execute_result"
    }
   ],
   "source": [
    "years_in_one_house(80, 0)"
   ]
  },
  {
   "cell_type": "code",
   "execution_count": null,
   "id": "7d7091f7",
   "metadata": {},
   "outputs": [],
   "source": []
  }
 ],
 "metadata": {
  "kernelspec": {
   "display_name": "base",
   "language": "python",
   "name": "python3"
  },
  "language_info": {
   "codemirror_mode": {
    "name": "ipython",
    "version": 3
   },
   "file_extension": ".py",
   "mimetype": "text/x-python",
   "name": "python",
   "nbconvert_exporter": "python",
   "pygments_lexer": "ipython3",
   "version": "3.9.12"
  }
 },
 "nbformat": 4,
 "nbformat_minor": 5
}
