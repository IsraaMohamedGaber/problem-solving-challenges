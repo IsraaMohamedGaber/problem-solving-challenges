{
 "cells": [
  {
   "cell_type": "markdown",
   "id": "37cfbf6b",
   "metadata": {},
   "source": [
    "Profitable Gamble\n"
   ]
  },
  {
   "cell_type": "markdown",
   "id": "299ecf0a",
   "metadata": {},
   "source": [
    "Problem Source"
   ]
  },
  {
   "cell_type": "markdown",
   "id": "f76cea18",
   "metadata": {},
   "source": [
    "https://edabit.com/challenge/SNM5EZ3FePECt2HQn"
   ]
  },
  {
   "cell_type": "code",
   "execution_count": 1,
   "id": "e47118ea",
   "metadata": {},
   "outputs": [],
   "source": [
    "def profitable_gamble(prob, prize, pay):\n",
    "        if  prob * prize > pay:\n",
    "            return True \n",
    "        else:   \n",
    "            return False    "
   ]
  },
  {
   "cell_type": "code",
   "execution_count": 2,
   "id": "50a587b4",
   "metadata": {},
   "outputs": [
    {
     "data": {
      "text/plain": [
       "True"
      ]
     },
     "execution_count": 2,
     "metadata": {},
     "output_type": "execute_result"
    }
   ],
   "source": [
    "profitable_gamble(0.2, 50, 9)"
   ]
  },
  {
   "cell_type": "code",
   "execution_count": 3,
   "id": "26dcb3a1",
   "metadata": {},
   "outputs": [
    {
     "data": {
      "text/plain": [
       "False"
      ]
     },
     "execution_count": 3,
     "metadata": {},
     "output_type": "execute_result"
    }
   ],
   "source": [
    "profitable_gamble(0.9, 1, 2)"
   ]
  },
  {
   "cell_type": "code",
   "execution_count": 4,
   "id": "0e799d40",
   "metadata": {},
   "outputs": [
    {
     "data": {
      "text/plain": [
       "True"
      ]
     },
     "execution_count": 4,
     "metadata": {},
     "output_type": "execute_result"
    }
   ],
   "source": [
    "profitable_gamble(0.9, 3, 2)"
   ]
  },
  {
   "cell_type": "code",
   "execution_count": null,
   "id": "6d92dca9",
   "metadata": {},
   "outputs": [],
   "source": []
  }
 ],
 "metadata": {
  "kernelspec": {
   "display_name": "base",
   "language": "python",
   "name": "python3"
  },
  "language_info": {
   "codemirror_mode": {
    "name": "ipython",
    "version": 3
   },
   "file_extension": ".py",
   "mimetype": "text/x-python",
   "name": "python",
   "nbconvert_exporter": "python",
   "pygments_lexer": "ipython3",
   "version": "3.9.12"
  }
 },
 "nbformat": 4,
 "nbformat_minor": 5
}
