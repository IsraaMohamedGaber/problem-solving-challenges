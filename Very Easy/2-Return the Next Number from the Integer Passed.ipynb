{
 "cells": [
  {
   "cell_type": "markdown",
   "id": "8904d339",
   "metadata": {},
   "source": [
    "Return the Next Number from the Integer Passed"
   ]
  },
  {
   "cell_type": "markdown",
   "id": "c25a4c4d",
   "metadata": {},
   "source": [
    "Problem source"
   ]
  },
  {
   "cell_type": "markdown",
   "id": "3487d064",
   "metadata": {},
   "source": [
    "https://edabit.com/challenge/KjCS7occ9hfu5snpb"
   ]
  },
  {
   "cell_type": "code",
   "execution_count": 1,
   "id": "0eade2d2",
   "metadata": {},
   "outputs": [],
   "source": [
    "def addition(num):\n",
    "    return num + 1"
   ]
  },
  {
   "cell_type": "code",
   "execution_count": null,
   "id": "c5343433",
   "metadata": {},
   "outputs": [
    {
     "data": {
      "text/plain": [
       "1"
      ]
     },
     "execution_count": 2,
     "metadata": {},
     "output_type": "execute_result"
    }
   ],
   "source": [
    "addition(0)"
   ]
  },
  {
   "cell_type": "code",
   "execution_count": 3,
   "id": "48ff0638",
   "metadata": {},
   "outputs": [
    {
     "data": {
      "text/plain": [
       "10"
      ]
     },
     "execution_count": 3,
     "metadata": {},
     "output_type": "execute_result"
    }
   ],
   "source": [
    "addition(9)"
   ]
  },
  {
   "cell_type": "code",
   "execution_count": 4,
   "id": "22d6421f",
   "metadata": {},
   "outputs": [
    {
     "data": {
      "text/plain": [
       "-2"
      ]
     },
     "execution_count": 4,
     "metadata": {},
     "output_type": "execute_result"
    }
   ],
   "source": [
    "addition(-3)"
   ]
  },
  {
   "cell_type": "code",
   "execution_count": null,
   "id": "efed0f77",
   "metadata": {},
   "outputs": [],
   "source": []
  }
 ],
 "metadata": {
  "kernelspec": {
   "display_name": "base",
   "language": "python",
   "name": "python3"
  },
  "language_info": {
   "codemirror_mode": {
    "name": "ipython",
    "version": 3
   },
   "file_extension": ".py",
   "mimetype": "text/x-python",
   "name": "python",
   "nbconvert_exporter": "python",
   "pygments_lexer": "ipython3",
   "version": "3.9.12"
  }
 },
 "nbformat": 4,
 "nbformat_minor": 5
}
