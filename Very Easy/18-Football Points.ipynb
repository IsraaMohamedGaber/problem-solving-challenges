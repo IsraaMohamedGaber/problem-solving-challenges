{
 "cells": [
  {
   "cell_type": "markdown",
   "id": "003f039a",
   "metadata": {},
   "source": [
    "Football Points\n"
   ]
  },
  {
   "cell_type": "markdown",
   "id": "ed78d556",
   "metadata": {},
   "source": [
    "Problem Source"
   ]
  },
  {
   "cell_type": "markdown",
   "id": "e8faf242",
   "metadata": {},
   "source": [
    "https://edabit.com/challenge/gwqqc5p3oiFXRJAQm"
   ]
  },
  {
   "cell_type": "code",
   "execution_count": 1,
   "id": "729e49cf",
   "metadata": {},
   "outputs": [],
   "source": [
    "def football_points(wins, draws, losses):\n",
    "    return (wins * 3) + (draws * 1 )+ (losses * 0)"
   ]
  },
  {
   "cell_type": "code",
   "execution_count": 2,
   "id": "9964829a",
   "metadata": {},
   "outputs": [
    {
     "data": {
      "text/plain": [
       "13"
      ]
     },
     "execution_count": 2,
     "metadata": {},
     "output_type": "execute_result"
    }
   ],
   "source": [
    "football_points(3, 4, 2)"
   ]
  },
  {
   "cell_type": "code",
   "execution_count": 3,
   "id": "8f1736ec",
   "metadata": {},
   "outputs": [
    {
     "data": {
      "text/plain": [
       "15"
      ]
     },
     "execution_count": 3,
     "metadata": {},
     "output_type": "execute_result"
    }
   ],
   "source": [
    "football_points(5, 0, 2)"
   ]
  },
  {
   "cell_type": "code",
   "execution_count": 4,
   "id": "36359fe5",
   "metadata": {},
   "outputs": [
    {
     "data": {
      "text/plain": [
       "0"
      ]
     },
     "execution_count": 4,
     "metadata": {},
     "output_type": "execute_result"
    }
   ],
   "source": [
    "football_points(0, 0, 1) "
   ]
  }
 ],
 "metadata": {
  "kernelspec": {
   "display_name": "base",
   "language": "python",
   "name": "python3"
  },
  "language_info": {
   "codemirror_mode": {
    "name": "ipython",
    "version": 3
   },
   "file_extension": ".py",
   "mimetype": "text/x-python",
   "name": "python",
   "nbconvert_exporter": "python",
   "pygments_lexer": "ipython3",
   "version": "3.9.12"
  }
 },
 "nbformat": 4,
 "nbformat_minor": 5
}
