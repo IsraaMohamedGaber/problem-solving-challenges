{
 "cells": [
  {
   "cell_type": "markdown",
   "id": "99348a58",
   "metadata": {},
   "source": [
    "Are the Numbers Equal?\n"
   ]
  },
  {
   "cell_type": "markdown",
   "id": "2d4f6cd5",
   "metadata": {},
   "source": [
    "Problem Source"
   ]
  },
  {
   "cell_type": "markdown",
   "id": "dc700df8",
   "metadata": {},
   "source": [
    "https://edabit.com/challenge/yfooETHj3sHoHTJsv"
   ]
  },
  {
   "cell_type": "code",
   "execution_count": 1,
   "id": "b170a5e4",
   "metadata": {},
   "outputs": [],
   "source": [
    "def is_same_num(num1, num2):\n",
    "    return num1 == num2"
   ]
  },
  {
   "cell_type": "code",
   "execution_count": 2,
   "id": "607855c5",
   "metadata": {},
   "outputs": [
    {
     "data": {
      "text/plain": [
       "False"
      ]
     },
     "execution_count": 2,
     "metadata": {},
     "output_type": "execute_result"
    }
   ],
   "source": [
    "is_same_num(4, 8)"
   ]
  },
  {
   "cell_type": "code",
   "execution_count": 3,
   "id": "eb4d6baf",
   "metadata": {},
   "outputs": [
    {
     "data": {
      "text/plain": [
       "True"
      ]
     },
     "execution_count": 3,
     "metadata": {},
     "output_type": "execute_result"
    }
   ],
   "source": [
    "is_same_num(2, 2)"
   ]
  },
  {
   "cell_type": "code",
   "execution_count": 4,
   "id": "e0e11923",
   "metadata": {},
   "outputs": [
    {
     "data": {
      "text/plain": [
       "False"
      ]
     },
     "execution_count": 4,
     "metadata": {},
     "output_type": "execute_result"
    }
   ],
   "source": [
    "is_same_num(2, \"2\")"
   ]
  },
  {
   "cell_type": "code",
   "execution_count": null,
   "id": "2d3a71dc",
   "metadata": {},
   "outputs": [],
   "source": []
  }
 ],
 "metadata": {
  "kernelspec": {
   "display_name": "base",
   "language": "python",
   "name": "python3"
  },
  "language_info": {
   "codemirror_mode": {
    "name": "ipython",
    "version": 3
   },
   "file_extension": ".py",
   "mimetype": "text/x-python",
   "name": "python",
   "nbconvert_exporter": "python",
   "pygments_lexer": "ipython3",
   "version": "3.9.12"
  }
 },
 "nbformat": 4,
 "nbformat_minor": 5
}
