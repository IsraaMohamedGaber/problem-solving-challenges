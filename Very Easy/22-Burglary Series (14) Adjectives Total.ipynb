{
 "cells": [
  {
   "cell_type": "markdown",
   "id": "81f24fdd",
   "metadata": {},
   "source": [
    "Burglary Series (14): Adjectives Total\n"
   ]
  },
  {
   "cell_type": "markdown",
   "id": "063ea07a",
   "metadata": {},
   "source": [
    "Problem Source\n"
   ]
  },
  {
   "cell_type": "markdown",
   "id": "3d4efdc6",
   "metadata": {},
   "source": [
    "https://edabit.com/challenge/jKAjLk5epb8XDzTwC"
   ]
  },
  {
   "cell_type": "code",
   "execution_count": 10,
   "id": "ca5821dd",
   "metadata": {},
   "outputs": [],
   "source": [
    "def total_amount_adjectives( dct):\n",
    "    #return sum(dct.values())\n",
    "    return len(dct)"
   ]
  },
  {
   "cell_type": "code",
   "execution_count": 11,
   "id": "f41d2fb9",
   "metadata": {},
   "outputs": [],
   "source": [
    "#if we use sum\n",
    "#total_amount_adjectives({\"a\": 5, \"b\": 3} )"
   ]
  },
  {
   "cell_type": "code",
   "execution_count": 12,
   "id": "67ec7f97",
   "metadata": {},
   "outputs": [
    {
     "data": {
      "text/plain": [
       "1"
      ]
     },
     "execution_count": 12,
     "metadata": {},
     "output_type": "execute_result"
    }
   ],
   "source": [
    "total_amount_adjectives({ \"a\": \"moron\" })"
   ]
  },
  {
   "cell_type": "code",
   "execution_count": 13,
   "id": "cf1992a7",
   "metadata": {},
   "outputs": [
    {
     "data": {
      "text/plain": [
       "3"
      ]
     },
     "execution_count": 13,
     "metadata": {},
     "output_type": "execute_result"
    }
   ],
   "source": [
    "total_amount_adjectives({ \"a\": \"idiot\", \"b\": \"idiot\", \"c\": \"idiot\" })"
   ]
  },
  {
   "cell_type": "code",
   "execution_count": 15,
   "id": "ff26b69b",
   "metadata": {},
   "outputs": [
    {
     "data": {
      "text/plain": [
       "4"
      ]
     },
     "execution_count": 15,
     "metadata": {},
     "output_type": "execute_result"
    }
   ],
   "source": [
    "total_amount_adjectives({ \"a\": \"moron\", \"b\": \"scumbag\", \"c\": \"moron\", \"d\": \"dirtbag\" }) \n"
   ]
  },
  {
   "cell_type": "code",
   "execution_count": null,
   "id": "94adbf65",
   "metadata": {},
   "outputs": [],
   "source": []
  }
 ],
 "metadata": {
  "kernelspec": {
   "display_name": "base",
   "language": "python",
   "name": "python3"
  },
  "language_info": {
   "codemirror_mode": {
    "name": "ipython",
    "version": 3
   },
   "file_extension": ".py",
   "mimetype": "text/x-python",
   "name": "python",
   "nbconvert_exporter": "python",
   "pygments_lexer": "ipython3",
   "version": "3.9.12"
  }
 },
 "nbformat": 4,
 "nbformat_minor": 5
}
