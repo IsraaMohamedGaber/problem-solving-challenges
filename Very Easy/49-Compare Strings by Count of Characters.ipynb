{
 "cells": [
  {
   "cell_type": "markdown",
   "id": "fe415845",
   "metadata": {},
   "source": [
    "Compare Strings by Count of Characters\n"
   ]
  },
  {
   "cell_type": "markdown",
   "id": "1dedea04",
   "metadata": {},
   "source": [
    "Problem Source"
   ]
  },
  {
   "cell_type": "markdown",
   "id": "9c2a6944",
   "metadata": {},
   "source": [
    "https://edabit.com/challenge/C3N2JEfFQoh4cqQ98"
   ]
  },
  {
   "cell_type": "code",
   "execution_count": 1,
   "id": "f03430d9",
   "metadata": {},
   "outputs": [],
   "source": [
    "def comp(txt1, txt2):\n",
    "    if len(txt1) == len(txt2):\n",
    "        return True\n",
    "    else:     \n",
    "        return False"
   ]
  },
  {
   "cell_type": "code",
   "execution_count": 2,
   "id": "87434397",
   "metadata": {},
   "outputs": [
    {
     "data": {
      "text/plain": [
       "True"
      ]
     },
     "execution_count": 2,
     "metadata": {},
     "output_type": "execute_result"
    }
   ],
   "source": [
    "comp(\"AB\", \"CD\")"
   ]
  },
  {
   "cell_type": "code",
   "execution_count": 3,
   "id": "3714551f",
   "metadata": {},
   "outputs": [
    {
     "data": {
      "text/plain": [
       "False"
      ]
     },
     "execution_count": 3,
     "metadata": {},
     "output_type": "execute_result"
    }
   ],
   "source": [
    "comp(\"ABC\", \"DE\")"
   ]
  },
  {
   "cell_type": "code",
   "execution_count": 4,
   "id": "296e7414",
   "metadata": {},
   "outputs": [
    {
     "data": {
      "text/plain": [
       "False"
      ]
     },
     "execution_count": 4,
     "metadata": {},
     "output_type": "execute_result"
    }
   ],
   "source": [
    "comp(\"hello\", \"edabit\")"
   ]
  },
  {
   "cell_type": "code",
   "execution_count": null,
   "id": "1e6d6062",
   "metadata": {},
   "outputs": [],
   "source": []
  }
 ],
 "metadata": {
  "kernelspec": {
   "display_name": "base",
   "language": "python",
   "name": "python3"
  },
  "language_info": {
   "codemirror_mode": {
    "name": "ipython",
    "version": 3
   },
   "file_extension": ".py",
   "mimetype": "text/x-python",
   "name": "python",
   "nbconvert_exporter": "python",
   "pygments_lexer": "ipython3",
   "version": "3.9.12"
  }
 },
 "nbformat": 4,
 "nbformat_minor": 5
}
