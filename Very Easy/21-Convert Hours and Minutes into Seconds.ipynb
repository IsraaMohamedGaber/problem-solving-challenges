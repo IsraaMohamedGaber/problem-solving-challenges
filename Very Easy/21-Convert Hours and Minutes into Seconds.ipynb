{
 "cells": [
  {
   "cell_type": "markdown",
   "id": "afbc71f7",
   "metadata": {},
   "source": [
    "Convert Hours and Minutes into Seconds\n"
   ]
  },
  {
   "cell_type": "markdown",
   "id": "d26cc1da",
   "metadata": {},
   "source": [
    "Problem Source"
   ]
  },
  {
   "cell_type": "markdown",
   "id": "43903daf",
   "metadata": {},
   "source": [
    "https://edabit.com/challenges"
   ]
  },
  {
   "cell_type": "code",
   "execution_count": 1,
   "id": "f3c15807",
   "metadata": {},
   "outputs": [],
   "source": [
    "def convert(hours, minutes):\n",
    "    return (hours * 60 * 60) +( minutes * 60)"
   ]
  },
  {
   "cell_type": "code",
   "execution_count": 2,
   "id": "d7d1637a",
   "metadata": {},
   "outputs": [
    {
     "data": {
      "text/plain": [
       "3780"
      ]
     },
     "execution_count": 2,
     "metadata": {},
     "output_type": "execute_result"
    }
   ],
   "source": [
    "convert(1, 3)"
   ]
  },
  {
   "cell_type": "code",
   "execution_count": 3,
   "id": "a3ecc737",
   "metadata": {},
   "outputs": [
    {
     "data": {
      "text/plain": [
       "7200"
      ]
     },
     "execution_count": 3,
     "metadata": {},
     "output_type": "execute_result"
    }
   ],
   "source": [
    "convert(2, 0) "
   ]
  },
  {
   "cell_type": "code",
   "execution_count": 4,
   "id": "0213e1f0",
   "metadata": {},
   "outputs": [
    {
     "data": {
      "text/plain": [
       "0"
      ]
     },
     "execution_count": 4,
     "metadata": {},
     "output_type": "execute_result"
    }
   ],
   "source": [
    "convert(0, 0) "
   ]
  },
  {
   "cell_type": "code",
   "execution_count": null,
   "id": "233f7491",
   "metadata": {},
   "outputs": [],
   "source": []
  }
 ],
 "metadata": {
  "kernelspec": {
   "display_name": "base",
   "language": "python",
   "name": "python3"
  },
  "language_info": {
   "codemirror_mode": {
    "name": "ipython",
    "version": 3
   },
   "file_extension": ".py",
   "mimetype": "text/x-python",
   "name": "python",
   "nbconvert_exporter": "python",
   "pygments_lexer": "ipython3",
   "version": "3.9.12"
  }
 },
 "nbformat": 4,
 "nbformat_minor": 5
}
