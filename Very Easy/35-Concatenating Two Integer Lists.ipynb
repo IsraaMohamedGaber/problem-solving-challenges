{
 "cells": [
  {
   "cell_type": "markdown",
   "id": "69e4907b",
   "metadata": {},
   "source": [
    "Concatenating Two Integer Lists\n"
   ]
  },
  {
   "cell_type": "markdown",
   "id": "2b7e9ebe",
   "metadata": {},
   "source": [
    "Problem Source"
   ]
  },
  {
   "cell_type": "markdown",
   "id": "1a0b5610",
   "metadata": {},
   "source": [
    "https://edabit.com/challenge/cCWMeiJCP9Ef8XMq8"
   ]
  },
  {
   "cell_type": "code",
   "execution_count": 1,
   "id": "f196feac",
   "metadata": {},
   "outputs": [],
   "source": [
    "def concat(lst1, lst2):\n",
    "    return lst1 + lst2"
   ]
  },
  {
   "cell_type": "code",
   "execution_count": 2,
   "id": "000dd6fc",
   "metadata": {},
   "outputs": [
    {
     "data": {
      "text/plain": [
       "[1, 3, 5, 2, 6, 8]"
      ]
     },
     "execution_count": 2,
     "metadata": {},
     "output_type": "execute_result"
    }
   ],
   "source": [
    "concat([1, 3, 5], [2, 6, 8])"
   ]
  },
  {
   "cell_type": "code",
   "execution_count": 3,
   "id": "77c2aa20",
   "metadata": {},
   "outputs": [
    {
     "data": {
      "text/plain": [
       "[7, 8, 10, 9, 1, 1, 2]"
      ]
     },
     "execution_count": 3,
     "metadata": {},
     "output_type": "execute_result"
    }
   ],
   "source": [
    "concat([7, 8], [10, 9, 1, 1, 2])"
   ]
  },
  {
   "cell_type": "code",
   "execution_count": 4,
   "id": "caeef2bf",
   "metadata": {},
   "outputs": [
    {
     "data": {
      "text/plain": [
       "[4, 5, 1, 3, 3, 3, 3, 3]"
      ]
     },
     "execution_count": 4,
     "metadata": {},
     "output_type": "execute_result"
    }
   ],
   "source": [
    "concat([4, 5, 1], [3, 3, 3, 3, 3]) "
   ]
  },
  {
   "cell_type": "code",
   "execution_count": null,
   "id": "22393cfc",
   "metadata": {},
   "outputs": [],
   "source": []
  }
 ],
 "metadata": {
  "kernelspec": {
   "display_name": "base",
   "language": "python",
   "name": "python3"
  },
  "language_info": {
   "codemirror_mode": {
    "name": "ipython",
    "version": 3
   },
   "file_extension": ".py",
   "mimetype": "text/x-python",
   "name": "python",
   "nbconvert_exporter": "python",
   "pygments_lexer": "ipython3",
   "version": "3.9.12"
  }
 },
 "nbformat": 4,
 "nbformat_minor": 5
}
