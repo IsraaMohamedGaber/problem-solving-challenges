{
 "cells": [
  {
   "cell_type": "markdown",
   "id": "dee3a6dc",
   "metadata": {},
   "source": [
    "Correct the Mistakes\n"
   ]
  },
  {
   "cell_type": "markdown",
   "id": "59a242de",
   "metadata": {},
   "source": [
    "Problem Source"
   ]
  },
  {
   "cell_type": "markdown",
   "id": "dfbc3122",
   "metadata": {},
   "source": [
    "https://edabit.com/challenge/sLkTkfLgZYs5wejsg"
   ]
  },
  {
   "cell_type": "code",
   "execution_count": 3,
   "id": "fa754468",
   "metadata": {},
   "outputs": [],
   "source": [
    "def squaed(b):\n",
    "\treturn b * b\n"
   ]
  },
  {
   "cell_type": "code",
   "execution_count": 4,
   "id": "a327094b",
   "metadata": {},
   "outputs": [
    {
     "data": {
      "text/plain": [
       "25"
      ]
     },
     "execution_count": 4,
     "metadata": {},
     "output_type": "execute_result"
    }
   ],
   "source": [
    "squaed(5)"
   ]
  },
  {
   "cell_type": "code",
   "execution_count": 5,
   "id": "1e84104a",
   "metadata": {},
   "outputs": [
    {
     "data": {
      "text/plain": [
       "81"
      ]
     },
     "execution_count": 5,
     "metadata": {},
     "output_type": "execute_result"
    }
   ],
   "source": [
    "squaed(9)"
   ]
  },
  {
   "cell_type": "code",
   "execution_count": 6,
   "id": "a920e6ae",
   "metadata": {},
   "outputs": [
    {
     "data": {
      "text/plain": [
       "10000"
      ]
     },
     "execution_count": 6,
     "metadata": {},
     "output_type": "execute_result"
    }
   ],
   "source": [
    "squaed(100)"
   ]
  },
  {
   "cell_type": "code",
   "execution_count": null,
   "id": "754dc83b",
   "metadata": {},
   "outputs": [],
   "source": []
  }
 ],
 "metadata": {
  "kernelspec": {
   "display_name": "base",
   "language": "python",
   "name": "python3"
  },
  "language_info": {
   "codemirror_mode": {
    "name": "ipython",
    "version": 3
   },
   "file_extension": ".py",
   "mimetype": "text/x-python",
   "name": "python",
   "nbconvert_exporter": "python",
   "pygments_lexer": "ipython3",
   "version": "3.9.12"
  }
 },
 "nbformat": 4,
 "nbformat_minor": 5
}
