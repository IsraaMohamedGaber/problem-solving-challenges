{
 "cells": [
  {
   "cell_type": "markdown",
   "id": "6d3cff5a",
   "metadata": {},
   "source": [
    "Find the Perimeter of a Rectangle\n"
   ]
  },
  {
   "cell_type": "markdown",
   "id": "0c17dd8f",
   "metadata": {},
   "source": [
    "Problem Source"
   ]
  },
  {
   "cell_type": "markdown",
   "id": "50ee498d",
   "metadata": {},
   "source": [
    "https://edabit.com/challenge/Yx2a9B57vXRuPevGh"
   ]
  },
  {
   "cell_type": "code",
   "execution_count": 1,
   "id": "2e88cba3",
   "metadata": {},
   "outputs": [],
   "source": [
    "def find_perimeter(length, width):\n",
    "    return 2 * (length + width)"
   ]
  },
  {
   "cell_type": "code",
   "execution_count": 2,
   "id": "dcb92124",
   "metadata": {},
   "outputs": [
    {
     "data": {
      "text/plain": [
       "26"
      ]
     },
     "execution_count": 2,
     "metadata": {},
     "output_type": "execute_result"
    }
   ],
   "source": [
    "find_perimeter(6, 7)"
   ]
  },
  {
   "cell_type": "code",
   "execution_count": 3,
   "id": "c88906fa",
   "metadata": {},
   "outputs": [
    {
     "data": {
      "text/plain": [
       "60"
      ]
     },
     "execution_count": 3,
     "metadata": {},
     "output_type": "execute_result"
    }
   ],
   "source": [
    "find_perimeter(20, 10)"
   ]
  },
  {
   "cell_type": "code",
   "execution_count": 4,
   "id": "ab954e8b",
   "metadata": {},
   "outputs": [
    {
     "data": {
      "text/plain": [
       "22"
      ]
     },
     "execution_count": 4,
     "metadata": {},
     "output_type": "execute_result"
    }
   ],
   "source": [
    "find_perimeter(2, 9)"
   ]
  },
  {
   "cell_type": "code",
   "execution_count": null,
   "id": "68a8d4da",
   "metadata": {},
   "outputs": [],
   "source": []
  }
 ],
 "metadata": {
  "kernelspec": {
   "display_name": "base",
   "language": "python",
   "name": "python3"
  },
  "language_info": {
   "codemirror_mode": {
    "name": "ipython",
    "version": 3
   },
   "file_extension": ".py",
   "mimetype": "text/x-python",
   "name": "python",
   "nbconvert_exporter": "python",
   "pygments_lexer": "ipython3",
   "version": "3.9.12"
  }
 },
 "nbformat": 4,
 "nbformat_minor": 5
}
