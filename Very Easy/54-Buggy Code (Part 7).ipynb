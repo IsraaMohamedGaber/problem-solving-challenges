{
 "cells": [
  {
   "cell_type": "markdown",
   "id": "e8a771a9",
   "metadata": {},
   "source": [
    "Buggy Code (Part 7)\n"
   ]
  },
  {
   "cell_type": "markdown",
   "id": "b2ffe1ee",
   "metadata": {},
   "source": [
    "Problem Source"
   ]
  },
  {
   "cell_type": "markdown",
   "id": "5fccae0a",
   "metadata": {},
   "source": [
    "https://edabit.com/challenge/2BvLTb49ywi2vubpm"
   ]
  },
  {
   "cell_type": "code",
   "execution_count": 1,
   "id": "04dbaec4",
   "metadata": {},
   "outputs": [],
   "source": [
    "def swap(a, b):\n",
    "    # b = a\n",
    "\t# a = b\n",
    "\treturn [b, a]"
   ]
  },
  {
   "cell_type": "code",
   "execution_count": 2,
   "id": "c76ce627",
   "metadata": {},
   "outputs": [
    {
     "data": {
      "text/plain": [
       "[200, 100]"
      ]
     },
     "execution_count": 2,
     "metadata": {},
     "output_type": "execute_result"
    }
   ],
   "source": [
    "swap(100, 200)"
   ]
  },
  {
   "cell_type": "code",
   "execution_count": 3,
   "id": "a70df4fb",
   "metadata": {},
   "outputs": [
    {
     "data": {
      "text/plain": [
       "[33, 44]"
      ]
     },
     "execution_count": 3,
     "metadata": {},
     "output_type": "execute_result"
    }
   ],
   "source": [
    "swap(44, 33)"
   ]
  },
  {
   "cell_type": "code",
   "execution_count": 4,
   "id": "5570e87a",
   "metadata": {},
   "outputs": [
    {
     "data": {
      "text/plain": [
       "[12, 21]"
      ]
     },
     "execution_count": 4,
     "metadata": {},
     "output_type": "execute_result"
    }
   ],
   "source": [
    "swap(21, 12)"
   ]
  },
  {
   "cell_type": "code",
   "execution_count": null,
   "id": "d9d8305b",
   "metadata": {},
   "outputs": [],
   "source": []
  }
 ],
 "metadata": {
  "kernelspec": {
   "display_name": "base",
   "language": "python",
   "name": "python3"
  },
  "language_info": {
   "codemirror_mode": {
    "name": "ipython",
    "version": 3
   },
   "file_extension": ".py",
   "mimetype": "text/x-python",
   "name": "python",
   "nbconvert_exporter": "python",
   "pygments_lexer": "ipython3",
   "version": "3.9.12"
  }
 },
 "nbformat": 4,
 "nbformat_minor": 5
}
