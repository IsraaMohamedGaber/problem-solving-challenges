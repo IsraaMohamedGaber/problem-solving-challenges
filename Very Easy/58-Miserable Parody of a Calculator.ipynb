{
 "cells": [
  {
   "cell_type": "markdown",
   "id": "0d42537e",
   "metadata": {},
   "source": [
    "Miserable Parody of a Calculator\n"
   ]
  },
  {
   "cell_type": "markdown",
   "id": "99fdabbf",
   "metadata": {},
   "source": [
    "Problem Source"
   ]
  },
  {
   "cell_type": "markdown",
   "id": "cdb286fd",
   "metadata": {},
   "source": [
    "https://edabit.com/challenge/F7qjLMhPzJgyNEqdi"
   ]
  },
  {
   "cell_type": "code",
   "execution_count": 1,
   "id": "9c0cab89",
   "metadata": {},
   "outputs": [],
   "source": [
    "def calculator(txt):\n",
    "    try:\n",
    "        # Remove spaces for easier processing\n",
    "        txt = txt.replace(\" \", \"\")\n",
    "        # Allowed characters\n",
    "        allowed = \"0123456789+-*/().\"\n",
    "        if any(ch not in allowed for ch in txt):\n",
    "            raise ValueError(\"Invalid characters in expression\")\n",
    "        # Safely evaluate the expression\n",
    "        result = eval(txt, {\"__builtins__\": None}, {})\n",
    "        return result\n",
    "    except Exception:\n",
    "        return \"Error: Invalid expression\"\n"
   ]
  },
  {
   "cell_type": "code",
   "execution_count": 2,
   "id": "50865c2c",
   "metadata": {},
   "outputs": [
    {
     "data": {
      "text/plain": [
       "27"
      ]
     },
     "execution_count": 2,
     "metadata": {},
     "output_type": "execute_result"
    }
   ],
   "source": [
    "calculator(\"23+4\")"
   ]
  },
  {
   "cell_type": "code",
   "execution_count": 3,
   "id": "d92f49c9",
   "metadata": {},
   "outputs": [
    {
     "data": {
      "text/plain": [
       "30"
      ]
     },
     "execution_count": 3,
     "metadata": {},
     "output_type": "execute_result"
    }
   ],
   "source": [
    "calculator(\"45-15\")"
   ]
  },
  {
   "cell_type": "code",
   "execution_count": 4,
   "id": "22d361e8",
   "metadata": {},
   "outputs": [
    {
     "data": {
      "text/plain": [
       "5"
      ]
     },
     "execution_count": 4,
     "metadata": {},
     "output_type": "execute_result"
    }
   ],
   "source": [
    "calculator(\"13+2-5*2\")"
   ]
  },
  {
   "cell_type": "code",
   "execution_count": 5,
   "id": "f094a6e4",
   "metadata": {},
   "outputs": [
    {
     "data": {
      "text/plain": [
       "11.0"
      ]
     },
     "execution_count": 5,
     "metadata": {},
     "output_type": "execute_result"
    }
   ],
   "source": [
    "calculator(\"49/7*2-3\")"
   ]
  },
  {
   "cell_type": "code",
   "execution_count": null,
   "id": "3873eddd",
   "metadata": {},
   "outputs": [],
   "source": []
  }
 ],
 "metadata": {
  "kernelspec": {
   "display_name": "base",
   "language": "python",
   "name": "python3"
  },
  "language_info": {
   "codemirror_mode": {
    "name": "ipython",
    "version": 3
   },
   "file_extension": ".py",
   "mimetype": "text/x-python",
   "name": "python",
   "nbconvert_exporter": "python",
   "pygments_lexer": "ipython3",
   "version": "3.9.12"
  }
 },
 "nbformat": 4,
 "nbformat_minor": 5
}
