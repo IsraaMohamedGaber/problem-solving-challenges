{
 "cells": [
  {
   "cell_type": "markdown",
   "id": "707e6844",
   "metadata": {},
   "source": [
    "Convert Hours into Seconds"
   ]
  },
  {
   "cell_type": "markdown",
   "id": "10d94eb5",
   "metadata": {},
   "source": [
    "Problem source"
   ]
  },
  {
   "cell_type": "markdown",
   "id": "4a3c02fd",
   "metadata": {},
   "source": [
    "https://edabit.com/challenge/nyeNvKWdDFKRAk4Da"
   ]
  },
  {
   "cell_type": "code",
   "execution_count": 1,
   "id": "d8fcd208",
   "metadata": {},
   "outputs": [],
   "source": [
    "def how_many_seconds(hours):    \n",
    "    return hours * 60 * 60\n"
   ]
  },
  {
   "cell_type": "code",
   "execution_count": 2,
   "id": "14711e10",
   "metadata": {},
   "outputs": [
    {
     "data": {
      "text/plain": [
       "7200"
      ]
     },
     "execution_count": 2,
     "metadata": {},
     "output_type": "execute_result"
    }
   ],
   "source": [
    "how_many_seconds(2)"
   ]
  },
  {
   "cell_type": "code",
   "execution_count": 3,
   "id": "a27a69cf",
   "metadata": {},
   "outputs": [
    {
     "data": {
      "text/plain": [
       "36000"
      ]
     },
     "execution_count": 3,
     "metadata": {},
     "output_type": "execute_result"
    }
   ],
   "source": [
    "how_many_seconds(10)"
   ]
  },
  {
   "cell_type": "code",
   "execution_count": 4,
   "id": "42a15682",
   "metadata": {},
   "outputs": [
    {
     "data": {
      "text/plain": [
       "86400"
      ]
     },
     "execution_count": 4,
     "metadata": {},
     "output_type": "execute_result"
    }
   ],
   "source": [
    "how_many_seconds(24)"
   ]
  },
  {
   "cell_type": "code",
   "execution_count": null,
   "id": "fd449034",
   "metadata": {},
   "outputs": [],
   "source": []
  }
 ],
 "metadata": {
  "kernelspec": {
   "display_name": "base",
   "language": "python",
   "name": "python3"
  },
  "language_info": {
   "codemirror_mode": {
    "name": "ipython",
    "version": 3
   },
   "file_extension": ".py",
   "mimetype": "text/x-python",
   "name": "python",
   "nbconvert_exporter": "python",
   "pygments_lexer": "ipython3",
   "version": "3.9.12"
  }
 },
 "nbformat": 4,
 "nbformat_minor": 5
}
