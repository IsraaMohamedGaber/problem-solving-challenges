{
 "cells": [
  {
   "cell_type": "markdown",
   "id": "6699c911",
   "metadata": {},
   "source": [
    "Front 3 - Slice Check Repeat Concatenate\n"
   ]
  },
  {
   "cell_type": "markdown",
   "id": "c9e170ab",
   "metadata": {},
   "source": [
    "Problem Source"
   ]
  },
  {
   "cell_type": "markdown",
   "id": "d246da02",
   "metadata": {},
   "source": [
    "https://edabit.com/challenge/dP9osvXn6r6F36wYF"
   ]
  },
  {
   "cell_type": "code",
   "execution_count": 1,
   "id": "14e9bad0",
   "metadata": {},
   "outputs": [],
   "source": [
    "def front3(txt):\n",
    "    if len(txt) < 3:\n",
    "        return txt * 3\n",
    "    else:    \n",
    "        front = txt[:3]\n",
    "        return front * 3"
   ]
  },
  {
   "cell_type": "code",
   "execution_count": 2,
   "id": "e278b3f7",
   "metadata": {},
   "outputs": [
    {
     "data": {
      "text/plain": [
       "'PytPytPyt'"
      ]
     },
     "execution_count": 2,
     "metadata": {},
     "output_type": "execute_result"
    }
   ],
   "source": [
    "front3(\"Python\")"
   ]
  },
  {
   "cell_type": "code",
   "execution_count": 3,
   "id": "27a093ab",
   "metadata": {},
   "outputs": [
    {
     "data": {
      "text/plain": [
       "'CucCucCuc'"
      ]
     },
     "execution_count": 3,
     "metadata": {},
     "output_type": "execute_result"
    }
   ],
   "source": [
    "front3(\"Cucumber\")"
   ]
  },
  {
   "cell_type": "code",
   "execution_count": 4,
   "id": "f7e60e77",
   "metadata": {},
   "outputs": [
    {
     "data": {
      "text/plain": [
       "'biobiobio'"
      ]
     },
     "execution_count": 4,
     "metadata": {},
     "output_type": "execute_result"
    }
   ],
   "source": [
    "front3(\"bioshock\")"
   ]
  },
  {
   "cell_type": "code",
   "execution_count": 5,
   "id": "871d2e52",
   "metadata": {},
   "outputs": [
    {
     "data": {
      "text/plain": [
       "'ZZZ'"
      ]
     },
     "execution_count": 5,
     "metadata": {},
     "output_type": "execute_result"
    }
   ],
   "source": [
    "front3(\"Z\")"
   ]
  },
  {
   "cell_type": "code",
   "execution_count": null,
   "id": "89ffd12c",
   "metadata": {},
   "outputs": [],
   "source": []
  }
 ],
 "metadata": {
  "kernelspec": {
   "display_name": "base",
   "language": "python",
   "name": "python3"
  },
  "language_info": {
   "codemirror_mode": {
    "name": "ipython",
    "version": 3
   },
   "file_extension": ".py",
   "mimetype": "text/x-python",
   "name": "python",
   "nbconvert_exporter": "python",
   "pygments_lexer": "ipython3",
   "version": "3.9.12"
  }
 },
 "nbformat": 4,
 "nbformat_minor": 5
}
