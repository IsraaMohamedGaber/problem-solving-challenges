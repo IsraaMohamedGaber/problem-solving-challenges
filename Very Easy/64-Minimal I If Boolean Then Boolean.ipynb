{
 "cells": [
  {
   "cell_type": "markdown",
   "id": "49237d36",
   "metadata": {},
   "source": [
    "Minimal I: If Boolean Then Boolean\n"
   ]
  },
  {
   "cell_type": "markdown",
   "id": "610a574a",
   "metadata": {},
   "source": [
    "Problem Source"
   ]
  },
  {
   "cell_type": "markdown",
   "id": "b4b4312c",
   "metadata": {},
   "source": [
    "https://edabit.com/challenge/2XLjgZhmACph76Pkr"
   ]
  },
  {
   "cell_type": "code",
   "execution_count": 1,
   "id": "80223530",
   "metadata": {},
   "outputs": [],
   "source": [
    "def is_even(n):\n",
    "\tif n % 2 == 0:\n",
    "\t\treturn True\n",
    "\telse:\n",
    "\t\treturn False"
   ]
  },
  {
   "cell_type": "code",
   "execution_count": 2,
   "id": "13111f4e",
   "metadata": {},
   "outputs": [
    {
     "data": {
      "text/plain": [
       "True"
      ]
     },
     "execution_count": 2,
     "metadata": {},
     "output_type": "execute_result"
    }
   ],
   "source": [
    "is_even(4)"
   ]
  },
  {
   "cell_type": "code",
   "execution_count": 3,
   "id": "58662f5a",
   "metadata": {},
   "outputs": [
    {
     "data": {
      "text/plain": [
       "False"
      ]
     },
     "execution_count": 3,
     "metadata": {},
     "output_type": "execute_result"
    }
   ],
   "source": [
    "is_even(5)"
   ]
  },
  {
   "cell_type": "code",
   "execution_count": null,
   "id": "66426552",
   "metadata": {},
   "outputs": [],
   "source": []
  }
 ],
 "metadata": {
  "kernelspec": {
   "display_name": "base",
   "language": "python",
   "name": "python3"
  },
  "language_info": {
   "codemirror_mode": {
    "name": "ipython",
    "version": 3
   },
   "file_extension": ".py",
   "mimetype": "text/x-python",
   "name": "python",
   "nbconvert_exporter": "python",
   "pygments_lexer": "ipython3",
   "version": "3.9.12"
  }
 },
 "nbformat": 4,
 "nbformat_minor": 5
}
