{
 "cells": [
  {
   "cell_type": "markdown",
   "id": "627be89a",
   "metadata": {},
   "source": [
    "Concatenate First and Last Name into One String\n"
   ]
  },
  {
   "cell_type": "markdown",
   "id": "bb420a1e",
   "metadata": {},
   "source": [
    "Problem Source"
   ]
  },
  {
   "cell_type": "markdown",
   "id": "c264ee6c",
   "metadata": {},
   "source": [
    "https://edabit.com/challenge/pFQPcaaASgHuACbaS"
   ]
  },
  {
   "cell_type": "code",
   "execution_count": 1,
   "id": "a7031b95",
   "metadata": {},
   "outputs": [],
   "source": [
    "def concat_name(first_name, last_name):\n",
    "    return last_name + \", \" + first_name"
   ]
  },
  {
   "cell_type": "code",
   "execution_count": 2,
   "id": "47119be8",
   "metadata": {},
   "outputs": [
    {
     "data": {
      "text/plain": [
       "'Last, First'"
      ]
     },
     "execution_count": 2,
     "metadata": {},
     "output_type": "execute_result"
    }
   ],
   "source": [
    "concat_name(\"First\", \"Last\")"
   ]
  },
  {
   "cell_type": "code",
   "execution_count": 3,
   "id": "8c403261",
   "metadata": {},
   "outputs": [
    {
     "data": {
      "text/plain": [
       "'Doe, John'"
      ]
     },
     "execution_count": 3,
     "metadata": {},
     "output_type": "execute_result"
    }
   ],
   "source": [
    "concat_name(\"John\", \"Doe\")"
   ]
  },
  {
   "cell_type": "code",
   "execution_count": 4,
   "id": "f10ea8c4",
   "metadata": {},
   "outputs": [
    {
     "data": {
      "text/plain": [
       "'Jane, Mary'"
      ]
     },
     "execution_count": 4,
     "metadata": {},
     "output_type": "execute_result"
    }
   ],
   "source": [
    "concat_name(\"Mary\", \"Jane\")"
   ]
  },
  {
   "cell_type": "code",
   "execution_count": null,
   "id": "5e303996",
   "metadata": {},
   "outputs": [],
   "source": []
  }
 ],
 "metadata": {
  "kernelspec": {
   "display_name": "base",
   "language": "python",
   "name": "python3"
  },
  "language_info": {
   "codemirror_mode": {
    "name": "ipython",
    "version": 3
   },
   "file_extension": ".py",
   "mimetype": "text/x-python",
   "name": "python",
   "nbconvert_exporter": "python",
   "pygments_lexer": "ipython3",
   "version": "3.9.12"
  }
 },
 "nbformat": 4,
 "nbformat_minor": 5
}
