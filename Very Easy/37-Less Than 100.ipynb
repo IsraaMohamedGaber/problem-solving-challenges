{
 "cells": [
  {
   "cell_type": "markdown",
   "id": "402d0564",
   "metadata": {},
   "source": [
    "Less Than 100?\n"
   ]
  },
  {
   "cell_type": "markdown",
   "id": "30359889",
   "metadata": {},
   "source": [
    "Problem Source"
   ]
  },
  {
   "cell_type": "markdown",
   "id": "8ae66f2d",
   "metadata": {},
   "source": [
    "https://edabit.com/challenge/pZ3HxBfvejsvkEDo4"
   ]
  },
  {
   "cell_type": "code",
   "execution_count": 1,
   "id": "f79e53f2",
   "metadata": {},
   "outputs": [],
   "source": [
    "def less_than_100(a, b):\n",
    "    total = a + b\n",
    "    if total < 100:\n",
    "        return True\n",
    "    else:\n",
    "        return False"
   ]
  },
  {
   "cell_type": "code",
   "execution_count": 2,
   "id": "afbe89d7",
   "metadata": {},
   "outputs": [
    {
     "data": {
      "text/plain": [
       "True"
      ]
     },
     "execution_count": 2,
     "metadata": {},
     "output_type": "execute_result"
    }
   ],
   "source": [
    "less_than_100(22, 15) "
   ]
  },
  {
   "cell_type": "code",
   "execution_count": 3,
   "id": "98592ad9",
   "metadata": {},
   "outputs": [
    {
     "data": {
      "text/plain": [
       "False"
      ]
     },
     "execution_count": 3,
     "metadata": {},
     "output_type": "execute_result"
    }
   ],
   "source": [
    "less_than_100(83, 34) "
   ]
  },
  {
   "cell_type": "code",
   "execution_count": 4,
   "id": "26e147a0",
   "metadata": {},
   "outputs": [
    {
     "data": {
      "text/plain": [
       "True"
      ]
     },
     "execution_count": 4,
     "metadata": {},
     "output_type": "execute_result"
    }
   ],
   "source": [
    "less_than_100(3, 77) "
   ]
  },
  {
   "cell_type": "code",
   "execution_count": null,
   "id": "0c244b14",
   "metadata": {},
   "outputs": [],
   "source": []
  }
 ],
 "metadata": {
  "kernelspec": {
   "display_name": "base",
   "language": "python",
   "name": "python3"
  },
  "language_info": {
   "codemirror_mode": {
    "name": "ipython",
    "version": 3
   },
   "file_extension": ".py",
   "mimetype": "text/x-python",
   "name": "python",
   "nbconvert_exporter": "python",
   "pygments_lexer": "ipython3",
   "version": "3.9.12"
  }
 },
 "nbformat": 4,
 "nbformat_minor": 5
}
