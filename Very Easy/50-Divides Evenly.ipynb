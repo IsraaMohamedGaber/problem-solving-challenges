{
 "cells": [
  {
   "cell_type": "markdown",
   "id": "408175ec",
   "metadata": {},
   "source": [
    "Divides Evenly\n"
   ]
  },
  {
   "cell_type": "markdown",
   "id": "8b59c825",
   "metadata": {},
   "source": [
    "Problem Source"
   ]
  },
  {
   "cell_type": "markdown",
   "id": "ac3a4223",
   "metadata": {},
   "source": [
    "https://edabit.com/challenge/NRxWszQRw5JqSDmQS"
   ]
  },
  {
   "cell_type": "code",
   "execution_count": 1,
   "id": "57f658a6",
   "metadata": {},
   "outputs": [],
   "source": [
    "def divides_evenly(a, b):\n",
    "    if a % b == 0:\n",
    "        return True\n",
    "    else:    \n",
    "        return False"
   ]
  },
  {
   "cell_type": "code",
   "execution_count": 2,
   "id": "65a6ff06",
   "metadata": {},
   "outputs": [
    {
     "data": {
      "text/plain": [
       "True"
      ]
     },
     "execution_count": 2,
     "metadata": {},
     "output_type": "execute_result"
    }
   ],
   "source": [
    "divides_evenly(98, 7) "
   ]
  },
  {
   "cell_type": "code",
   "execution_count": 3,
   "id": "c3656272",
   "metadata": {},
   "outputs": [
    {
     "data": {
      "text/plain": [
       "False"
      ]
     },
     "execution_count": 3,
     "metadata": {},
     "output_type": "execute_result"
    }
   ],
   "source": [
    "divides_evenly(85, 4) "
   ]
  },
  {
   "cell_type": "code",
   "execution_count": null,
   "id": "0ac553bf",
   "metadata": {},
   "outputs": [],
   "source": []
  }
 ],
 "metadata": {
  "kernelspec": {
   "display_name": "base",
   "language": "python",
   "name": "python3"
  },
  "language_info": {
   "codemirror_mode": {
    "name": "ipython",
    "version": 3
   },
   "file_extension": ".py",
   "mimetype": "text/x-python",
   "name": "python",
   "nbconvert_exporter": "python",
   "pygments_lexer": "ipython3",
   "version": "3.9.12"
  }
 },
 "nbformat": 4,
 "nbformat_minor": 5
}
