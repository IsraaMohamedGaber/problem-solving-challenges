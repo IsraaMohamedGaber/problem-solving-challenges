{
 "cells": [
  {
   "cell_type": "markdown",
   "id": "958ecdc8",
   "metadata": {},
   "source": [
    "Convert Minutes into Seconds\n"
   ]
  },
  {
   "cell_type": "markdown",
   "id": "12c221ea",
   "metadata": {},
   "source": [
    "Problem source"
   ]
  },
  {
   "cell_type": "markdown",
   "id": "bc9f621d",
   "metadata": {},
   "source": [
    "https://edabit.com/challenge/FQyaaJx7orS7tiwz8"
   ]
  },
  {
   "cell_type": "code",
   "execution_count": 1,
   "id": "e7c92fa8",
   "metadata": {},
   "outputs": [],
   "source": [
    "def convert(minutes):\n",
    "    return minutes * 60"
   ]
  },
  {
   "cell_type": "code",
   "execution_count": 2,
   "id": "e005703b",
   "metadata": {},
   "outputs": [
    {
     "data": {
      "text/plain": [
       "300"
      ]
     },
     "execution_count": 2,
     "metadata": {},
     "output_type": "execute_result"
    }
   ],
   "source": [
    "convert(5)"
   ]
  },
  {
   "cell_type": "code",
   "execution_count": 3,
   "id": "f82f38f5",
   "metadata": {},
   "outputs": [
    {
     "data": {
      "text/plain": [
       "180"
      ]
     },
     "execution_count": 3,
     "metadata": {},
     "output_type": "execute_result"
    }
   ],
   "source": [
    "convert(3) "
   ]
  },
  {
   "cell_type": "code",
   "execution_count": 4,
   "id": "ea97a7ca",
   "metadata": {},
   "outputs": [
    {
     "data": {
      "text/plain": [
       "120"
      ]
     },
     "execution_count": 4,
     "metadata": {},
     "output_type": "execute_result"
    }
   ],
   "source": [
    "convert(2)"
   ]
  },
  {
   "cell_type": "code",
   "execution_count": null,
   "id": "5a4a02be",
   "metadata": {},
   "outputs": [],
   "source": []
  }
 ],
 "metadata": {
  "kernelspec": {
   "display_name": "base",
   "language": "python",
   "name": "python3"
  },
  "language_info": {
   "codemirror_mode": {
    "name": "ipython",
    "version": 3
   },
   "file_extension": ".py",
   "mimetype": "text/x-python",
   "name": "python",
   "nbconvert_exporter": "python",
   "pygments_lexer": "ipython3",
   "version": "3.9.12"
  }
 },
 "nbformat": 4,
 "nbformat_minor": 5
}
