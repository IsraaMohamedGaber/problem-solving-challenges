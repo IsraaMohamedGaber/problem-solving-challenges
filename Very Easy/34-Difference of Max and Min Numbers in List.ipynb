{
 "cells": [
  {
   "cell_type": "markdown",
   "id": "5f455870",
   "metadata": {},
   "source": [
    "Difference of Max and Min Numbers in List\n"
   ]
  },
  {
   "cell_type": "markdown",
   "id": "cb403f92",
   "metadata": {},
   "source": [
    "Problem Source"
   ]
  },
  {
   "cell_type": "markdown",
   "id": "f4dfebf8",
   "metadata": {},
   "source": [
    "https://edabit.com/challenge/XsJLwhAddzbxdQqr4"
   ]
  },
  {
   "cell_type": "code",
   "execution_count": 1,
   "id": "97a60193",
   "metadata": {},
   "outputs": [],
   "source": [
    "def difference_max_min(lst):\n",
    "    return max(lst)-min(lst)"
   ]
  },
  {
   "cell_type": "code",
   "execution_count": 2,
   "id": "76619499",
   "metadata": {},
   "outputs": [
    {
     "data": {
      "text/plain": [
       "82"
      ]
     },
     "execution_count": 2,
     "metadata": {},
     "output_type": "execute_result"
    }
   ],
   "source": [
    "difference_max_min([10, 4, 1, 4, -10, -50, 32, 21]) "
   ]
  },
  {
   "cell_type": "code",
   "execution_count": 3,
   "id": "6d4f93ce",
   "metadata": {},
   "outputs": [
    {
     "data": {
      "text/plain": [
       "67"
      ]
     },
     "execution_count": 3,
     "metadata": {},
     "output_type": "execute_result"
    }
   ],
   "source": [
    "difference_max_min([44, 32, 86, 19]) "
   ]
  },
  {
   "cell_type": "code",
   "execution_count": null,
   "id": "65757568",
   "metadata": {},
   "outputs": [],
   "source": []
  }
 ],
 "metadata": {
  "kernelspec": {
   "display_name": "base",
   "language": "python",
   "name": "python3"
  },
  "language_info": {
   "codemirror_mode": {
    "name": "ipython",
    "version": 3
   },
   "file_extension": ".py",
   "mimetype": "text/x-python",
   "name": "python",
   "nbconvert_exporter": "python",
   "pygments_lexer": "ipython3",
   "version": "3.9.12"
  }
 },
 "nbformat": 4,
 "nbformat_minor": 5
}
