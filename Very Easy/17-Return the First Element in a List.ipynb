{
 "cells": [
  {
   "cell_type": "markdown",
   "id": "01f15653",
   "metadata": {},
   "source": [
    "Return the First Element in a List\n"
   ]
  },
  {
   "cell_type": "markdown",
   "id": "6e1f9a2f",
   "metadata": {},
   "source": [
    "Problem Source"
   ]
  },
  {
   "cell_type": "markdown",
   "id": "3de2a2c7",
   "metadata": {},
   "source": [
    "https://edabit.com/challenge/hEQ3rBrKrztQK8qAd"
   ]
  },
  {
   "cell_type": "code",
   "execution_count": 1,
   "id": "ed1b72da",
   "metadata": {},
   "outputs": [],
   "source": [
    "def get_first_value(number_list):\n",
    "    return number_list[0]"
   ]
  },
  {
   "cell_type": "code",
   "execution_count": 2,
   "id": "b879176c",
   "metadata": {},
   "outputs": [
    {
     "data": {
      "text/plain": [
       "1"
      ]
     },
     "execution_count": 2,
     "metadata": {},
     "output_type": "execute_result"
    }
   ],
   "source": [
    "get_first_value([1, 2, 3])"
   ]
  },
  {
   "cell_type": "code",
   "execution_count": 3,
   "id": "1e6d5643",
   "metadata": {},
   "outputs": [
    {
     "data": {
      "text/plain": [
       "80"
      ]
     },
     "execution_count": 3,
     "metadata": {},
     "output_type": "execute_result"
    }
   ],
   "source": [
    "get_first_value([80, 5, 100])"
   ]
  },
  {
   "cell_type": "code",
   "execution_count": 4,
   "id": "0ec65a21",
   "metadata": {},
   "outputs": [
    {
     "data": {
      "text/plain": [
       "-500"
      ]
     },
     "execution_count": 4,
     "metadata": {},
     "output_type": "execute_result"
    }
   ],
   "source": [
    "get_first_value([-500, 0, 50]) "
   ]
  }
 ],
 "metadata": {
  "kernelspec": {
   "display_name": "base",
   "language": "python",
   "name": "python3"
  },
  "language_info": {
   "codemirror_mode": {
    "name": "ipython",
    "version": 3
   },
   "file_extension": ".py",
   "mimetype": "text/x-python",
   "name": "python",
   "nbconvert_exporter": "python",
   "pygments_lexer": "ipython3",
   "version": "3.9.12"
  }
 },
 "nbformat": 4,
 "nbformat_minor": 5
}
