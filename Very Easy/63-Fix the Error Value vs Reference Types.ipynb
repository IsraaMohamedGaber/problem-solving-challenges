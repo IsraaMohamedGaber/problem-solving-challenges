{
 "cells": [
  {
   "cell_type": "markdown",
   "id": "87c89068",
   "metadata": {},
   "source": [
    "Fix the Error: Value vs. Reference Types\n"
   ]
  },
  {
   "cell_type": "markdown",
   "id": "6067a9d8",
   "metadata": {},
   "source": [
    "Problem Source"
   ]
  },
  {
   "cell_type": "markdown",
   "id": "c97c69d0",
   "metadata": {},
   "source": [
    "https://edabit.com/challenge/cStXTiYtCwyY4tEpP"
   ]
  },
  {
   "cell_type": "code",
   "execution_count": 7,
   "id": "903c3534",
   "metadata": {},
   "outputs": [],
   "source": [
    "# # Fix this broken code!\n",
    "# def check_equals(lst1, lst2):\n",
    "# \tif lst1 is lst2:\n",
    "# \t\treturn True\n",
    "# \telse:\n",
    "# \t\treturn False"
   ]
  },
  {
   "cell_type": "code",
   "execution_count": 8,
   "id": "cca48a5c",
   "metadata": {},
   "outputs": [],
   "source": [
    "# Fix this broken code!\n",
    "def check_equals(lst1, lst2):\n",
    "\tif lst1 == lst2:\n",
    "\t\treturn True\n",
    "\telse:\n",
    "\t\treturn False"
   ]
  },
  {
   "cell_type": "code",
   "execution_count": 9,
   "id": "8ec28a0b",
   "metadata": {},
   "outputs": [
    {
     "data": {
      "text/plain": [
       "False"
      ]
     },
     "execution_count": 9,
     "metadata": {},
     "output_type": "execute_result"
    }
   ],
   "source": [
    "check_equals([1, 2], [1, 3])"
   ]
  },
  {
   "cell_type": "code",
   "execution_count": 10,
   "id": "2633ed77",
   "metadata": {},
   "outputs": [
    {
     "data": {
      "text/plain": [
       "True"
      ]
     },
     "execution_count": 10,
     "metadata": {},
     "output_type": "execute_result"
    }
   ],
   "source": [
    "check_equals([1, 2], [1, 2])"
   ]
  }
 ],
 "metadata": {
  "kernelspec": {
   "display_name": "base",
   "language": "python",
   "name": "python3"
  },
  "language_info": {
   "codemirror_mode": {
    "name": "ipython",
    "version": 3
   },
   "file_extension": ".py",
   "mimetype": "text/x-python",
   "name": "python",
   "nbconvert_exporter": "python",
   "pygments_lexer": "ipython3",
   "version": "3.9.12"
  }
 },
 "nbformat": 4,
 "nbformat_minor": 5
}
