{
 "cells": [
  {
   "cell_type": "markdown",
   "id": "69649ec3",
   "metadata": {},
   "source": [
    "Get the Sum of All List Elements\n"
   ]
  },
  {
   "cell_type": "markdown",
   "id": "de40b735",
   "metadata": {},
   "source": [
    "Problem Source"
   ]
  },
  {
   "cell_type": "markdown",
   "id": "c8e00b45",
   "metadata": {},
   "source": [
    "https://edabit.com/challenge/foFKdr68vSENQ9AYB"
   ]
  },
  {
   "cell_type": "code",
   "execution_count": 1,
   "id": "0eebbc8e",
   "metadata": {},
   "outputs": [],
   "source": [
    "def get_sum_of_elements(lst):\n",
    "    return sum(lst)"
   ]
  },
  {
   "cell_type": "code",
   "execution_count": 2,
   "id": "dd49f8a8",
   "metadata": {},
   "outputs": [
    {
     "data": {
      "text/plain": [
       "13"
      ]
     },
     "execution_count": 2,
     "metadata": {},
     "output_type": "execute_result"
    }
   ],
   "source": [
    "get_sum_of_elements([2, 7, 4]) "
   ]
  },
  {
   "cell_type": "code",
   "execution_count": 3,
   "id": "1921c917",
   "metadata": {},
   "outputs": [
    {
     "data": {
      "text/plain": [
       "48"
      ]
     },
     "execution_count": 3,
     "metadata": {},
     "output_type": "execute_result"
    }
   ],
   "source": [
    "get_sum_of_elements([45, 3, 0]) "
   ]
  },
  {
   "cell_type": "code",
   "execution_count": 4,
   "id": "4b996d9b",
   "metadata": {},
   "outputs": [
    {
     "data": {
      "text/plain": [
       "105"
      ]
     },
     "execution_count": 4,
     "metadata": {},
     "output_type": "execute_result"
    }
   ],
   "source": [
    "get_sum_of_elements([-2, 84, 23]) "
   ]
  },
  {
   "cell_type": "code",
   "execution_count": null,
   "id": "302c07a4",
   "metadata": {},
   "outputs": [],
   "source": []
  }
 ],
 "metadata": {
  "kernelspec": {
   "display_name": "base",
   "language": "python",
   "name": "python3"
  },
  "language_info": {
   "codemirror_mode": {
    "name": "ipython",
    "version": 3
   },
   "file_extension": ".py",
   "mimetype": "text/x-python",
   "name": "python",
   "nbconvert_exporter": "python",
   "pygments_lexer": "ipython3",
   "version": "3.9.12"
  }
 },
 "nbformat": 4,
 "nbformat_minor": 5
}
