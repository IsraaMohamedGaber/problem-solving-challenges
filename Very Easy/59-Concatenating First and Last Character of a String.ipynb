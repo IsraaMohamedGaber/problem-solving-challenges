{
 "cells": [
  {
   "cell_type": "markdown",
   "id": "2b79cada",
   "metadata": {},
   "source": [
    "Concatenating First and Last Character of a String\n"
   ]
  },
  {
   "cell_type": "markdown",
   "id": "85d62d49",
   "metadata": {},
   "source": [
    "Problem Source"
   ]
  },
  {
   "cell_type": "markdown",
   "id": "868fb511",
   "metadata": {},
   "source": [
    "https://edabit.com/challenge/cZ6zaRiKn7dfvJhnF"
   ]
  },
  {
   "cell_type": "code",
   "execution_count": 1,
   "id": "594ce491",
   "metadata": {},
   "outputs": [],
   "source": [
    "def first_last(name):\n",
    "    return name[0] + name[-1]"
   ]
  },
  {
   "cell_type": "code",
   "execution_count": 2,
   "id": "c4dfc8b0",
   "metadata": {},
   "outputs": [
    {
     "data": {
      "text/plain": [
       "'gh'"
      ]
     },
     "execution_count": 2,
     "metadata": {},
     "output_type": "execute_result"
    }
   ],
   "source": [
    "first_last(\"ganesh\")"
   ]
  },
  {
   "cell_type": "code",
   "execution_count": 3,
   "id": "2ebc6b57",
   "metadata": {},
   "outputs": [
    {
     "data": {
      "text/plain": [
       "'ki'"
      ]
     },
     "execution_count": 3,
     "metadata": {},
     "output_type": "execute_result"
    }
   ],
   "source": [
    "first_last(\"kali\")"
   ]
  },
  {
   "cell_type": "code",
   "execution_count": 4,
   "id": "b240212e",
   "metadata": {},
   "outputs": [
    {
     "data": {
      "text/plain": [
       "'sa'"
      ]
     },
     "execution_count": 4,
     "metadata": {},
     "output_type": "execute_result"
    }
   ],
   "source": [
    "first_last(\"shiva\")"
   ]
  },
  {
   "cell_type": "code",
   "execution_count": 5,
   "id": "069379e7",
   "metadata": {},
   "outputs": [
    {
     "data": {
      "text/plain": [
       "'vu'"
      ]
     },
     "execution_count": 5,
     "metadata": {},
     "output_type": "execute_result"
    }
   ],
   "source": [
    "first_last(\"vishnu\")\n"
   ]
  },
  {
   "cell_type": "code",
   "execution_count": 6,
   "id": "b72edf53",
   "metadata": {},
   "outputs": [
    {
     "data": {
      "text/plain": [
       "'da'"
      ]
     },
     "execution_count": 6,
     "metadata": {},
     "output_type": "execute_result"
    }
   ],
   "source": [
    "first_last(\"durga\") "
   ]
  },
  {
   "cell_type": "code",
   "execution_count": null,
   "id": "8248a3dc",
   "metadata": {},
   "outputs": [],
   "source": []
  }
 ],
 "metadata": {
  "kernelspec": {
   "display_name": "base",
   "language": "python",
   "name": "python3"
  },
  "language_info": {
   "codemirror_mode": {
    "name": "ipython",
    "version": 3
   },
   "file_extension": ".py",
   "mimetype": "text/x-python",
   "name": "python",
   "nbconvert_exporter": "python",
   "pygments_lexer": "ipython3",
   "version": "3.9.12"
  }
 },
 "nbformat": 4,
 "nbformat_minor": 5
}
