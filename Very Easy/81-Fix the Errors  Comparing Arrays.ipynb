{
 "cells": [
  {
   "cell_type": "markdown",
   "id": "796ec220",
   "metadata": {},
   "source": [
    "Fix the Errors / Comparing Arrays\n"
   ]
  },
  {
   "cell_type": "markdown",
   "id": "d0377070",
   "metadata": {},
   "source": [
    "Problem Source"
   ]
  },
  {
   "cell_type": "markdown",
   "id": "812335ad",
   "metadata": {},
   "source": [
    "https://edabit.com/challenge/PE8XQipGLS5bhpLZ5"
   ]
  },
  {
   "cell_type": "code",
   "execution_count": 1,
   "id": "7ef4c2e7",
   "metadata": {},
   "outputs": [],
   "source": [
    "# def check_equals(lst1, lst2):\n",
    "# \tif [lst1[::] === lst2[::]]:\n",
    "# \t\tprint(true)\n",
    "# \telse:\n",
    "# \t\tprint(false)"
   ]
  },
  {
   "cell_type": "code",
   "execution_count": 2,
   "id": "17116fc3",
   "metadata": {},
   "outputs": [],
   "source": [
    "def check_equals(lst1, lst2):\n",
    "    if lst1 == lst2:\n",
    "        print(True)\n",
    "    else:\n",
    "        print(False)"
   ]
  },
  {
   "cell_type": "code",
   "execution_count": 3,
   "id": "8bef8719",
   "metadata": {},
   "outputs": [
    {
     "name": "stdout",
     "output_type": "stream",
     "text": [
      "False\n"
     ]
    }
   ],
   "source": [
    "check_equals([1, 2], [1, 3])"
   ]
  },
  {
   "cell_type": "code",
   "execution_count": 4,
   "id": "43835219",
   "metadata": {},
   "outputs": [
    {
     "name": "stdout",
     "output_type": "stream",
     "text": [
      "True\n"
     ]
    }
   ],
   "source": [
    "check_equals([1, 2], [1, 2])"
   ]
  },
  {
   "cell_type": "code",
   "execution_count": 5,
   "id": "b67aefab",
   "metadata": {},
   "outputs": [
    {
     "name": "stdout",
     "output_type": "stream",
     "text": [
      "True\n"
     ]
    }
   ],
   "source": [
    "check_equals([4, 5, 6], [4, 5, 6]) "
   ]
  },
  {
   "cell_type": "code",
   "execution_count": 7,
   "id": "809be9a6",
   "metadata": {},
   "outputs": [
    {
     "name": "stdout",
     "output_type": "stream",
     "text": [
      "False\n"
     ]
    }
   ],
   "source": [
    "check_equals([4, 7, 6], [4, 5, 6]) "
   ]
  },
  {
   "cell_type": "code",
   "execution_count": 8,
   "id": "6df0bd31",
   "metadata": {},
   "outputs": [
    {
     "name": "stdout",
     "output_type": "stream",
     "text": [
      "False\n"
     ]
    }
   ],
   "source": [
    "check_equals([1, 12], [11, 2]) "
   ]
  },
  {
   "cell_type": "code",
   "execution_count": null,
   "id": "b551feb0",
   "metadata": {},
   "outputs": [],
   "source": []
  }
 ],
 "metadata": {
  "kernelspec": {
   "display_name": "base",
   "language": "python",
   "name": "python3"
  },
  "language_info": {
   "codemirror_mode": {
    "name": "ipython",
    "version": 3
   },
   "file_extension": ".py",
   "mimetype": "text/x-python",
   "name": "python",
   "nbconvert_exporter": "python",
   "pygments_lexer": "ipython3",
   "version": "3.9.12"
  }
 },
 "nbformat": 4,
 "nbformat_minor": 5
}
