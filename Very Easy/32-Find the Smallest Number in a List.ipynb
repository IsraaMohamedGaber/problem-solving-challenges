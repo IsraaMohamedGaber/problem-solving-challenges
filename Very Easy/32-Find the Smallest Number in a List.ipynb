{
 "cells": [
  {
   "cell_type": "markdown",
   "id": "4bb096db",
   "metadata": {},
   "source": [
    "Find the Smallest Number in a List\n"
   ]
  },
  {
   "cell_type": "markdown",
   "id": "6931b1ec",
   "metadata": {},
   "source": [
    "Problem Source"
   ]
  },
  {
   "cell_type": "markdown",
   "id": "1048ff58",
   "metadata": {},
   "source": [
    "https://edabit.com/challenge/ecSZ5kDBwCD3ctjE6"
   ]
  },
  {
   "cell_type": "code",
   "execution_count": 1,
   "id": "b98765ec",
   "metadata": {},
   "outputs": [],
   "source": [
    "def find_smallest_num(lst):\n",
    "    if not lst:\n",
    "        return None\n",
    "    smallest= lst[0]\n",
    "    for num in lst:\n",
    "        if num < smallest:\n",
    "            smallest = num\n",
    "    return smallest\n"
   ]
  },
  {
   "cell_type": "code",
   "execution_count": 2,
   "id": "ba801f51",
   "metadata": {},
   "outputs": [
    {
     "data": {
      "text/plain": [
       "2"
      ]
     },
     "execution_count": 2,
     "metadata": {},
     "output_type": "execute_result"
    }
   ],
   "source": [
    "find_smallest_num([34, 15, 88, 2]) "
   ]
  },
  {
   "cell_type": "code",
   "execution_count": 3,
   "id": "2287a799",
   "metadata": {},
   "outputs": [
    {
     "data": {
      "text/plain": [
       "-345"
      ]
     },
     "execution_count": 3,
     "metadata": {},
     "output_type": "execute_result"
    }
   ],
   "source": [
    "find_smallest_num([34, -345, -1, 100]) "
   ]
  },
  {
   "cell_type": "code",
   "execution_count": 4,
   "id": "0ab0ce7f",
   "metadata": {},
   "outputs": [
    {
     "data": {
      "text/plain": [
       "-76"
      ]
     },
     "execution_count": 4,
     "metadata": {},
     "output_type": "execute_result"
    }
   ],
   "source": [
    "find_smallest_num([-76, 1.345, 1, 0])"
   ]
  },
  {
   "cell_type": "code",
   "execution_count": 5,
   "id": "22a04966",
   "metadata": {},
   "outputs": [
    {
     "data": {
      "text/plain": [
       "-0.9999"
      ]
     },
     "execution_count": 5,
     "metadata": {},
     "output_type": "execute_result"
    }
   ],
   "source": [
    "find_smallest_num([0.4356, 0.8795, 0.5435, -0.9999]) "
   ]
  },
  {
   "cell_type": "code",
   "execution_count": 6,
   "id": "18bf7471",
   "metadata": {},
   "outputs": [
    {
     "data": {
      "text/plain": [
       "7"
      ]
     },
     "execution_count": 6,
     "metadata": {},
     "output_type": "execute_result"
    }
   ],
   "source": [
    "find_smallest_num([7, 7, 7])"
   ]
  },
  {
   "cell_type": "code",
   "execution_count": null,
   "id": "5f97f40b",
   "metadata": {},
   "outputs": [],
   "source": []
  }
 ],
 "metadata": {
  "kernelspec": {
   "display_name": "base",
   "language": "python",
   "name": "python3"
  },
  "language_info": {
   "codemirror_mode": {
    "name": "ipython",
    "version": 3
   },
   "file_extension": ".py",
   "mimetype": "text/x-python",
   "name": "python",
   "nbconvert_exporter": "python",
   "pygments_lexer": "ipython3",
   "version": "3.9.12"
  }
 },
 "nbformat": 4,
 "nbformat_minor": 5
}
