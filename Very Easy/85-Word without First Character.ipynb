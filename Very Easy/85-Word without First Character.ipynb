{
 "cells": [
  {
   "cell_type": "markdown",
   "id": "c7a9c7a8",
   "metadata": {},
   "source": [
    "Word without First Character\n"
   ]
  },
  {
   "cell_type": "markdown",
   "id": "ac025d82",
   "metadata": {},
   "source": [
    "Problem Source"
   ]
  },
  {
   "cell_type": "markdown",
   "id": "07dd9c60",
   "metadata": {},
   "source": [
    "https://edabit.com/challenge/yeqgXCk6NTpsexQ5B"
   ]
  },
  {
   "cell_type": "code",
   "execution_count": 1,
   "id": "e839c7ea",
   "metadata": {},
   "outputs": [],
   "source": [
    "def new_word(word):\n",
    "    return word[1:]"
   ]
  },
  {
   "cell_type": "code",
   "execution_count": 2,
   "id": "25ffc4e5",
   "metadata": {},
   "outputs": [
    {
     "data": {
      "text/plain": [
       "'pple'"
      ]
     },
     "execution_count": 2,
     "metadata": {},
     "output_type": "execute_result"
    }
   ],
   "source": [
    "new_word(\"apple\") "
   ]
  },
  {
   "cell_type": "code",
   "execution_count": 3,
   "id": "38b2ebc6",
   "metadata": {},
   "outputs": [
    {
     "data": {
      "text/plain": [
       "'herry'"
      ]
     },
     "execution_count": 3,
     "metadata": {},
     "output_type": "execute_result"
    }
   ],
   "source": [
    "new_word(\"cherry\")"
   ]
  },
  {
   "cell_type": "code",
   "execution_count": 4,
   "id": "a450bc48",
   "metadata": {},
   "outputs": [
    {
     "data": {
      "text/plain": [
       "'lum'"
      ]
     },
     "execution_count": 4,
     "metadata": {},
     "output_type": "execute_result"
    }
   ],
   "source": [
    "new_word(\"plum\")"
   ]
  },
  {
   "cell_type": "code",
   "execution_count": null,
   "id": "b40a5384",
   "metadata": {},
   "outputs": [],
   "source": []
  }
 ],
 "metadata": {
  "kernelspec": {
   "display_name": "base",
   "language": "python",
   "name": "python3"
  },
  "language_info": {
   "codemirror_mode": {
    "name": "ipython",
    "version": 3
   },
   "file_extension": ".py",
   "mimetype": "text/x-python",
   "name": "python",
   "nbconvert_exporter": "python",
   "pygments_lexer": "ipython3",
   "version": "3.9.12"
  }
 },
 "nbformat": 4,
 "nbformat_minor": 5
}
