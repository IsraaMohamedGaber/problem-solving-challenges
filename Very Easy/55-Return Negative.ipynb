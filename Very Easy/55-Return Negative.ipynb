{
 "cells": [
  {
   "cell_type": "markdown",
   "id": "64aa851e",
   "metadata": {},
   "source": [
    "Return Negative\n"
   ]
  },
  {
   "cell_type": "markdown",
   "id": "4a425c7f",
   "metadata": {},
   "source": [
    "Problem Source"
   ]
  },
  {
   "cell_type": "markdown",
   "id": "51a985b7",
   "metadata": {},
   "source": [
    "https://edabit.com/challenge/j9hv6sXmfvqkicLJC"
   ]
  },
  {
   "cell_type": "code",
   "execution_count": 1,
   "id": "2437693e",
   "metadata": {},
   "outputs": [],
   "source": [
    "def return_negative(n):\n",
    "    return -abs(n)"
   ]
  },
  {
   "cell_type": "code",
   "execution_count": 2,
   "id": "a0b510ba",
   "metadata": {},
   "outputs": [
    {
     "data": {
      "text/plain": [
       "-4"
      ]
     },
     "execution_count": 2,
     "metadata": {},
     "output_type": "execute_result"
    }
   ],
   "source": [
    "return_negative(4) "
   ]
  },
  {
   "cell_type": "code",
   "execution_count": 4,
   "id": "5e0007aa",
   "metadata": {},
   "outputs": [
    {
     "data": {
      "text/plain": [
       "-15"
      ]
     },
     "execution_count": 4,
     "metadata": {},
     "output_type": "execute_result"
    }
   ],
   "source": [
    "return_negative(15)"
   ]
  },
  {
   "cell_type": "code",
   "execution_count": 5,
   "id": "5b3ac1db",
   "metadata": {},
   "outputs": [
    {
     "data": {
      "text/plain": [
       "-4"
      ]
     },
     "execution_count": 5,
     "metadata": {},
     "output_type": "execute_result"
    }
   ],
   "source": [
    "return_negative(-4)"
   ]
  },
  {
   "cell_type": "code",
   "execution_count": 6,
   "id": "c4473616",
   "metadata": {},
   "outputs": [
    {
     "data": {
      "text/plain": [
       "0"
      ]
     },
     "execution_count": 6,
     "metadata": {},
     "output_type": "execute_result"
    }
   ],
   "source": [
    "return_negative(0)"
   ]
  },
  {
   "cell_type": "code",
   "execution_count": null,
   "id": "1df2ea31",
   "metadata": {},
   "outputs": [],
   "source": []
  }
 ],
 "metadata": {
  "kernelspec": {
   "display_name": "base",
   "language": "python",
   "name": "python3"
  },
  "language_info": {
   "codemirror_mode": {
    "name": "ipython",
    "version": 3
   },
   "file_extension": ".py",
   "mimetype": "text/x-python",
   "name": "python",
   "nbconvert_exporter": "python",
   "pygments_lexer": "ipython3",
   "version": "3.9.12"
  }
 },
 "nbformat": 4,
 "nbformat_minor": 5
}
