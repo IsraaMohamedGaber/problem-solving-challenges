{
 "cells": [
  {
   "cell_type": "markdown",
   "id": "4300bffc",
   "metadata": {},
   "source": [
    "Nth Star Number\n"
   ]
  },
  {
   "cell_type": "markdown",
   "id": "9daa9595",
   "metadata": {},
   "source": [
    "Problem Source"
   ]
  },
  {
   "cell_type": "markdown",
   "id": "663a0559",
   "metadata": {},
   "source": [
    "https://edabit.com/challenge/GnkE6uyY4qjjZXaJs"
   ]
  },
  {
   "cell_type": "code",
   "execution_count": null,
   "id": "2f185e50",
   "metadata": {},
   "outputs": [],
   "source": [
    "def star_number(n):\n",
    "    return 6 * n * (n - 1) + 1"
   ]
  },
  {
   "cell_type": "code",
   "execution_count": 2,
   "id": "2d8fd85d",
   "metadata": {},
   "outputs": [
    {
     "data": {
      "text/plain": [
       "13"
      ]
     },
     "execution_count": 2,
     "metadata": {},
     "output_type": "execute_result"
    }
   ],
   "source": [
    "star_number(2) "
   ]
  },
  {
   "cell_type": "code",
   "execution_count": 3,
   "id": "50f93592",
   "metadata": {},
   "outputs": [
    {
     "data": {
      "text/plain": [
       "37"
      ]
     },
     "execution_count": 3,
     "metadata": {},
     "output_type": "execute_result"
    }
   ],
   "source": [
    "star_number(3) "
   ]
  },
  {
   "cell_type": "code",
   "execution_count": 4,
   "id": "aeccb8b5",
   "metadata": {},
   "outputs": [
    {
     "data": {
      "text/plain": [
       "121"
      ]
     },
     "execution_count": 4,
     "metadata": {},
     "output_type": "execute_result"
    }
   ],
   "source": [
    "star_number(5)"
   ]
  },
  {
   "cell_type": "code",
   "execution_count": null,
   "id": "208ce88a",
   "metadata": {},
   "outputs": [],
   "source": []
  }
 ],
 "metadata": {
  "kernelspec": {
   "display_name": "base",
   "language": "python",
   "name": "python3"
  },
  "language_info": {
   "codemirror_mode": {
    "name": "ipython",
    "version": 3
   },
   "file_extension": ".py",
   "mimetype": "text/x-python",
   "name": "python",
   "nbconvert_exporter": "python",
   "pygments_lexer": "ipython3",
   "version": "3.9.12"
  }
 },
 "nbformat": 4,
 "nbformat_minor": 5
}
