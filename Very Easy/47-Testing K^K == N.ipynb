{
 "cells": [
  {
   "cell_type": "markdown",
   "id": "c70cc576",
   "metadata": {},
   "source": [
    "Testing K^K == N?\n"
   ]
  },
  {
   "cell_type": "markdown",
   "id": "35250431",
   "metadata": {},
   "source": [
    "Problem Source"
   ]
  },
  {
   "cell_type": "markdown",
   "id": "cc14d89a",
   "metadata": {},
   "source": [
    "https://edabit.com/challenge/pKyeEDkNqZraqS3rW"
   ]
  },
  {
   "cell_type": "code",
   "execution_count": 1,
   "id": "cd4e38bb",
   "metadata": {},
   "outputs": [],
   "source": [
    "def k_to_k(n, k):\n",
    "    if k**k == n :\n",
    "        return True \n",
    "    else:   \n",
    "        return False    "
   ]
  },
  {
   "cell_type": "code",
   "execution_count": 2,
   "id": "8f4c2de8",
   "metadata": {},
   "outputs": [
    {
     "data": {
      "text/plain": [
       "True"
      ]
     },
     "execution_count": 2,
     "metadata": {},
     "output_type": "execute_result"
    }
   ],
   "source": [
    "k_to_k(4, 2)"
   ]
  },
  {
   "cell_type": "code",
   "execution_count": 3,
   "id": "50dfe435",
   "metadata": {},
   "outputs": [
    {
     "data": {
      "text/plain": [
       "True"
      ]
     },
     "execution_count": 3,
     "metadata": {},
     "output_type": "execute_result"
    }
   ],
   "source": [
    "k_to_k(387420489, 9) "
   ]
  },
  {
   "cell_type": "code",
   "execution_count": 4,
   "id": "9542d28f",
   "metadata": {},
   "outputs": [
    {
     "data": {
      "text/plain": [
       "False"
      ]
     },
     "execution_count": 4,
     "metadata": {},
     "output_type": "execute_result"
    }
   ],
   "source": [
    "k_to_k(3124, 5)"
   ]
  },
  {
   "cell_type": "code",
   "execution_count": 5,
   "id": "8cc797ac",
   "metadata": {},
   "outputs": [
    {
     "data": {
      "text/plain": [
       "False"
      ]
     },
     "execution_count": 5,
     "metadata": {},
     "output_type": "execute_result"
    }
   ],
   "source": [
    "k_to_k(17, 3)"
   ]
  },
  {
   "cell_type": "code",
   "execution_count": null,
   "id": "dc3f8a53",
   "metadata": {},
   "outputs": [],
   "source": []
  }
 ],
 "metadata": {
  "kernelspec": {
   "display_name": "base",
   "language": "python",
   "name": "python3"
  },
  "language_info": {
   "codemirror_mode": {
    "name": "ipython",
    "version": 3
   },
   "file_extension": ".py",
   "mimetype": "text/x-python",
   "name": "python",
   "nbconvert_exporter": "python",
   "pygments_lexer": "ipython3",
   "version": "3.9.12"
  }
 },
 "nbformat": 4,
 "nbformat_minor": 5
}
