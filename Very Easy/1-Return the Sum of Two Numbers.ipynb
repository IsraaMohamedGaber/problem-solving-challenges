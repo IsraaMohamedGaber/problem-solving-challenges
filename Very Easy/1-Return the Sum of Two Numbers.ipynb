{
 "cells": [
  {
   "cell_type": "markdown",
   "id": "bdb81d32",
   "metadata": {},
   "source": [
    "Return the Sum of Two Numbers "
   ]
  },
  {
   "cell_type": "markdown",
   "id": "852886a1",
   "metadata": {},
   "source": [
    "Problem source"
   ]
  },
  {
   "cell_type": "markdown",
   "id": "c03578d1",
   "metadata": {},
   "source": [
    "https://edabit.com/challenge/rZToTkR5eB9Zn4zLh"
   ]
  },
  {
   "cell_type": "code",
   "execution_count": 1,
   "id": "0578ffce",
   "metadata": {},
   "outputs": [],
   "source": [
    "def addition(a, b):\n",
    "    return a + b"
   ]
  },
  {
   "cell_type": "code",
   "execution_count": 2,
   "id": "8040b99a",
   "metadata": {},
   "outputs": [
    {
     "data": {
      "text/plain": [
       "5"
      ]
     },
     "execution_count": 2,
     "metadata": {},
     "output_type": "execute_result"
    }
   ],
   "source": [
    "addition(3, 2)"
   ]
  },
  {
   "cell_type": "code",
   "execution_count": 3,
   "id": "9b9a938a",
   "metadata": {},
   "outputs": [
    {
     "data": {
      "text/plain": [
       "-9"
      ]
     },
     "execution_count": 3,
     "metadata": {},
     "output_type": "execute_result"
    }
   ],
   "source": [
    "addition(-3, -6)"
   ]
  },
  {
   "cell_type": "code",
   "execution_count": 4,
   "id": "57df8b2a",
   "metadata": {},
   "outputs": [
    {
     "data": {
      "text/plain": [
       "10"
      ]
     },
     "execution_count": 4,
     "metadata": {},
     "output_type": "execute_result"
    }
   ],
   "source": [
    "addition(7, 3)"
   ]
  },
  {
   "cell_type": "code",
   "execution_count": null,
   "id": "7cf8b260",
   "metadata": {},
   "outputs": [],
   "source": []
  }
 ],
 "metadata": {
  "kernelspec": {
   "display_name": "base",
   "language": "python",
   "name": "python3"
  },
  "language_info": {
   "codemirror_mode": {
    "name": "ipython",
    "version": 3
   },
   "file_extension": ".py",
   "mimetype": "text/x-python",
   "name": "python",
   "nbconvert_exporter": "python",
   "pygments_lexer": "ipython3",
   "version": "3.9.12"
  }
 },
 "nbformat": 4,
 "nbformat_minor": 5
}
