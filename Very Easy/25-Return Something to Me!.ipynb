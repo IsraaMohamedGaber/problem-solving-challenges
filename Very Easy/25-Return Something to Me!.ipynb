{
 "cells": [
  {
   "cell_type": "markdown",
   "id": "de90a7fe",
   "metadata": {},
   "source": [
    "Return Something to Me!\n"
   ]
  },
  {
   "cell_type": "markdown",
   "id": "d471646b",
   "metadata": {},
   "source": [
    "Problem Source"
   ]
  },
  {
   "cell_type": "markdown",
   "id": "4b724d5d",
   "metadata": {},
   "source": [
    "https://edabit.com/challenge/XXJbGFEkrMWCp8yFn"
   ]
  },
  {
   "cell_type": "code",
   "execution_count": 1,
   "id": "7e1adf0a",
   "metadata": {},
   "outputs": [],
   "source": [
    "def give_me_something(a):\n",
    "    return \"something \" + a"
   ]
  },
  {
   "cell_type": "code",
   "execution_count": 2,
   "id": "493a81e3",
   "metadata": {},
   "outputs": [
    {
     "data": {
      "text/plain": [
       "'something is better than nothing'"
      ]
     },
     "execution_count": 2,
     "metadata": {},
     "output_type": "execute_result"
    }
   ],
   "source": [
    "give_me_something(\"is better than nothing\")"
   ]
  },
  {
   "cell_type": "code",
   "execution_count": 3,
   "id": "fd2f2fff",
   "metadata": {},
   "outputs": [
    {
     "data": {
      "text/plain": [
       "'something Bob Jane'"
      ]
     },
     "execution_count": 3,
     "metadata": {},
     "output_type": "execute_result"
    }
   ],
   "source": [
    "give_me_something(\"Bob Jane\")"
   ]
  },
  {
   "cell_type": "code",
   "execution_count": 4,
   "id": "17a68795",
   "metadata": {},
   "outputs": [
    {
     "data": {
      "text/plain": [
       "'something something'"
      ]
     },
     "execution_count": 4,
     "metadata": {},
     "output_type": "execute_result"
    }
   ],
   "source": [
    "give_me_something(\"something\")"
   ]
  },
  {
   "cell_type": "code",
   "execution_count": null,
   "id": "8a06c5b6",
   "metadata": {},
   "outputs": [],
   "source": []
  }
 ],
 "metadata": {
  "kernelspec": {
   "display_name": "base",
   "language": "python",
   "name": "python3"
  },
  "language_info": {
   "codemirror_mode": {
    "name": "ipython",
    "version": 3
   },
   "file_extension": ".py",
   "mimetype": "text/x-python",
   "name": "python",
   "nbconvert_exporter": "python",
   "pygments_lexer": "ipython3",
   "version": "3.9.12"
  }
 },
 "nbformat": 4,
 "nbformat_minor": 5
}
