{
 "cells": [
  {
   "cell_type": "markdown",
   "id": "68f3a2b2",
   "metadata": {},
   "source": [
    "Buggy Code (Part 1)\n"
   ]
  },
  {
   "cell_type": "markdown",
   "id": "789bce01",
   "metadata": {},
   "source": [
    "Problem source"
   ]
  },
  {
   "cell_type": "markdown",
   "id": "ab95995b",
   "metadata": {},
   "source": [
    "https://edabit.com/challenge/bL7hSc6Zh4zZJzGmw"
   ]
  },
  {
   "cell_type": "code",
   "execution_count": 1,
   "id": "09cae944",
   "metadata": {},
   "outputs": [],
   "source": [
    "def cubes(a):\n",
    "    return a ** 3"
   ]
  },
  {
   "cell_type": "code",
   "execution_count": 2,
   "id": "6586bce3",
   "metadata": {},
   "outputs": [
    {
     "data": {
      "text/plain": [
       "27"
      ]
     },
     "execution_count": 2,
     "metadata": {},
     "output_type": "execute_result"
    }
   ],
   "source": [
    "cubes(3)"
   ]
  },
  {
   "cell_type": "code",
   "execution_count": 3,
   "id": "64b11925",
   "metadata": {},
   "outputs": [
    {
     "data": {
      "text/plain": [
       "125"
      ]
     },
     "execution_count": 3,
     "metadata": {},
     "output_type": "execute_result"
    }
   ],
   "source": [
    "cubes(5)"
   ]
  },
  {
   "cell_type": "code",
   "execution_count": 4,
   "id": "06260181",
   "metadata": {},
   "outputs": [
    {
     "data": {
      "text/plain": [
       "1000"
      ]
     },
     "execution_count": 4,
     "metadata": {},
     "output_type": "execute_result"
    }
   ],
   "source": [
    "cubes(10)"
   ]
  },
  {
   "cell_type": "code",
   "execution_count": null,
   "id": "3f0adfb5",
   "metadata": {},
   "outputs": [],
   "source": []
  }
 ],
 "metadata": {
  "kernelspec": {
   "display_name": "base",
   "language": "python",
   "name": "python3"
  },
  "language_info": {
   "codemirror_mode": {
    "name": "ipython",
    "version": 3
   },
   "file_extension": ".py",
   "mimetype": "text/x-python",
   "name": "python",
   "nbconvert_exporter": "python",
   "pygments_lexer": "ipython3",
   "version": "3.9.12"
  }
 },
 "nbformat": 4,
 "nbformat_minor": 5
}
