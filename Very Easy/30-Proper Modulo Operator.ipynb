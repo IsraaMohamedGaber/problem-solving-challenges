{
 "cells": [
  {
   "cell_type": "markdown",
   "id": "3307cfad",
   "metadata": {},
   "source": [
    "Proper Modulo Operator\n"
   ]
  },
  {
   "cell_type": "markdown",
   "id": "fcc99db5",
   "metadata": {},
   "source": [
    "Problem Source"
   ]
  },
  {
   "cell_type": "markdown",
   "id": "50ee2bd9",
   "metadata": {},
   "source": [
    "https://edabit.com/challenge/D2Hvq6NZchp7Q6ftR"
   ]
  },
  {
   "cell_type": "code",
   "execution_count": 10,
   "id": "aaf93826",
   "metadata": {},
   "outputs": [],
   "source": [
    "def mod(m, n):\n",
    "    if n == 0:\n",
    "        return \"Error: Modulo by zero is undefined.\"\n",
    "    return m % n"
   ]
  },
  {
   "cell_type": "code",
   "execution_count": 11,
   "id": "ecf45352",
   "metadata": {},
   "outputs": [
    {
     "data": {
      "text/plain": [
       "51"
      ]
     },
     "execution_count": 11,
     "metadata": {},
     "output_type": "execute_result"
    }
   ],
   "source": [
    "mod(-13, 64)"
   ]
  },
  {
   "cell_type": "code",
   "execution_count": 12,
   "id": "0c324dbf",
   "metadata": {},
   "outputs": [
    {
     "data": {
      "text/plain": [
       "0"
      ]
     },
     "execution_count": 12,
     "metadata": {},
     "output_type": "execute_result"
    }
   ],
   "source": [
    "mod(50, 25) "
   ]
  },
  {
   "cell_type": "code",
   "execution_count": 13,
   "id": "aa4da8d0",
   "metadata": {},
   "outputs": [
    {
     "data": {
      "text/plain": [
       "0"
      ]
     },
     "execution_count": 13,
     "metadata": {},
     "output_type": "execute_result"
    }
   ],
   "source": [
    "mod(-6, 3) "
   ]
  },
  {
   "cell_type": "code",
   "execution_count": null,
   "id": "7b84e378",
   "metadata": {},
   "outputs": [],
   "source": []
  },
  {
   "cell_type": "code",
   "execution_count": null,
   "id": "c3df364e",
   "metadata": {},
   "outputs": [],
   "source": []
  }
 ],
 "metadata": {
  "kernelspec": {
   "display_name": "base",
   "language": "python",
   "name": "python3"
  },
  "language_info": {
   "codemirror_mode": {
    "name": "ipython",
    "version": 3
   },
   "file_extension": ".py",
   "mimetype": "text/x-python",
   "name": "python",
   "nbconvert_exporter": "python",
   "pygments_lexer": "ipython3",
   "version": "3.9.12"
  }
 },
 "nbformat": 4,
 "nbformat_minor": 5
}
