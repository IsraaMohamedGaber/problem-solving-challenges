{
 "cells": [
  {
   "cell_type": "markdown",
   "id": "dffd73f9",
   "metadata": {},
   "source": [
    "Is the String Empty?\n"
   ]
  },
  {
   "cell_type": "markdown",
   "id": "189a0b45",
   "metadata": {},
   "source": [
    "Problem Source"
   ]
  },
  {
   "cell_type": "markdown",
   "id": "8558fc68",
   "metadata": {},
   "source": [
    "https://edabit.com/challenge/wtu32ZFxHJsuQnogX"
   ]
  },
  {
   "cell_type": "code",
   "execution_count": 1,
   "id": "f7e5400b",
   "metadata": {},
   "outputs": [],
   "source": [
    "def is_empty(s):\n",
    "    if s == \"\":\n",
    "        return True\n",
    "    else:     \n",
    "        return False"
   ]
  },
  {
   "cell_type": "code",
   "execution_count": 2,
   "id": "369c7d05",
   "metadata": {},
   "outputs": [
    {
     "data": {
      "text/plain": [
       "True"
      ]
     },
     "execution_count": 2,
     "metadata": {},
     "output_type": "execute_result"
    }
   ],
   "source": [
    "is_empty(\"\")  "
   ]
  },
  {
   "cell_type": "code",
   "execution_count": 3,
   "id": "f4f9ecfe",
   "metadata": {},
   "outputs": [
    {
     "data": {
      "text/plain": [
       "False"
      ]
     },
     "execution_count": 3,
     "metadata": {},
     "output_type": "execute_result"
    }
   ],
   "source": [
    "is_empty(\" \")  "
   ]
  },
  {
   "cell_type": "code",
   "execution_count": 4,
   "id": "13ea7341",
   "metadata": {},
   "outputs": [
    {
     "data": {
      "text/plain": [
       "False"
      ]
     },
     "execution_count": 4,
     "metadata": {},
     "output_type": "execute_result"
    }
   ],
   "source": [
    "is_empty(\"a\")  "
   ]
  },
  {
   "cell_type": "code",
   "execution_count": null,
   "id": "705d2360",
   "metadata": {},
   "outputs": [],
   "source": []
  }
 ],
 "metadata": {
  "kernelspec": {
   "display_name": "base",
   "language": "python",
   "name": "python3"
  },
  "language_info": {
   "codemirror_mode": {
    "name": "ipython",
    "version": 3
   },
   "file_extension": ".py",
   "mimetype": "text/x-python",
   "name": "python",
   "nbconvert_exporter": "python",
   "pygments_lexer": "ipython3",
   "version": "3.9.12"
  }
 },
 "nbformat": 4,
 "nbformat_minor": 5
}
