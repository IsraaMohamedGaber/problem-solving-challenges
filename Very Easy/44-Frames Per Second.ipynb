{
 "cells": [
  {
   "cell_type": "markdown",
   "id": "d5bdcf11",
   "metadata": {},
   "source": [
    "Frames Per Second\n"
   ]
  },
  {
   "cell_type": "markdown",
   "id": "63d016b8",
   "metadata": {},
   "source": [
    "Problem Source"
   ]
  },
  {
   "cell_type": "markdown",
   "id": "5b082084",
   "metadata": {},
   "source": [
    "https://edabit.com/challenge/Yj2Rew5XQYpu7Nosq"
   ]
  },
  {
   "cell_type": "code",
   "execution_count": 1,
   "id": "8b927863",
   "metadata": {},
   "outputs": [],
   "source": [
    "def frames(minutes, fps):\n",
    "    return minutes * 60 * fps"
   ]
  },
  {
   "cell_type": "code",
   "execution_count": 2,
   "id": "8807658f",
   "metadata": {},
   "outputs": [
    {
     "data": {
      "text/plain": [
       "60"
      ]
     },
     "execution_count": 2,
     "metadata": {},
     "output_type": "execute_result"
    }
   ],
   "source": [
    "frames(1, 1)"
   ]
  },
  {
   "cell_type": "code",
   "execution_count": 3,
   "id": "bb3cb468",
   "metadata": {},
   "outputs": [
    {
     "data": {
      "text/plain": [
       "600"
      ]
     },
     "execution_count": 3,
     "metadata": {},
     "output_type": "execute_result"
    }
   ],
   "source": [
    "frames(10, 1)"
   ]
  },
  {
   "cell_type": "code",
   "execution_count": 4,
   "id": "c89c79dc",
   "metadata": {},
   "outputs": [
    {
     "data": {
      "text/plain": [
       "15000"
      ]
     },
     "execution_count": 4,
     "metadata": {},
     "output_type": "execute_result"
    }
   ],
   "source": [
    "frames(10, 25)"
   ]
  },
  {
   "cell_type": "code",
   "execution_count": null,
   "id": "de00b720",
   "metadata": {},
   "outputs": [],
   "source": []
  }
 ],
 "metadata": {
  "kernelspec": {
   "display_name": "base",
   "language": "python",
   "name": "python3"
  },
  "language_info": {
   "codemirror_mode": {
    "name": "ipython",
    "version": 3
   },
   "file_extension": ".py",
   "mimetype": "text/x-python",
   "name": "python",
   "nbconvert_exporter": "python",
   "pygments_lexer": "ipython3",
   "version": "3.9.12"
  }
 },
 "nbformat": 4,
 "nbformat_minor": 5
}
