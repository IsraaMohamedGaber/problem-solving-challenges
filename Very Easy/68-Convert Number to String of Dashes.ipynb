{
 "cells": [
  {
   "cell_type": "markdown",
   "id": "3354ae4e",
   "metadata": {},
   "source": [
    "Convert Number to String of Dashes\n"
   ]
  },
  {
   "cell_type": "markdown",
   "id": "c9c0e59c",
   "metadata": {},
   "source": [
    "Problem Source"
   ]
  },
  {
   "cell_type": "markdown",
   "id": "ee523b5e",
   "metadata": {},
   "source": [
    "https://edabit.com/challenge/f3jm7sk7LaYttYyLP"
   ]
  },
  {
   "cell_type": "code",
   "execution_count": 1,
   "id": "c5c0b8f5",
   "metadata": {},
   "outputs": [],
   "source": [
    "def num_to_dashes(num):\n",
    "    return \"-\" * num"
   ]
  },
  {
   "cell_type": "code",
   "execution_count": 2,
   "id": "747475bf",
   "metadata": {},
   "outputs": [
    {
     "data": {
      "text/plain": [
       "'-'"
      ]
     },
     "execution_count": 2,
     "metadata": {},
     "output_type": "execute_result"
    }
   ],
   "source": [
    "num_to_dashes(1)"
   ]
  },
  {
   "cell_type": "code",
   "execution_count": 3,
   "id": "ccab618f",
   "metadata": {},
   "outputs": [
    {
     "data": {
      "text/plain": [
       "'-----'"
      ]
     },
     "execution_count": 3,
     "metadata": {},
     "output_type": "execute_result"
    }
   ],
   "source": [
    "num_to_dashes(5)"
   ]
  },
  {
   "cell_type": "code",
   "execution_count": 4,
   "id": "998849b3",
   "metadata": {},
   "outputs": [
    {
     "data": {
      "text/plain": [
       "'---'"
      ]
     },
     "execution_count": 4,
     "metadata": {},
     "output_type": "execute_result"
    }
   ],
   "source": [
    "num_to_dashes(3)"
   ]
  },
  {
   "cell_type": "code",
   "execution_count": null,
   "id": "f1d53454",
   "metadata": {},
   "outputs": [],
   "source": []
  }
 ],
 "metadata": {
  "kernelspec": {
   "display_name": "base",
   "language": "python",
   "name": "python3"
  },
  "language_info": {
   "codemirror_mode": {
    "name": "ipython",
    "version": 3
   },
   "file_extension": ".py",
   "mimetype": "text/x-python",
   "name": "python",
   "nbconvert_exporter": "python",
   "pygments_lexer": "ipython3",
   "version": "3.9.12"
  }
 },
 "nbformat": 4,
 "nbformat_minor": 5
}
