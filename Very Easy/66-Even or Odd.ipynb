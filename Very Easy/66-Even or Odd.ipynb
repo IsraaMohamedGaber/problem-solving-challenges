{
 "cells": [
  {
   "cell_type": "markdown",
   "id": "c1facc98",
   "metadata": {},
   "source": [
    "Even or Odd?\n"
   ]
  },
  {
   "cell_type": "markdown",
   "id": "e7cfdb74",
   "metadata": {},
   "source": [
    "Problem Source"
   ]
  },
  {
   "cell_type": "markdown",
   "id": "6d05805c",
   "metadata": {},
   "source": [
    "https://edabit.com/challenge/ayQTiQAcFJhtauhe3"
   ]
  },
  {
   "cell_type": "code",
   "execution_count": 2,
   "id": "70bb5af0",
   "metadata": {},
   "outputs": [],
   "source": [
    "def even_or_odd(lst):\n",
    "    if sum(lst) % 2 == 0:\n",
    "        return \"even\"\n",
    "    else:\n",
    "        return \"odd\""
   ]
  },
  {
   "cell_type": "code",
   "execution_count": 3,
   "id": "9940bd10",
   "metadata": {},
   "outputs": [
    {
     "data": {
      "text/plain": [
       "'even'"
      ]
     },
     "execution_count": 3,
     "metadata": {},
     "output_type": "execute_result"
    }
   ],
   "source": [
    "even_or_odd([0]) "
   ]
  },
  {
   "cell_type": "code",
   "execution_count": 4,
   "id": "e3f03ad9",
   "metadata": {},
   "outputs": [
    {
     "data": {
      "text/plain": [
       "'odd'"
      ]
     },
     "execution_count": 4,
     "metadata": {},
     "output_type": "execute_result"
    }
   ],
   "source": [
    "even_or_odd([1]) "
   ]
  },
  {
   "cell_type": "code",
   "execution_count": 5,
   "id": "8b0c75da",
   "metadata": {},
   "outputs": [
    {
     "data": {
      "text/plain": [
       "'even'"
      ]
     },
     "execution_count": 5,
     "metadata": {},
     "output_type": "execute_result"
    }
   ],
   "source": [
    "even_or_odd([]) "
   ]
  },
  {
   "cell_type": "code",
   "execution_count": 6,
   "id": "0f9cd162",
   "metadata": {},
   "outputs": [
    {
     "data": {
      "text/plain": [
       "'even'"
      ]
     },
     "execution_count": 6,
     "metadata": {},
     "output_type": "execute_result"
    }
   ],
   "source": [
    "even_or_odd([0, 1, 5]) "
   ]
  },
  {
   "cell_type": "code",
   "execution_count": null,
   "id": "32c4bb81",
   "metadata": {},
   "outputs": [],
   "source": []
  }
 ],
 "metadata": {
  "kernelspec": {
   "display_name": "base",
   "language": "python",
   "name": "python3"
  },
  "language_info": {
   "codemirror_mode": {
    "name": "ipython",
    "version": 3
   },
   "file_extension": ".py",
   "mimetype": "text/x-python",
   "name": "python",
   "nbconvert_exporter": "python",
   "pygments_lexer": "ipython3",
   "version": "3.9.12"
  }
 },
 "nbformat": 4,
 "nbformat_minor": 5
}
