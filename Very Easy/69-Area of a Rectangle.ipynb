{
 "cells": [
  {
   "cell_type": "markdown",
   "id": "340979a4",
   "metadata": {},
   "source": [
    "Area of a Rectangle\n"
   ]
  },
  {
   "cell_type": "markdown",
   "id": "6115937b",
   "metadata": {},
   "source": [
    "Problem Source"
   ]
  },
  {
   "cell_type": "markdown",
   "id": "218c652e",
   "metadata": {},
   "source": [
    "https://edabit.com/challenge/EPS5tFxKQB7vWXLs6"
   ]
  },
  {
   "cell_type": "code",
   "execution_count": 6,
   "id": "46021804",
   "metadata": {},
   "outputs": [],
   "source": [
    "def area(h, w):\n",
    "    result = h * w\n",
    "    if result > 0:\n",
    "        return h * w\n",
    "    else:\n",
    "        return -1"
   ]
  },
  {
   "cell_type": "code",
   "execution_count": 7,
   "id": "d0d34a8c",
   "metadata": {},
   "outputs": [
    {
     "data": {
      "text/plain": [
       "12"
      ]
     },
     "execution_count": 7,
     "metadata": {},
     "output_type": "execute_result"
    }
   ],
   "source": [
    "area(3, 4)"
   ]
  },
  {
   "cell_type": "code",
   "execution_count": 8,
   "id": "c7f1e52b",
   "metadata": {},
   "outputs": [
    {
     "data": {
      "text/plain": [
       "110"
      ]
     },
     "execution_count": 8,
     "metadata": {},
     "output_type": "execute_result"
    }
   ],
   "source": [
    "area(10, 11)"
   ]
  },
  {
   "cell_type": "code",
   "execution_count": 9,
   "id": "0a293bc5",
   "metadata": {},
   "outputs": [
    {
     "data": {
      "text/plain": [
       "-1"
      ]
     },
     "execution_count": 9,
     "metadata": {},
     "output_type": "execute_result"
    }
   ],
   "source": [
    "area(-1, 5)"
   ]
  },
  {
   "cell_type": "code",
   "execution_count": 10,
   "id": "4c4f4351",
   "metadata": {},
   "outputs": [
    {
     "data": {
      "text/plain": [
       "-1"
      ]
     },
     "execution_count": 10,
     "metadata": {},
     "output_type": "execute_result"
    }
   ],
   "source": [
    "area(0, 2)"
   ]
  },
  {
   "cell_type": "code",
   "execution_count": null,
   "id": "747d516f",
   "metadata": {},
   "outputs": [],
   "source": []
  }
 ],
 "metadata": {
  "kernelspec": {
   "display_name": "base",
   "language": "python",
   "name": "python3"
  },
  "language_info": {
   "codemirror_mode": {
    "name": "ipython",
    "version": 3
   },
   "file_extension": ".py",
   "mimetype": "text/x-python",
   "name": "python",
   "nbconvert_exporter": "python",
   "pygments_lexer": "ipython3",
   "version": "3.9.12"
  }
 },
 "nbformat": 4,
 "nbformat_minor": 5
}
