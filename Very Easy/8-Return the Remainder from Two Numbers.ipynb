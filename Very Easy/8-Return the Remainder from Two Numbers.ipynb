{
 "cells": [
  {
   "cell_type": "markdown",
   "id": "bc4891ab",
   "metadata": {},
   "source": [
    "Return the Remainder from Two Numbers\n"
   ]
  },
  {
   "cell_type": "markdown",
   "id": "6b944760",
   "metadata": {},
   "source": [
    "Problem Source"
   ]
  },
  {
   "cell_type": "markdown",
   "id": "57155947",
   "metadata": {},
   "source": [
    "https://edabit.com/challenge/KWoj7kWiHRqJtG6S2"
   ]
  },
  {
   "cell_type": "code",
   "execution_count": 1,
   "id": "38c1a57a",
   "metadata": {},
   "outputs": [],
   "source": [
    "def remainder(x, y):\n",
    "    return x % y"
   ]
  },
  {
   "cell_type": "code",
   "execution_count": 2,
   "id": "0adec760",
   "metadata": {},
   "outputs": [
    {
     "data": {
      "text/plain": [
       "1"
      ]
     },
     "execution_count": 2,
     "metadata": {},
     "output_type": "execute_result"
    }
   ],
   "source": [
    "remainder(1, 3)"
   ]
  },
  {
   "cell_type": "code",
   "execution_count": 3,
   "id": "d132e50c",
   "metadata": {},
   "outputs": [
    {
     "data": {
      "text/plain": [
       "3"
      ]
     },
     "execution_count": 3,
     "metadata": {},
     "output_type": "execute_result"
    }
   ],
   "source": [
    "remainder(3, 4) "
   ]
  },
  {
   "cell_type": "code",
   "execution_count": 4,
   "id": "c7b98ffc",
   "metadata": {},
   "outputs": [
    {
     "data": {
      "text/plain": [
       "0"
      ]
     },
     "execution_count": 4,
     "metadata": {},
     "output_type": "execute_result"
    }
   ],
   "source": [
    "remainder(5, 5) "
   ]
  },
  {
   "cell_type": "code",
   "execution_count": 5,
   "id": "e655ae01",
   "metadata": {},
   "outputs": [
    {
     "data": {
      "text/plain": [
       "1"
      ]
     },
     "execution_count": 5,
     "metadata": {},
     "output_type": "execute_result"
    }
   ],
   "source": [
    "remainder(7, 2)"
   ]
  },
  {
   "cell_type": "code",
   "execution_count": null,
   "id": "a25a0c16",
   "metadata": {},
   "outputs": [],
   "source": []
  }
 ],
 "metadata": {
  "kernelspec": {
   "display_name": "base",
   "language": "python",
   "name": "python3"
  },
  "language_info": {
   "codemirror_mode": {
    "name": "ipython",
    "version": 3
   },
   "file_extension": ".py",
   "mimetype": "text/x-python",
   "name": "python",
   "nbconvert_exporter": "python",
   "pygments_lexer": "ipython3",
   "version": "3.9.12"
  }
 },
 "nbformat": 4,
 "nbformat_minor": 5
}
