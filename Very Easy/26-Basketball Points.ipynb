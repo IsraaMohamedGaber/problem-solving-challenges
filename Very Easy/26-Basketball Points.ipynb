{
 "cells": [
  {
   "cell_type": "markdown",
   "id": "7c9af9e6",
   "metadata": {},
   "source": [
    "Basketball Points\n"
   ]
  },
  {
   "cell_type": "markdown",
   "id": "b5a024bc",
   "metadata": {},
   "source": [
    "Problem Source"
   ]
  },
  {
   "cell_type": "markdown",
   "id": "b1a57714",
   "metadata": {},
   "source": [
    "https://edabit.com/challenge/KWnJrMzK9CumnfxTF"
   ]
  },
  {
   "cell_type": "code",
   "execution_count": 1,
   "id": "c214e7ce",
   "metadata": {},
   "outputs": [],
   "source": [
    "def points(twopointers, threepointers):\n",
    "    return (twopointers * 2) + (threepointers * 3)"
   ]
  },
  {
   "cell_type": "code",
   "execution_count": 2,
   "id": "6484fe96",
   "metadata": {},
   "outputs": [
    {
     "data": {
      "text/plain": [
       "5"
      ]
     },
     "execution_count": 2,
     "metadata": {},
     "output_type": "execute_result"
    }
   ],
   "source": [
    "points(1, 1)"
   ]
  },
  {
   "cell_type": "code",
   "execution_count": 3,
   "id": "f391230f",
   "metadata": {},
   "outputs": [
    {
     "data": {
      "text/plain": [
       "29"
      ]
     },
     "execution_count": 3,
     "metadata": {},
     "output_type": "execute_result"
    }
   ],
   "source": [
    "points(7, 5)"
   ]
  },
  {
   "cell_type": "code",
   "execution_count": 4,
   "id": "1964a544",
   "metadata": {},
   "outputs": [
    {
     "data": {
      "text/plain": [
       "100"
      ]
     },
     "execution_count": 4,
     "metadata": {},
     "output_type": "execute_result"
    }
   ],
   "source": [
    "points(38, 8)"
   ]
  },
  {
   "cell_type": "code",
   "execution_count": null,
   "id": "67d6ab7e",
   "metadata": {},
   "outputs": [],
   "source": []
  }
 ],
 "metadata": {
  "kernelspec": {
   "display_name": "base",
   "language": "python",
   "name": "python3"
  },
  "language_info": {
   "codemirror_mode": {
    "name": "ipython",
    "version": 3
   },
   "file_extension": ".py",
   "mimetype": "text/x-python",
   "name": "python",
   "nbconvert_exporter": "python",
   "pygments_lexer": "ipython3",
   "version": "3.9.12"
  }
 },
 "nbformat": 4,
 "nbformat_minor": 5
}
