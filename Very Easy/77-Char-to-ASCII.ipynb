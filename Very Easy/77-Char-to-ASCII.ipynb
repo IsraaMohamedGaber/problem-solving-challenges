{
 "cells": [
  {
   "cell_type": "markdown",
   "id": "18b1c729",
   "metadata": {},
   "source": [
    "Char-to-ASCII\n"
   ]
  },
  {
   "cell_type": "markdown",
   "id": "853d6cb3",
   "metadata": {},
   "source": [
    "Problem Source"
   ]
  },
  {
   "cell_type": "markdown",
   "id": "6b85d2aa",
   "metadata": {},
   "source": [
    "https://edabit.com/challenge/9wfEZ4898nnpa9wL5"
   ]
  },
  {
   "cell_type": "code",
   "execution_count": 1,
   "id": "a1b19f3f",
   "metadata": {},
   "outputs": [],
   "source": [
    "def ctoa(char):\n",
    "    return ord(char)"
   ]
  },
  {
   "cell_type": "code",
   "execution_count": 2,
   "id": "63ecfd83",
   "metadata": {},
   "outputs": [
    {
     "data": {
      "text/plain": [
       "65"
      ]
     },
     "execution_count": 2,
     "metadata": {},
     "output_type": "execute_result"
    }
   ],
   "source": [
    "ctoa(\"A\") "
   ]
  },
  {
   "cell_type": "code",
   "execution_count": 3,
   "id": "28710eb4",
   "metadata": {},
   "outputs": [
    {
     "data": {
      "text/plain": [
       "109"
      ]
     },
     "execution_count": 3,
     "metadata": {},
     "output_type": "execute_result"
    }
   ],
   "source": [
    "ctoa(\"m\") "
   ]
  },
  {
   "cell_type": "code",
   "execution_count": 5,
   "id": "7142a07b",
   "metadata": {},
   "outputs": [
    {
     "data": {
      "text/plain": [
       "91"
      ]
     },
     "execution_count": 5,
     "metadata": {},
     "output_type": "execute_result"
    }
   ],
   "source": [
    "ctoa(\"[\") "
   ]
  },
  {
   "cell_type": "code",
   "execution_count": 9,
   "id": "916ff569",
   "metadata": {},
   "outputs": [
    {
     "data": {
      "text/plain": [
       "92"
      ]
     },
     "execution_count": 9,
     "metadata": {},
     "output_type": "execute_result"
    }
   ],
   "source": [
    "ctoa(\"\\\\\") "
   ]
  },
  {
   "cell_type": "code",
   "execution_count": null,
   "id": "45c0d3dd",
   "metadata": {},
   "outputs": [],
   "source": []
  }
 ],
 "metadata": {
  "kernelspec": {
   "display_name": "base",
   "language": "python",
   "name": "python3"
  },
  "language_info": {
   "codemirror_mode": {
    "name": "ipython",
    "version": 3
   },
   "file_extension": ".py",
   "mimetype": "text/x-python",
   "name": "python",
   "nbconvert_exporter": "python",
   "pygments_lexer": "ipython3",
   "version": "3.9.12"
  }
 },
 "nbformat": 4,
 "nbformat_minor": 5
}
