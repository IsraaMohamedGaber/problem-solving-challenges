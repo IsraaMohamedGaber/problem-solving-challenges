{
 "cells": [
  {
   "cell_type": "markdown",
   "id": "39443235",
   "metadata": {},
   "source": [
    "Area of a Triangle"
   ]
  },
  {
   "cell_type": "markdown",
   "id": "f973d5aa",
   "metadata": {},
   "source": [
    "Problem source"
   ]
  },
  {
   "cell_type": "markdown",
   "id": "36c65b1e",
   "metadata": {},
   "source": [
    "https://edabit.com/challenge/3CaszbdZYGN4otQD8"
   ]
  },
  {
   "cell_type": "code",
   "execution_count": 1,
   "id": "1f0a7a9d",
   "metadata": {},
   "outputs": [],
   "source": [
    "def tri_area(base, height):\n",
    "    return base * height / 2"
   ]
  },
  {
   "cell_type": "code",
   "execution_count": 2,
   "id": "b4ddc694",
   "metadata": {},
   "outputs": [
    {
     "data": {
      "text/plain": [
       "3.0"
      ]
     },
     "execution_count": 2,
     "metadata": {},
     "output_type": "execute_result"
    }
   ],
   "source": [
    "tri_area(3, 2)"
   ]
  },
  {
   "cell_type": "code",
   "execution_count": 3,
   "id": "9f7839c0",
   "metadata": {},
   "outputs": [
    {
     "data": {
      "text/plain": [
       "14.0"
      ]
     },
     "execution_count": 3,
     "metadata": {},
     "output_type": "execute_result"
    }
   ],
   "source": [
    "tri_area(7, 4)"
   ]
  },
  {
   "cell_type": "code",
   "execution_count": 4,
   "id": "c1e888a8",
   "metadata": {},
   "outputs": [
    {
     "data": {
      "text/plain": [
       "50.0"
      ]
     },
     "execution_count": 4,
     "metadata": {},
     "output_type": "execute_result"
    }
   ],
   "source": [
    "tri_area(10, 10)"
   ]
  },
  {
   "cell_type": "code",
   "execution_count": null,
   "id": "95ae203e",
   "metadata": {},
   "outputs": [],
   "source": []
  }
 ],
 "metadata": {
  "kernelspec": {
   "display_name": "base",
   "language": "python",
   "name": "python3"
  },
  "language_info": {
   "codemirror_mode": {
    "name": "ipython",
    "version": 3
   },
   "file_extension": ".py",
   "mimetype": "text/x-python",
   "name": "python",
   "nbconvert_exporter": "python",
   "pygments_lexer": "ipython3",
   "version": "3.9.12"
  }
 },
 "nbformat": 4,
 "nbformat_minor": 5
}
