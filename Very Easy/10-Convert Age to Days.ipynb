{
 "cells": [
  {
   "cell_type": "markdown",
   "id": "24937705",
   "metadata": {},
   "source": [
    "Convert Age to Days\n"
   ]
  },
  {
   "cell_type": "markdown",
   "id": "db819235",
   "metadata": {},
   "source": [
    "Problem Source"
   ]
  },
  {
   "cell_type": "markdown",
   "id": "930c74cd",
   "metadata": {},
   "source": [
    "https://edabit.com/challenge/xbZR26rHMNo32yz35"
   ]
  },
  {
   "cell_type": "code",
   "execution_count": 1,
   "id": "792f4796",
   "metadata": {},
   "outputs": [],
   "source": [
    "def calc_age(age):\n",
    "    return age * 365"
   ]
  },
  {
   "cell_type": "code",
   "execution_count": 2,
   "id": "1da30873",
   "metadata": {},
   "outputs": [
    {
     "data": {
      "text/plain": [
       "23725"
      ]
     },
     "execution_count": 2,
     "metadata": {},
     "output_type": "execute_result"
    }
   ],
   "source": [
    "calc_age(65)"
   ]
  },
  {
   "cell_type": "code",
   "execution_count": 3,
   "id": "a69df46b",
   "metadata": {},
   "outputs": [
    {
     "data": {
      "text/plain": [
       "0"
      ]
     },
     "execution_count": 3,
     "metadata": {},
     "output_type": "execute_result"
    }
   ],
   "source": [
    "calc_age(0)"
   ]
  },
  {
   "cell_type": "code",
   "execution_count": 4,
   "id": "7b1cb796",
   "metadata": {},
   "outputs": [
    {
     "data": {
      "text/plain": [
       "7300"
      ]
     },
     "execution_count": 4,
     "metadata": {},
     "output_type": "execute_result"
    }
   ],
   "source": [
    "calc_age(20)"
   ]
  },
  {
   "cell_type": "code",
   "execution_count": null,
   "id": "adb3fb4e",
   "metadata": {},
   "outputs": [],
   "source": []
  }
 ],
 "metadata": {
  "kernelspec": {
   "display_name": "base",
   "language": "python",
   "name": "python3"
  },
  "language_info": {
   "codemirror_mode": {
    "name": "ipython",
    "version": 3
   },
   "file_extension": ".py",
   "mimetype": "text/x-python",
   "name": "python",
   "nbconvert_exporter": "python",
   "pygments_lexer": "ipython3",
   "version": "3.9.12"
  }
 },
 "nbformat": 4,
 "nbformat_minor": 5
}
