{
 "cells": [
  {
   "cell_type": "markdown",
   "id": "68789f41",
   "metadata": {},
   "source": [
    "Circle or Square"
   ]
  },
  {
   "cell_type": "markdown",
   "id": "c6d8a70d",
   "metadata": {},
   "source": [
    "Problem Source"
   ]
  },
  {
   "cell_type": "markdown",
   "id": "1906e4c3",
   "metadata": {},
   "source": [
    "https://edabit.com/challenge/4me7LifXBwj5rhL4n"
   ]
  },
  {
   "cell_type": "code",
   "execution_count": 12,
   "id": "b3fb778b",
   "metadata": {},
   "outputs": [],
   "source": [
    "import math\n",
    "\n",
    "def circle_or_square(rad, area):\n",
    "    side_square_root = math.sqrt(area)\n",
    "    PI=3.14\n",
    "    perimeter_square= 4 * side_square_root\n",
    "    circumference_circle = 2 * PI * rad\n",
    "    if circumference_circle > perimeter_square:\n",
    "        return \"True\"\n",
    "    else:\n",
    "        return \"False\""
   ]
  },
  {
   "cell_type": "code",
   "execution_count": 13,
   "id": "a15ee349",
   "metadata": {},
   "outputs": [
    {
     "data": {
      "text/plain": [
       "'True'"
      ]
     },
     "execution_count": 13,
     "metadata": {},
     "output_type": "execute_result"
    }
   ],
   "source": [
    "circle_or_square(16, 625) "
   ]
  },
  {
   "cell_type": "code",
   "execution_count": 14,
   "id": "cbdada0f",
   "metadata": {},
   "outputs": [
    {
     "data": {
      "text/plain": [
       "'False'"
      ]
     },
     "execution_count": 14,
     "metadata": {},
     "output_type": "execute_result"
    }
   ],
   "source": [
    "circle_or_square(5, 100) "
   ]
  },
  {
   "cell_type": "code",
   "execution_count": 15,
   "id": "e5fec766",
   "metadata": {},
   "outputs": [
    {
     "data": {
      "text/plain": [
       "'True'"
      ]
     },
     "execution_count": 15,
     "metadata": {},
     "output_type": "execute_result"
    }
   ],
   "source": [
    "circle_or_square(8, 144) "
   ]
  }
 ],
 "metadata": {
  "kernelspec": {
   "display_name": "base",
   "language": "python",
   "name": "python3"
  },
  "language_info": {
   "codemirror_mode": {
    "name": "ipython",
    "version": 3
   },
   "file_extension": ".py",
   "mimetype": "text/x-python",
   "name": "python",
   "nbconvert_exporter": "python",
   "pygments_lexer": "ipython3",
   "version": "3.9.12"
  }
 },
 "nbformat": 4,
 "nbformat_minor": 5
}
