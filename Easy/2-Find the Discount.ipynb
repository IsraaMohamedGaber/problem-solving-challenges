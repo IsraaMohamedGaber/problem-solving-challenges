{
 "cells": [
  {
   "cell_type": "markdown",
   "id": "435e9650",
   "metadata": {},
   "source": [
    "Find the Discount\n"
   ]
  },
  {
   "cell_type": "markdown",
   "id": "d9a676ca",
   "metadata": {},
   "source": [
    "Problem Source"
   ]
  },
  {
   "cell_type": "markdown",
   "id": "7ef116eb",
   "metadata": {},
   "source": [
    "https://edabit.com/challenge/cXnkmRdxqJrwdsP4n"
   ]
  },
  {
   "cell_type": "code",
   "execution_count": 1,
   "id": "d50f55fa",
   "metadata": {},
   "outputs": [],
   "source": [
    "def dis(price, discount):\n",
    "    return price - (price * discount / 100)"
   ]
  },
  {
   "cell_type": "code",
   "execution_count": 2,
   "id": "e703df83",
   "metadata": {},
   "outputs": [
    {
     "data": {
      "text/plain": [
       "750.0"
      ]
     },
     "execution_count": 2,
     "metadata": {},
     "output_type": "execute_result"
    }
   ],
   "source": [
    "dis(1500, 50)"
   ]
  },
  {
   "cell_type": "code",
   "execution_count": 4,
   "id": "605fbf91",
   "metadata": {},
   "outputs": [
    {
     "data": {
      "text/plain": [
       "71.2"
      ]
     },
     "execution_count": 4,
     "metadata": {},
     "output_type": "execute_result"
    }
   ],
   "source": [
    "dis(89, 20)"
   ]
  },
  {
   "cell_type": "code",
   "execution_count": 5,
   "id": "89bd3a19",
   "metadata": {},
   "outputs": [
    {
     "data": {
      "text/plain": [
       "25.0"
      ]
     },
     "execution_count": 5,
     "metadata": {},
     "output_type": "execute_result"
    }
   ],
   "source": [
    "dis(100, 75)"
   ]
  },
  {
   "cell_type": "code",
   "execution_count": null,
   "id": "e7bdb198",
   "metadata": {},
   "outputs": [],
   "source": []
  }
 ],
 "metadata": {
  "kernelspec": {
   "display_name": "base",
   "language": "python",
   "name": "python3"
  },
  "language_info": {
   "codemirror_mode": {
    "name": "ipython",
    "version": 3
   },
   "file_extension": ".py",
   "mimetype": "text/x-python",
   "name": "python",
   "nbconvert_exporter": "python",
   "pygments_lexer": "ipython3",
   "version": "3.9.12"
  }
 },
 "nbformat": 4,
 "nbformat_minor": 5
}
