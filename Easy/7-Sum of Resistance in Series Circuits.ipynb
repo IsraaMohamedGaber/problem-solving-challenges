{
 "cells": [
  {
   "cell_type": "markdown",
   "id": "41285382",
   "metadata": {},
   "source": [
    "Sum of Resistance in Series Circuits\n"
   ]
  },
  {
   "cell_type": "markdown",
   "id": "d18bf680",
   "metadata": {},
   "source": [
    "Problem Source"
   ]
  },
  {
   "cell_type": "markdown",
   "id": "50eaab9a",
   "metadata": {},
   "source": [
    "https://edabit.com/challenge/gzmFeaXwFv8X6pBGq"
   ]
  },
  {
   "cell_type": "code",
   "execution_count": 14,
   "id": "3dd0456d",
   "metadata": {},
   "outputs": [],
   "source": [
    "def series_resistance(lst):\n",
    "    return str(sum(lst)) + \" ohms\" "
   ]
  },
  {
   "cell_type": "code",
   "execution_count": 15,
   "id": "8c6840ea",
   "metadata": {},
   "outputs": [
    {
     "data": {
      "text/plain": [
       "'15 ohms'"
      ]
     },
     "execution_count": 15,
     "metadata": {},
     "output_type": "execute_result"
    }
   ],
   "source": [
    "series_resistance([1, 5, 6, 3])"
   ]
  },
  {
   "cell_type": "code",
   "execution_count": 16,
   "id": "5227ef22",
   "metadata": {},
   "outputs": [
    {
     "data": {
      "text/plain": [
       "'25.5 ohms'"
      ]
     },
     "execution_count": 16,
     "metadata": {},
     "output_type": "execute_result"
    }
   ],
   "source": [
    "series_resistance([16, 3.5, 6]) "
   ]
  },
  {
   "cell_type": "code",
   "execution_count": 17,
   "id": "3fa04b7b",
   "metadata": {},
   "outputs": [
    {
     "data": {
      "text/plain": [
       "'1.0 ohms'"
      ]
     },
     "execution_count": 17,
     "metadata": {},
     "output_type": "execute_result"
    }
   ],
   "source": [
    "series_resistance([0.5, 0.5])"
   ]
  },
  {
   "cell_type": "code",
   "execution_count": null,
   "id": "7d4b7741",
   "metadata": {},
   "outputs": [],
   "source": []
  }
 ],
 "metadata": {
  "kernelspec": {
   "display_name": "base",
   "language": "python",
   "name": "python3"
  },
  "language_info": {
   "codemirror_mode": {
    "name": "ipython",
    "version": 3
   },
   "file_extension": ".py",
   "mimetype": "text/x-python",
   "name": "python",
   "nbconvert_exporter": "python",
   "pygments_lexer": "ipython3",
   "version": "3.9.12"
  }
 },
 "nbformat": 4,
 "nbformat_minor": 5
}
