{
 "cells": [
  {
   "cell_type": "markdown",
   "id": "c11981a7",
   "metadata": {},
   "source": [
    "Temperature Conversion\n"
   ]
  },
  {
   "cell_type": "markdown",
   "id": "396bff46",
   "metadata": {},
   "source": [
    "Problem Source"
   ]
  },
  {
   "cell_type": "markdown",
   "id": "6b33f705",
   "metadata": {},
   "source": [
    "https://edabit.com/challenge/ZCaMMqDuJBi6NZgYF"
   ]
  },
  {
   "cell_type": "code",
   "execution_count": 3,
   "id": "50aff772",
   "metadata": {},
   "outputs": [],
   "source": [
    "def temp_conversion(celsius):\n",
    "    fahrenheit = (celsius * 9/5) + 32\n",
    "    Kelvin  = celsius + 273.15\n",
    "    return [fahrenheit,Kelvin ]"
   ]
  },
  {
   "cell_type": "code",
   "execution_count": 4,
   "id": "5148bcb4",
   "metadata": {},
   "outputs": [
    {
     "data": {
      "text/plain": [
       "[32.0, 273.15]"
      ]
     },
     "execution_count": 4,
     "metadata": {},
     "output_type": "execute_result"
    }
   ],
   "source": [
    "temp_conversion(0)"
   ]
  },
  {
   "cell_type": "code",
   "execution_count": 5,
   "id": "bb5d7366",
   "metadata": {},
   "outputs": [
    {
     "data": {
      "text/plain": [
       "[212.0, 373.15]"
      ]
     },
     "execution_count": 5,
     "metadata": {},
     "output_type": "execute_result"
    }
   ],
   "source": [
    "temp_conversion(100) "
   ]
  },
  {
   "cell_type": "code",
   "execution_count": 6,
   "id": "703e4392",
   "metadata": {},
   "outputs": [
    {
     "data": {
      "text/plain": [
       "[14.0, 263.15]"
      ]
     },
     "execution_count": 6,
     "metadata": {},
     "output_type": "execute_result"
    }
   ],
   "source": [
    "temp_conversion(-10) "
   ]
  },
  {
   "cell_type": "code",
   "execution_count": 7,
   "id": "8cde2e99",
   "metadata": {},
   "outputs": [
    {
     "data": {
      "text/plain": [
       "[572.72, 573.55]"
      ]
     },
     "execution_count": 7,
     "metadata": {},
     "output_type": "execute_result"
    }
   ],
   "source": [
    "temp_conversion(300.4) "
   ]
  },
  {
   "cell_type": "code",
   "execution_count": null,
   "id": "bcbb45ba",
   "metadata": {},
   "outputs": [],
   "source": []
  }
 ],
 "metadata": {
  "kernelspec": {
   "display_name": "base",
   "language": "python",
   "name": "python3"
  },
  "language_info": {
   "codemirror_mode": {
    "name": "ipython",
    "version": 3
   },
   "file_extension": ".py",
   "mimetype": "text/x-python",
   "name": "python",
   "nbconvert_exporter": "python",
   "pygments_lexer": "ipython3",
   "version": "3.9.12"
  }
 },
 "nbformat": 4,
 "nbformat_minor": 5
}
