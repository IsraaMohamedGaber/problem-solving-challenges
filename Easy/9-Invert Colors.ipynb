{
 "cells": [
  {
   "cell_type": "markdown",
   "id": "c9daf333",
   "metadata": {},
   "source": [
    "Invert Colors\n"
   ]
  },
  {
   "cell_type": "markdown",
   "id": "f493227a",
   "metadata": {},
   "source": [
    "Problem Source"
   ]
  },
  {
   "cell_type": "markdown",
   "id": "6f838a05",
   "metadata": {},
   "source": [
    "https://edabit.com/challenge/i6hY9JSjQK4jcaB6i"
   ]
  },
  {
   "cell_type": "code",
   "execution_count": 1,
   "id": "94bd27cd",
   "metadata": {},
   "outputs": [],
   "source": [
    "def color_invert(rgb):\n",
    "    return (255 - rgb[0], 255 - rgb[1], 255 - rgb[2])"
   ]
  },
  {
   "cell_type": "code",
   "execution_count": 2,
   "id": "7f3de42c",
   "metadata": {},
   "outputs": [
    {
     "data": {
      "text/plain": [
       "(0, 0, 0)"
      ]
     },
     "execution_count": 2,
     "metadata": {},
     "output_type": "execute_result"
    }
   ],
   "source": [
    "color_invert((255, 255, 255))"
   ]
  },
  {
   "cell_type": "code",
   "execution_count": 3,
   "id": "b328b751",
   "metadata": {},
   "outputs": [
    {
     "data": {
      "text/plain": [
       "(255, 255, 255)"
      ]
     },
     "execution_count": 3,
     "metadata": {},
     "output_type": "execute_result"
    }
   ],
   "source": [
    "color_invert((0, 0, 0))"
   ]
  },
  {
   "cell_type": "code",
   "execution_count": 4,
   "id": "51df9d27",
   "metadata": {},
   "outputs": [
    {
     "data": {
      "text/plain": [
       "(90, 85, 34)"
      ]
     },
     "execution_count": 4,
     "metadata": {},
     "output_type": "execute_result"
    }
   ],
   "source": [
    "color_invert((165, 170, 221))"
   ]
  },
  {
   "cell_type": "code",
   "execution_count": null,
   "id": "703fc5b5",
   "metadata": {},
   "outputs": [],
   "source": []
  }
 ],
 "metadata": {
  "kernelspec": {
   "display_name": "base",
   "language": "python",
   "name": "python3"
  },
  "language_info": {
   "codemirror_mode": {
    "name": "ipython",
    "version": 3
   },
   "file_extension": ".py",
   "mimetype": "text/x-python",
   "name": "python",
   "nbconvert_exporter": "python",
   "pygments_lexer": "ipython3",
   "version": "3.9.12"
  }
 },
 "nbformat": 4,
 "nbformat_minor": 5
}
