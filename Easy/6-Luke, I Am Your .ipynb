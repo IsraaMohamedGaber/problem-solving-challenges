{
 "cells": [
  {
   "cell_type": "markdown",
   "id": "fbd8fd59",
   "metadata": {},
   "source": [
    "Luke, I Am Your ...\n"
   ]
  },
  {
   "cell_type": "markdown",
   "id": "be4655de",
   "metadata": {},
   "source": [
    "Problem Source"
   ]
  },
  {
   "cell_type": "markdown",
   "id": "6101ce93",
   "metadata": {},
   "source": [
    "https://edabit.com/challenge/8pDH2SRutPoaQghgc"
   ]
  },
  {
   "cell_type": "code",
   "execution_count": 1,
   "id": "392b6fec",
   "metadata": {},
   "outputs": [],
   "source": [
    "def relation_to_luke(name):\n",
    "    if name == \"Darth Vader\":\n",
    "        return \"Luke, I am your father.\"\n",
    "    elif name == \"Leia\":\n",
    "        return \"Luke, I am your sister.\"\n",
    "    elif name == \"Han\":\n",
    "        return \"Luke, I am your brother in law.\"\n",
    "    else:\n",
    "        return \"Luke, I am your droid\""
   ]
  },
  {
   "cell_type": "code",
   "execution_count": 2,
   "id": "50a48b68",
   "metadata": {},
   "outputs": [
    {
     "data": {
      "text/plain": [
       "'Luke, I am your father.'"
      ]
     },
     "execution_count": 2,
     "metadata": {},
     "output_type": "execute_result"
    }
   ],
   "source": [
    "relation_to_luke(\"Darth Vader\")"
   ]
  },
  {
   "cell_type": "code",
   "execution_count": 3,
   "id": "58873107",
   "metadata": {},
   "outputs": [
    {
     "data": {
      "text/plain": [
       "'Luke, I am your sister.'"
      ]
     },
     "execution_count": 3,
     "metadata": {},
     "output_type": "execute_result"
    }
   ],
   "source": [
    "relation_to_luke(\"Leia\")"
   ]
  },
  {
   "cell_type": "code",
   "execution_count": 4,
   "id": "f4acdadd",
   "metadata": {},
   "outputs": [
    {
     "data": {
      "text/plain": [
       "'Luke, I am your brother in law.'"
      ]
     },
     "execution_count": 4,
     "metadata": {},
     "output_type": "execute_result"
    }
   ],
   "source": [
    "relation_to_luke(\"Han\")"
   ]
  },
  {
   "cell_type": "code",
   "execution_count": null,
   "id": "6b382658",
   "metadata": {},
   "outputs": [],
   "source": []
  }
 ],
 "metadata": {
  "kernelspec": {
   "display_name": "base",
   "language": "python",
   "name": "python3"
  },
  "language_info": {
   "codemirror_mode": {
    "name": "ipython",
    "version": 3
   },
   "file_extension": ".py",
   "mimetype": "text/x-python",
   "name": "python",
   "nbconvert_exporter": "python",
   "pygments_lexer": "ipython3",
   "version": "3.9.12"
  }
 },
 "nbformat": 4,
 "nbformat_minor": 5
}
