{
 "cells": [
  {
   "cell_type": "markdown",
   "id": "0544874c",
   "metadata": {},
   "source": [
    "End Corona!\n"
   ]
  },
  {
   "cell_type": "markdown",
   "id": "d61e674d",
   "metadata": {},
   "source": [
    "Problem Source"
   ]
  },
  {
   "cell_type": "markdown",
   "id": "a96a4d09",
   "metadata": {},
   "source": [
    "https://edabit.com/challenge/uKPc5faEzQkMwLYPP"
   ]
  },
  {
   "cell_type": "code",
   "execution_count": 10,
   "id": "4c24c35d",
   "metadata": {},
   "outputs": [],
   "source": [
    "def end_corona(recovers, new_cases, active_cases):\n",
    "    # If recover rate <= new infection rate, cases never reach 0\n",
    "    if recovers <= new_cases:\n",
    "        return float('inf')  # Infinite days\n",
    "    \n",
    "    # Daily decrease in active cases\n",
    "    net_reduction = recovers - new_cases\n",
    "    \n",
    "    # Days = total cases / daily reduction (rounded up)\n",
    "    days = -(-active_cases // net_reduction)  # Ceiling division\n",
    "    \n",
    "    return int(days)"
   ]
  },
  {
   "cell_type": "code",
   "execution_count": 11,
   "id": "93579f0c",
   "metadata": {},
   "outputs": [
    {
     "data": {
      "text/plain": [
       "39"
      ]
     },
     "execution_count": 11,
     "metadata": {},
     "output_type": "execute_result"
    }
   ],
   "source": [
    "end_corona(4000, 2000, 77000) "
   ]
  },
  {
   "cell_type": "code",
   "execution_count": 12,
   "id": "7979650c",
   "metadata": {},
   "outputs": [
    {
     "data": {
      "text/plain": [
       "51"
      ]
     },
     "execution_count": 12,
     "metadata": {},
     "output_type": "execute_result"
    }
   ],
   "source": [
    "end_corona(3000, 2000, 50699)"
   ]
  },
  {
   "cell_type": "code",
   "execution_count": 13,
   "id": "5db0cd3c",
   "metadata": {},
   "outputs": [
    {
     "data": {
      "text/plain": [
       "79"
      ]
     },
     "execution_count": 13,
     "metadata": {},
     "output_type": "execute_result"
    }
   ],
   "source": [
    "end_corona(30000, 25000, 390205) "
   ]
  },
  {
   "cell_type": "code",
   "execution_count": null,
   "id": "6bb21fd9",
   "metadata": {},
   "outputs": [],
   "source": []
  }
 ],
 "metadata": {
  "kernelspec": {
   "display_name": "base",
   "language": "python",
   "name": "python3"
  },
  "language_info": {
   "codemirror_mode": {
    "name": "ipython",
    "version": 3
   },
   "file_extension": ".py",
   "mimetype": "text/x-python",
   "name": "python",
   "nbconvert_exporter": "python",
   "pygments_lexer": "ipython3",
   "version": "3.9.12"
  }
 },
 "nbformat": 4,
 "nbformat_minor": 5
}
