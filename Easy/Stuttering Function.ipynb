{
 "cells": [
  {
   "cell_type": "markdown",
   "id": "e8ca8ba6",
   "metadata": {},
   "source": [
    "Stuttering Function\n"
   ]
  },
  {
   "cell_type": "markdown",
   "id": "6459fbce",
   "metadata": {},
   "source": [
    "Problem Source"
   ]
  },
  {
   "cell_type": "markdown",
   "id": "e0e6da60",
   "metadata": {},
   "source": [
    "https://edabit.com/challenge/gt9LLufDCMHKMioh2"
   ]
  },
  {
   "cell_type": "code",
   "execution_count": 1,
   "id": "8abb4c16",
   "metadata": {},
   "outputs": [],
   "source": [
    "def stutter(word):\n",
    "    return word[:2] + '... ' + word[:2] + '... ' + word + '...'"
   ]
  },
  {
   "cell_type": "code",
   "execution_count": 2,
   "id": "c3afa3af",
   "metadata": {},
   "outputs": [
    {
     "data": {
      "text/plain": [
       "'in... in... incredible...'"
      ]
     },
     "execution_count": 2,
     "metadata": {},
     "output_type": "execute_result"
    }
   ],
   "source": [
    "stutter(\"incredible\")"
   ]
  },
  {
   "cell_type": "code",
   "execution_count": 3,
   "id": "9ca328b7",
   "metadata": {},
   "outputs": [
    {
     "data": {
      "text/plain": [
       "'en... en... enthusiastic...'"
      ]
     },
     "execution_count": 3,
     "metadata": {},
     "output_type": "execute_result"
    }
   ],
   "source": [
    "stutter(\"enthusiastic\") "
   ]
  },
  {
   "cell_type": "code",
   "execution_count": 4,
   "id": "37ffb73d",
   "metadata": {},
   "outputs": [
    {
     "data": {
      "text/plain": [
       "'ou... ou... outstanding...'"
      ]
     },
     "execution_count": 4,
     "metadata": {},
     "output_type": "execute_result"
    }
   ],
   "source": [
    "stutter(\"outstanding\")"
   ]
  },
  {
   "cell_type": "code",
   "execution_count": null,
   "id": "fe11552b",
   "metadata": {},
   "outputs": [],
   "source": []
  }
 ],
 "metadata": {
  "kernelspec": {
   "display_name": "base",
   "language": "python",
   "name": "python3"
  },
  "language_info": {
   "codemirror_mode": {
    "name": "ipython",
    "version": 3
   },
   "file_extension": ".py",
   "mimetype": "text/x-python",
   "name": "python",
   "nbconvert_exporter": "python",
   "pygments_lexer": "ipython3",
   "version": "3.9.12"
  }
 },
 "nbformat": 4,
 "nbformat_minor": 5
}
