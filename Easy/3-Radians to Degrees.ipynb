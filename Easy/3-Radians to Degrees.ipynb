{
 "cells": [
  {
   "cell_type": "markdown",
   "id": "abcf9157",
   "metadata": {},
   "source": [
    "Radians to Degrees\n"
   ]
  },
  {
   "cell_type": "markdown",
   "id": "bb9ddcd7",
   "metadata": {},
   "source": [
    "Problem Source"
   ]
  },
  {
   "cell_type": "markdown",
   "id": "55f1667a",
   "metadata": {},
   "source": [
    "https://edabit.com/challenge/2X2uZysLJ3CpsxLDD"
   ]
  },
  {
   "cell_type": "code",
   "execution_count": 1,
   "id": "a2b2d406",
   "metadata": {},
   "outputs": [],
   "source": [
    "def radians_to_degrees(rad):\n",
    "    pi = 3.14\n",
    "    degrees = rad * (180 / pi)\n",
    "    return degrees"
   ]
  },
  {
   "cell_type": "code",
   "execution_count": 2,
   "id": "d3b356af",
   "metadata": {},
   "outputs": [
    {
     "data": {
      "text/plain": [
       "57.324840764331206"
      ]
     },
     "execution_count": 2,
     "metadata": {},
     "output_type": "execute_result"
    }
   ],
   "source": [
    "radians_to_degrees(1)"
   ]
  },
  {
   "cell_type": "code",
   "execution_count": 3,
   "id": "74f7f7a3",
   "metadata": {},
   "outputs": [
    {
     "data": {
      "text/plain": [
       "1146.496815286624"
      ]
     },
     "execution_count": 3,
     "metadata": {},
     "output_type": "execute_result"
    }
   ],
   "source": [
    "radians_to_degrees(20)"
   ]
  },
  {
   "cell_type": "code",
   "execution_count": 4,
   "id": "d1b75557",
   "metadata": {},
   "outputs": [
    {
     "data": {
      "text/plain": [
       "2866.24203821656"
      ]
     },
     "execution_count": 4,
     "metadata": {},
     "output_type": "execute_result"
    }
   ],
   "source": [
    "radians_to_degrees(50)"
   ]
  },
  {
   "cell_type": "code",
   "execution_count": null,
   "id": "9646b21e",
   "metadata": {},
   "outputs": [],
   "source": []
  }
 ],
 "metadata": {
  "kernelspec": {
   "display_name": "base",
   "language": "python",
   "name": "python3"
  },
  "language_info": {
   "codemirror_mode": {
    "name": "ipython",
    "version": 3
   },
   "file_extension": ".py",
   "mimetype": "text/x-python",
   "name": "python",
   "nbconvert_exporter": "python",
   "pygments_lexer": "ipython3",
   "version": "3.9.12"
  }
 },
 "nbformat": 4,
 "nbformat_minor": 5
}
