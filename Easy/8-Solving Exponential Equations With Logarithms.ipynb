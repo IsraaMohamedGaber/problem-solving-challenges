{
 "cells": [
  {
   "cell_type": "markdown",
   "id": "bfc3ad50",
   "metadata": {},
   "source": [
    "Solving Exponential Equations With Logarithms\n"
   ]
  },
  {
   "cell_type": "markdown",
   "id": "456de966",
   "metadata": {},
   "source": [
    "Problem Source"
   ]
  },
  {
   "cell_type": "markdown",
   "id": "58d6ce55",
   "metadata": {},
   "source": [
    "https://edabit.com/challenge/MhQbon8XzsG3wJHdP"
   ]
  },
  {
   "cell_type": "code",
   "execution_count": 11,
   "id": "be195e20",
   "metadata": {},
   "outputs": [],
   "source": [
    "from math import log\n",
    "def solve_for_exp(a, b):\n",
    "    return round(log(b) / log(a)) "
   ]
  },
  {
   "cell_type": "code",
   "execution_count": 12,
   "id": "b877e7c8",
   "metadata": {},
   "outputs": [
    {
     "data": {
      "text/plain": [
       "5"
      ]
     },
     "execution_count": 12,
     "metadata": {},
     "output_type": "execute_result"
    }
   ],
   "source": [
    "solve_for_exp(4, 1024)"
   ]
  },
  {
   "cell_type": "code",
   "execution_count": 13,
   "id": "1e8c2023",
   "metadata": {},
   "outputs": [
    {
     "data": {
      "text/plain": [
       "10"
      ]
     },
     "execution_count": 13,
     "metadata": {},
     "output_type": "execute_result"
    }
   ],
   "source": [
    "solve_for_exp(2, 1024)"
   ]
  },
  {
   "cell_type": "code",
   "execution_count": 14,
   "id": "07f2d1c7",
   "metadata": {},
   "outputs": [
    {
     "data": {
      "text/plain": [
       "10"
      ]
     },
     "execution_count": 14,
     "metadata": {},
     "output_type": "execute_result"
    }
   ],
   "source": [
    "solve_for_exp(9, 3486784401)"
   ]
  },
  {
   "cell_type": "code",
   "execution_count": null,
   "id": "91f228ae",
   "metadata": {},
   "outputs": [],
   "source": []
  },
  {
   "cell_type": "code",
   "execution_count": null,
   "id": "2d6f308f",
   "metadata": {},
   "outputs": [],
   "source": []
  }
 ],
 "metadata": {
  "kernelspec": {
   "display_name": "base",
   "language": "python",
   "name": "python3"
  },
  "language_info": {
   "codemirror_mode": {
    "name": "ipython",
    "version": 3
   },
   "file_extension": ".py",
   "mimetype": "text/x-python",
   "name": "python",
   "nbconvert_exporter": "python",
   "pygments_lexer": "ipython3",
   "version": "3.9.12"
  }
 },
 "nbformat": 4,
 "nbformat_minor": 5
}
